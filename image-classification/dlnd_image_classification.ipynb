{
 "cells": [
  {
   "cell_type": "markdown",
   "metadata": {
    "collapsed": true,
    "deletable": true,
    "editable": true
   },
   "source": [
    "# Image Classification\n",
    "In this project, you'll classify images from the [CIFAR-10 dataset](https://www.cs.toronto.edu/~kriz/cifar.html).  The dataset consists of airplanes, dogs, cats, and other objects. You'll preprocess the images, then train a convolutional neural network on all the samples. The images need to be normalized and the labels need to be one-hot encoded.  You'll get to apply what you learned and build a convolutional, max pooling, dropout, and fully connected layers.  At the end, you'll get to see your neural network's predictions on the sample images.\n",
    "## Get the Data\n",
    "Run the following cell to download the [CIFAR-10 dataset for python](https://www.cs.toronto.edu/~kriz/cifar-10-python.tar.gz)."
   ]
  },
  {
   "cell_type": "code",
   "execution_count": 1,
   "metadata": {
    "collapsed": false,
    "deletable": true,
    "editable": true
   },
   "outputs": [
    {
     "name": "stderr",
     "output_type": "stream",
     "text": [
      "CIFAR-10 Dataset: 171MB [00:56, 3.01MB/s]                              \n"
     ]
    },
    {
     "name": "stdout",
     "output_type": "stream",
     "text": [
      "All files found!\n"
     ]
    }
   ],
   "source": [
    "\"\"\"\n",
    "DON'T MODIFY ANYTHING IN THIS CELL THAT IS BELOW THIS LINE\n",
    "\"\"\"\n",
    "from urllib.request import urlretrieve\n",
    "from os.path import isfile, isdir\n",
    "from tqdm import tqdm\n",
    "import problem_unittests as tests\n",
    "import tarfile\n",
    "\n",
    "cifar10_dataset_folder_path = 'cifar-10-batches-py'\n",
    "\n",
    "class DLProgress(tqdm):\n",
    "    last_block = 0\n",
    "\n",
    "    def hook(self, block_num=1, block_size=1, total_size=None):\n",
    "        self.total = total_size\n",
    "        self.update((block_num - self.last_block) * block_size)\n",
    "        self.last_block = block_num\n",
    "\n",
    "if not isfile('cifar-10-python.tar.gz'):\n",
    "    with DLProgress(unit='B', unit_scale=True, miniters=1, desc='CIFAR-10 Dataset') as pbar:\n",
    "        urlretrieve(\n",
    "            'https://www.cs.toronto.edu/~kriz/cifar-10-python.tar.gz',\n",
    "            'cifar-10-python.tar.gz',\n",
    "            pbar.hook)\n",
    "\n",
    "if not isdir(cifar10_dataset_folder_path):\n",
    "    with tarfile.open('cifar-10-python.tar.gz') as tar:\n",
    "        tar.extractall()\n",
    "        tar.close()\n",
    "\n",
    "\n",
    "tests.test_folder_path(cifar10_dataset_folder_path)"
   ]
  },
  {
   "cell_type": "markdown",
   "metadata": {
    "deletable": true,
    "editable": true
   },
   "source": [
    "## Explore the Data\n",
    "The dataset is broken into batches to prevent your machine from running out of memory.  The CIFAR-10 dataset consists of 5 batches, named `data_batch_1`, `data_batch_2`, etc.. Each batch contains the labels and images that are one of the following:\n",
    "* airplane\n",
    "* automobile\n",
    "* bird\n",
    "* cat\n",
    "* deer\n",
    "* dog\n",
    "* frog\n",
    "* horse\n",
    "* ship\n",
    "* truck\n",
    "\n",
    "Understanding a dataset is part of making predictions on the data.  Play around with the code cell below by changing the `batch_id` and `sample_id`. The `batch_id` is the id for a batch (1-5). The `sample_id` is the id for a image and label pair in the batch.\n",
    "\n",
    "Ask yourself \"What are all possible labels?\", \"What is the range of values for the image data?\", \"Are the labels in order or random?\".  Answers to questions like these will help you preprocess the data and end up with better predictions."
   ]
  },
  {
   "cell_type": "code",
   "execution_count": 2,
   "metadata": {
    "collapsed": false,
    "deletable": true,
    "editable": true
   },
   "outputs": [
    {
     "name": "stdout",
     "output_type": "stream",
     "text": [
      "\n",
      "Stats of batch 1:\n",
      "Samples: 10000\n",
      "Label Counts: {0: 1005, 1: 974, 2: 1032, 3: 1016, 4: 999, 5: 937, 6: 1030, 7: 1001, 8: 1025, 9: 981}\n",
      "First 20 Labels: [6, 9, 9, 4, 1, 1, 2, 7, 8, 3, 4, 7, 7, 2, 9, 9, 9, 3, 2, 6]\n",
      "\n",
      "Example of Image 10:\n",
      "Image - Min Value: 24 Max Value: 130\n",
      "Image - Shape: (32, 32, 3)\n",
      "Label - Label Id: 4 Name: deer\n"
     ]
    },
    {
     "data": {
      "image/png": "[encoded data removed]",
      "text/plain": [
       "<matplotlib.figure.Figure at 0x7f15627109b0>"
      ]
     },
     "metadata": {
      "image/png": {
       "height": 250,
       "width": 253
      }
     },
     "output_type": "display_data"
    }
   ],
   "source": [
    "%matplotlib inline\n",
    "%config InlineBackend.figure_format = 'retina'\n",
    "\n",
    "import helper\n",
    "import numpy as np\n",
    "\n",
    "# Explore the dataset\n",
    "batch_id = 1\n",
    "sample_id = 10\n",
    "helper.display_stats(cifar10_dataset_folder_path, batch_id, sample_id)"
   ]
  },
  {
   "cell_type": "markdown",
   "metadata": {
    "deletable": true,
    "editable": true
   },
   "source": [
    "## Implement Preprocess Functions\n",
    "### Normalize\n",
    "In the cell below, implement the `normalize` function to take in image data, `x`, and return it as a normalized Numpy array. The values should be in the range of 0 to 1, inclusive.  The return object should be the same shape as `x`."
   ]
  },
  {
   "cell_type": "code",
   "execution_count": 3,
   "metadata": {
    "collapsed": false,
    "deletable": true,
    "editable": true
   },
   "outputs": [
    {
     "name": "stdout",
     "output_type": "stream",
     "text": [
      "Tests Passed\n"
     ]
    }
   ],
   "source": [
    "def normalize(x):\n",
    "    \"\"\"\n",
    "    Normalize a list of sample image data in the range of 0 to 1\n",
    "    : x: List of image data.  The image shape is (32, 32, 3)\n",
    "    : return: Numpy array of normalize data\n",
    "    \"\"\"\n",
    "    a = 0\n",
    "    b = 1\n",
    "    grayscale_min = 0\n",
    "    grayscale_max = 255\n",
    "    return a + ( ( (x - grayscale_min)*(b - a) )/( grayscale_max - grayscale_min ) )\n",
    "\n",
    "\n",
    "\"\"\"\n",
    "DON'T MODIFY ANYTHING IN THIS CELL THAT IS BELOW THIS LINE\n",
    "\"\"\"\n",
    "tests.test_normalize(normalize)"
   ]
  },
  {
   "cell_type": "markdown",
   "metadata": {
    "deletable": true,
    "editable": true
   },
   "source": [
    "### One-hot encode\n",
    "Just like the previous code cell, you'll be implementing a function for preprocessing.  This time, you'll implement the `one_hot_encode` function. The input, `x`, are a list of labels.  Implement the function to return the list of labels as One-Hot encoded Numpy array.  The possible values for labels are 0 to 9. The one-hot encoding function should return the same encoding for each value between each call to `one_hot_encode`.  Make sure to save the map of encodings outside the function.\n",
    "\n",
    "Hint: Don't reinvent the wheel."
   ]
  },
  {
   "cell_type": "code",
   "execution_count": 4,
   "metadata": {
    "collapsed": false,
    "deletable": true,
    "editable": true
   },
   "outputs": [
    {
     "name": "stdout",
     "output_type": "stream",
     "text": [
      "Tests Passed\n"
     ]
    }
   ],
   "source": [
    "from sklearn.preprocessing import LabelBinarizer\n",
    "def one_hot_encode(x):\n",
    "    \"\"\"\n",
    "    One hot encode a list of sample labels. Return a one-hot encoded vector for each label.\n",
    "    : x: List of sample Labels\n",
    "    : return: Numpy array of one-hot encoded labels\n",
    "    \"\"\"\n",
    "    lb = LabelBinarizer()\n",
    "    lb.fit([0,1,2,3,4,5,6,7,8,9])\n",
    "    one_hot_x = lb.transform(x)\n",
    "    #print (x)\n",
    "    #print (one_hot_x)\n",
    "    return one_hot_x\n",
    "\n",
    "\n",
    "\"\"\"\n",
    "DON'T MODIFY ANYTHING IN THIS CELL THAT IS BELOW THIS LINE\n",
    "\"\"\"\n",
    "tests.test_one_hot_encode(one_hot_encode)"
   ]
  },
  {
   "cell_type": "markdown",
   "metadata": {
    "deletable": true,
    "editable": true
   },
   "source": [
    "### Randomize Data\n",
    "As you saw from exploring the data above, the order of the samples are randomized.  It doesn't hurt to randomize it again, but you don't need to for this dataset."
   ]
  },
  {
   "cell_type": "markdown",
   "metadata": {
    "deletable": true,
    "editable": true
   },
   "source": [
    "## Preprocess all the data and save it\n",
    "Running the code cell below will preprocess all the CIFAR-10 data and save it to file. The code below also uses 10% of the training data for validation."
   ]
  },
  {
   "cell_type": "code",
   "execution_count": 5,
   "metadata": {
    "collapsed": false,
    "deletable": true,
    "editable": true
   },
   "outputs": [],
   "source": [
    "\"\"\"\n",
    "DON'T MODIFY ANYTHING IN THIS CELL\n",
    "\"\"\"\n",
    "# Preprocess Training, Validation, and Testing Data\n",
    "helper.preprocess_and_save_data(cifar10_dataset_folder_path, normalize, one_hot_encode)"
   ]
  },
  {
   "cell_type": "markdown",
   "metadata": {
    "deletable": true,
    "editable": true
   },
   "source": [
    "# Check Point\n",
    "This is your first checkpoint.  If you ever decide to come back to this notebook or have to restart the notebook, you can start from here.  The preprocessed data has been saved to disk."
   ]
  },
  {
   "cell_type": "code",
   "execution_count": 6,
   "metadata": {
    "collapsed": true,
    "deletable": true,
    "editable": true
   },
   "outputs": [],
   "source": [
    "\"\"\"\n",
    "DON'T MODIFY ANYTHING IN THIS CELL\n",
    "\"\"\"\n",
    "import pickle\n",
    "import problem_unittests as tests\n",
    "import helper\n",
    "\n",
    "# Load the Preprocessed Validation data\n",
    "valid_features, valid_labels = pickle.load(open('preprocess_validation.p', mode='rb'))"
   ]
  },
  {
   "cell_type": "markdown",
   "metadata": {
    "deletable": true,
    "editable": true
   },
   "source": [
    "## Build the network\n",
    "For the neural network, you'll build each layer into a function.  Most of the code you've seen has been outside of functions. To test your code more thoroughly, we require that you put each layer in a function.  This allows us to give you better feedback and test for simple mistakes using our unittests before you submit your project.\n",
    "\n",
    ">**Note:** If you're finding it hard to dedicate enough time for this course each week, we've provided a small shortcut to this part of the project. In the next couple of problems, you'll have the option to use classes from the [TensorFlow Layers](https://www.tensorflow.org/api_docs/python/tf/layers) or [TensorFlow Layers (contrib)](https://www.tensorflow.org/api_guides/python/contrib.layers) packages to build each layer, except the layers you build in the \"Convolutional and Max Pooling Layer\" section.  TF Layers is similar to Keras's and TFLearn's abstraction to layers, so it's easy to pickup.\n",
    "\n",
    ">However, if you would like to get the most out of this course, try to solve all the problems _without_ using anything from the TF Layers packages. You **can** still use classes from other packages that happen to have the same name as ones you find in TF Layers! For example, instead of using the TF Layers version of the `conv2d` class, [tf.layers.conv2d](https://www.tensorflow.org/api_docs/python/tf/layers/conv2d), you would want to use the TF Neural Network version of `conv2d`, [tf.nn.conv2d](https://www.tensorflow.org/api_docs/python/tf/nn/conv2d). \n",
    "\n",
    "Let's begin!\n",
    "\n",
    "### Input\n",
    "The neural network needs to read the image data, one-hot encoded labels, and dropout keep probability. Implement the following functions\n",
    "* Implement `neural_net_image_input`\n",
    " * Return a [TF Placeholder](https://www.tensorflow.org/api_docs/python/tf/placeholder)\n",
    " * Set the shape using `image_shape` with batch size set to `None`.\n",
    " * Name the TensorFlow placeholder \"x\" using the TensorFlow `name` parameter in the [TF Placeholder](https://www.tensorflow.org/api_docs/python/tf/placeholder).\n",
    "* Implement `neural_net_label_input`\n",
    " * Return a [TF Placeholder](https://www.tensorflow.org/api_docs/python/tf/placeholder)\n",
    " * Set the shape using `n_classes` with batch size set to `None`.\n",
    " * Name the TensorFlow placeholder \"y\" using the TensorFlow `name` parameter in the [TF Placeholder](https://www.tensorflow.org/api_docs/python/tf/placeholder).\n",
    "* Implement `neural_net_keep_prob_input`\n",
    " * Return a [TF Placeholder](https://www.tensorflow.org/api_docs/python/tf/placeholder) for dropout keep probability.\n",
    " * Name the TensorFlow placeholder \"keep_prob\" using the TensorFlow `name` parameter in the [TF Placeholder](https://www.tensorflow.org/api_docs/python/tf/placeholder).\n",
    "\n",
    "These names will be used at the end of the project to load your saved model.\n",
    "\n",
    "Note: `None` for shapes in TensorFlow allow for a dynamic size."
   ]
  },
  {
   "cell_type": "code",
   "execution_count": 7,
   "metadata": {
    "collapsed": false,
    "deletable": true,
    "editable": true
   },
   "outputs": [
    {
     "name": "stdout",
     "output_type": "stream",
     "text": [
      "Image Input Tests Passed.\n",
      "Label Input Tests Passed.\n",
      "Keep Prob Tests Passed.\n"
     ]
    }
   ],
   "source": [
    "import tensorflow as tf\n",
    "\n",
    "def neural_net_image_input(image_shape):\n",
    "    \"\"\"\n",
    "    Return a Tensor for a bach of image input\n",
    "    : image_shape: Shape of the images\n",
    "    : return: Tensor for image input.\n",
    "    \"\"\"\n",
    "    #print (image_shape)\n",
    "    return tf.placeholder(tf.float32,shape =[None,*image_shape],name='x')\n",
    "\n",
    "\n",
    "def neural_net_label_input(n_classes):\n",
    "    \"\"\"\n",
    "    Return a Tensor for a batch of label input\n",
    "    : n_classes: Number of classes\n",
    "    : return: Tensor for label input.\n",
    "    \"\"\"\n",
    "    #print (n_classes)\n",
    "    return tf.placeholder(tf.float32,shape =[None,10],name='y')\n",
    "\n",
    "\n",
    "def neural_net_keep_prob_input():\n",
    "    \"\"\"\n",
    "    Return a Tensor for keep probability\n",
    "    : return: Tensor for keep probability.\n",
    "    \"\"\"\n",
    "   \n",
    "    return tf.placeholder(tf.float32,name='keep_prob')\n",
    "\n",
    "\n",
    "\"\"\"\n",
    "DON'T MODIFY ANYTHING IN THIS CELL THAT IS BELOW THIS LINE\n",
    "\"\"\"\n",
    "tf.reset_default_graph()\n",
    "tests.test_nn_image_inputs(neural_net_image_input)\n",
    "tests.test_nn_label_inputs(neural_net_label_input)\n",
    "tests.test_nn_keep_prob_inputs(neural_net_keep_prob_input)"
   ]
  },
  {
   "cell_type": "markdown",
   "metadata": {
    "deletable": true,
    "editable": true
   },
   "source": [
    "### Convolution and Max Pooling Layer\n",
    "Convolution layers have a lot of success with images. For this code cell, you should implement the function `conv2d_maxpool` to apply convolution then max pooling:\n",
    "* Create the weight and bias using `conv_ksize`, `conv_num_outputs` and the shape of `x_tensor`.\n",
    "* Apply a convolution to `x_tensor` using weight and `conv_strides`.\n",
    " * We recommend you use same padding, but you're welcome to use any padding.\n",
    "* Add bias\n",
    "* Add a nonlinear activation to the convolution.\n",
    "* Apply Max Pooling using `pool_ksize` and `pool_strides`.\n",
    " * We recommend you use same padding, but you're welcome to use any padding.\n",
    "\n",
    "**Note:** You **can't** use [TensorFlow Layers](https://www.tensorflow.org/api_docs/python/tf/layers) or [TensorFlow Layers (contrib)](https://www.tensorflow.org/api_guides/python/contrib.layers) for **this** layer, but you can still use TensorFlow's [Neural Network](https://www.tensorflow.org/api_docs/python/tf/nn) package. You may still use the shortcut option for all the **other** layers."
   ]
  },
  {
   "cell_type": "code",
   "execution_count": 8,
   "metadata": {
    "collapsed": false,
    "deletable": true,
    "editable": true
   },
   "outputs": [
    {
     "name": "stdout",
     "output_type": "stream",
     "text": [
      "Tensor(\"Placeholder:0\", shape=(?, 32, 32, 5), dtype=float32) 10 (2, 2) (4, 4) (2, 2) (2, 2)\n",
      "Tests Passed\n"
     ]
    }
   ],
   "source": [
    "def conv2d_maxpool(x_tensor, conv_num_outputs, conv_ksize, conv_strides, pool_ksize, pool_strides):\n",
    "    \"\"\"\n",
    "    Apply convolution then max pooling to x_tensor\n",
    "    :param x_tensor: TensorFlow Tensor\n",
    "    :param conv_num_outputs: Number of outputs for the convolutional layer\n",
    "    :param conv_ksize: kernal size 2-D Tuple for the convolutional layer\n",
    "    :param conv_strides: Stride 2-D Tuple for convolution\n",
    "    :param pool_ksize: kernal size 2-D Tuple for pool\n",
    "    :param pool_strides: Stride 2-D Tuple for pool\n",
    "    : return: A tensor that represents convolution and max pooling of x_tensor\n",
    "    \"\"\"\n",
    "    #print(x_tensor, conv_num_outputs, conv_ksize, conv_strides, pool_ksize, pool_strides)\n",
    "    filter_size_height = conv_ksize[0]\n",
    "    filter_size_width = conv_ksize[1]\n",
    "    x_tensor_depth = int(x_tensor.get_shape()[3])\n",
    "    #print(type(x_tensor_depth))\n",
    "    #print (filter_size_height,filter_size_width,x_tensor_depth)\n",
    "    weight = tf.Variable(tf.truncated_normal([filter_size_height, filter_size_width, x_tensor_depth, conv_num_outputs], stddev=0.1))\n",
    "    bias = tf.Variable(tf.zeros(conv_num_outputs))\n",
    "    conv_layer = tf.nn.conv2d(x_tensor, weight, [1,conv_strides[0],conv_strides[1],1], padding='SAME')\n",
    "    conv_layer = tf.nn.bias_add(conv_layer, bias)\n",
    "    conv_layer = tf.nn.relu(conv_layer)\n",
    "    conv_layer = tf.nn.max_pool(conv_layer,[1,pool_ksize[0],pool_ksize[1],1],[1,pool_strides[0],pool_strides[1],1],padding='SAME')\n",
    "    print (x_tensor, conv_num_outputs, conv_ksize, conv_strides, pool_ksize, pool_strides)\n",
    "    return conv_layer \n",
    "\n",
    "\n",
    "\"\"\"\n",
    "DON'T MODIFY ANYTHING IN THIS CELL THAT IS BELOW THIS LINE\n",
    "\"\"\"\n",
    "tests.test_con_pool(conv2d_maxpool)"
   ]
  },
  {
   "cell_type": "markdown",
   "metadata": {
    "deletable": true,
    "editable": true
   },
   "source": [
    "### Flatten Layer\n",
    "Implement the `flatten` function to change the dimension of `x_tensor` from a 4-D tensor to a 2-D tensor.  The output should be the shape (*Batch Size*, *Flattened Image Size*). Shortcut option: you can use classes from the [TensorFlow Layers](https://www.tensorflow.org/api_docs/python/tf/layers) or [TensorFlow Layers (contrib)](https://www.tensorflow.org/api_guides/python/contrib.layers) packages for this layer. For more of a challenge, only use other TensorFlow packages."
   ]
  },
  {
   "cell_type": "code",
   "execution_count": 9,
   "metadata": {
    "collapsed": false,
    "deletable": true,
    "editable": true
   },
   "outputs": [
    {
     "name": "stdout",
     "output_type": "stream",
     "text": [
      "Tests Passed\n"
     ]
    }
   ],
   "source": [
    "def flatten(x_tensor):\n",
    "    \"\"\"\n",
    "    Flatten x_tensor to (Batch Size, Flattened Image Size)\n",
    "    : x_tensor: A tensor of size (Batch Size, ...), where ... are the image dimensions.\n",
    "    : return: A tensor of size (Batch Size, Flattened Image Size).\n",
    "    \"\"\"\n",
    "    \n",
    "    return tf.contrib.layers.flatten(x_tensor)\n",
    "\n",
    "\n",
    "\"\"\"\n",
    "DON'T MODIFY ANYTHING IN THIS CELL THAT IS BELOW THIS LINE\n",
    "\"\"\"\n",
    "tests.test_flatten(flatten)"
   ]
  },
  {
   "cell_type": "markdown",
   "metadata": {
    "deletable": true,
    "editable": true
   },
   "source": [
    "### Fully-Connected Layer\n",
    "Implement the `fully_conn` function to apply a fully connected layer to `x_tensor` with the shape (*Batch Size*, *num_outputs*). Shortcut option: you can use classes from the [TensorFlow Layers](https://www.tensorflow.org/api_docs/python/tf/layers) or [TensorFlow Layers (contrib)](https://www.tensorflow.org/api_guides/python/contrib.layers) packages for this layer. For more of a challenge, only use other TensorFlow packages."
   ]
  },
  {
   "cell_type": "code",
   "execution_count": 10,
   "metadata": {
    "collapsed": false,
    "deletable": true,
    "editable": true
   },
   "outputs": [
    {
     "name": "stdout",
     "output_type": "stream",
     "text": [
      "Tests Passed\n"
     ]
    }
   ],
   "source": [
    "def fully_conn(x_tensor, num_outputs):\n",
    "    \"\"\"\n",
    "    Apply a fully connected layer to x_tensor using weight and bias\n",
    "    : x_tensor: A 2-D tensor where the first dimension is batch size.\n",
    "    : num_outputs: The number of output that the new tensor should be.\n",
    "    : return: A 2-D tensor where the second dimension is num_outputs.\n",
    "    \"\"\"\n",
    "    \n",
    "    return tf.contrib.layers.fully_connected(x_tensor,num_outputs)\n",
    "\n",
    "\n",
    "\"\"\"\n",
    "DON'T MODIFY ANYTHING IN THIS CELL THAT IS BELOW THIS LINE\n",
    "\"\"\"\n",
    "tests.test_fully_conn(fully_conn)"
   ]
  },
  {
   "cell_type": "markdown",
   "metadata": {
    "deletable": true,
    "editable": true
   },
   "source": [
    "### Output Layer\n",
    "Implement the `output` function to apply a fully connected layer to `x_tensor` with the shape (*Batch Size*, *num_outputs*). Shortcut option: you can use classes from the [TensorFlow Layers](https://www.tensorflow.org/api_docs/python/tf/layers) or [TensorFlow Layers (contrib)](https://www.tensorflow.org/api_guides/python/contrib.layers) packages for this layer. For more of a challenge, only use other TensorFlow packages.\n",
    "\n",
    "**Note:** Activation, softmax, or cross entropy should **not** be applied to this."
   ]
  },
  {
   "cell_type": "code",
   "execution_count": 12,
   "metadata": {
    "collapsed": false,
    "deletable": true,
    "editable": true
   },
   "outputs": [
    {
     "name": "stdout",
     "output_type": "stream",
     "text": [
      "Tests Passed\n"
     ]
    }
   ],
   "source": [
    "def output(x_tensor, num_outputs):\n",
    "    \"\"\"\n",
    "    Apply a output layer to x_tensor using weight and bias\n",
    "    : x_tensor: A 2-D tensor where the first dimension is batch size.\n",
    "    : num_outputs: The number of output that the new tensor should be.\n",
    "    : return: A 2-D tensor where the second dimension is num_outputs.\n",
    "    \"\"\"\n",
    "    # TODO: Implement Function\n",
    "    return tf.layers.dense(inputs=x_tensor, units=num_outputs, activation=tf.nn.relu)\n",
    "\n",
    "\n",
    "\"\"\"\n",
    "DON'T MODIFY ANYTHING IN THIS CELL THAT IS BELOW THIS LINE\n",
    "\"\"\"\n",
    "tests.test_output(output)"
   ]
  },
  {
   "cell_type": "markdown",
   "metadata": {
    "deletable": true,
    "editable": true
   },
   "source": [
    "### Create Convolutional Model\n",
    "Implement the function `conv_net` to create a convolutional neural network model. The function takes in a batch of images, `x`, and outputs logits.  Use the layers you created above to create this model:\n",
    "\n",
    "* Apply 1, 2, or 3 Convolution and Max Pool layers\n",
    "* Apply a Flatten Layer\n",
    "* Apply 1, 2, or 3 Fully Connected Layers\n",
    "* Apply an Output Layer\n",
    "* Return the output\n",
    "* Apply [TensorFlow's Dropout](https://www.tensorflow.org/api_docs/python/tf/nn/dropout) to one or more layers in the model using `keep_prob`. "
   ]
  },
  {
   "cell_type": "code",
   "execution_count": 91,
   "metadata": {
    "collapsed": false
   },
   "outputs": [
    {
     "name": "stdout",
     "output_type": "stream",
     "text": [
      "Tensor(\"x:0\", shape=(?, 32, 32, 3), dtype=float32) 64 (5, 5) (2, 2) (3, 3) (2, 2)\n",
      "Tensor(\"MaxPool:0\", shape=(?, 8, 8, 64), dtype=float32) 64 (5, 5) (2, 2) (3, 3) (2, 2)\n",
      "Tensor(\"MaxPool_1:0\", shape=(?, 2, 2, 64), dtype=float32) 64 (5, 5) (2, 2) (3, 3) (2, 2)\n",
      "Tensor(\"Placeholder:0\", shape=(?, 32, 32, 3), dtype=float32) 64 (5, 5) (2, 2) (3, 3) (2, 2)\n",
      "Tensor(\"MaxPool_3:0\", shape=(?, 8, 8, 64), dtype=float32) 64 (5, 5) (2, 2) (3, 3) (2, 2)\n",
      "Tensor(\"MaxPool_4:0\", shape=(?, 2, 2, 64), dtype=float32) 64 (5, 5) (2, 2) (3, 3) (2, 2)\n",
      "Neural Network Built!\n"
     ]
    }
   ],
   "source": [
    "def conv_net(x, keep_prob):\n",
    "    \"\"\"\n",
    "    Create a convolutional neural network model\n",
    "    : x: Placeholder tensor that holds image data.\n",
    "    : keep_prob: Placeholder tensor that hold dropout keep probability.\n",
    "    : return: Tensor that represents logits\n",
    "    \"\"\"\n",
    "    # Apply 1, 2, or 3 Convolution and Max Pool layers\n",
    "    #    Play around with different number of outputs, kernel size and stride\n",
    "    # Function Definition from Above:\n",
    "    #    conv2d_maxpool(x_tensor, conv_num_outputs, conv_ksize, conv_strides, pool_ksize, pool_strides)\n",
    "    conv_num_outputs = 64\n",
    "    conv_ksize = (5, 5)\n",
    "    conv_strides = (2,2)\n",
    "    pool_ksize = (3, 3)\n",
    "    pool_strides = (2,2)\n",
    "    n_class = 10\n",
    "    \n",
    "    conv_layer = conv2d_maxpool(x, conv_num_outputs, conv_ksize, conv_strides, pool_ksize, pool_strides)\n",
    "    conv_layer = conv2d_maxpool(conv_layer, conv_num_outputs, conv_ksize, conv_strides, pool_ksize, pool_strides)\n",
    "    conv_layer = conv2d_maxpool(conv_layer, conv_num_outputs, conv_ksize, conv_strides, pool_ksize, pool_strides)\n",
    "    \n",
    "    #  Apply a Flatten Layer\n",
    "    # Function Definition from Above:\n",
    "    #   flatten(x_tensor)\n",
    "    flat_x = flatten(conv_layer)\n",
    "    \n",
    "    #    Play around with different number of outputs\n",
    "    # Function Definition from Above:\n",
    "    #   fully_conn(x_tensor, num_outputs)\n",
    "    full_layer = fully_conn(flat_x,32)\n",
    "    full_layer = fully_conn(full_layer,n_class)\n",
    "    #full_layer = fully_conn(full_layer,n_class)\n",
    "    \n",
    "    #    Set this to the number of classes\n",
    "    # Function Definition from Above:\n",
    "    #   output(x_tensor, num_outputs)\n",
    "    drop_layer = tf.layers.dropout(full_layer,rate = keep_prob)\n",
    "    out = output(drop_layer, n_class)\n",
    "    # TODO: return output\n",
    "    return out\n",
    "\n",
    "\n",
    "\"\"\"\n",
    "DON'T MODIFY ANYTHING IN THIS CELL THAT IS BELOW THIS LINE\n",
    "\"\"\"\n",
    "\n",
    "##############################\n",
    "## Build the Neural Network ##\n",
    "##############################\n",
    "\n",
    "# Remove previous weights, bias, inputs, etc..\n",
    "tf.reset_default_graph()\n",
    "\n",
    "# Inputs\n",
    "x = neural_net_image_input((32, 32, 3))\n",
    "y = neural_net_label_input(10)\n",
    "keep_prob = neural_net_keep_prob_input()\n",
    "\n",
    "# Model\n",
    "logits = conv_net(x, keep_prob)\n",
    "\n",
    "# Name logits Tensor, so that is can be loaded from disk after training\n",
    "logits = tf.identity(logits, name='logits')\n",
    "\n",
    "# Loss and Optimizer\n",
    "cost = tf.reduce_mean(tf.nn.softmax_cross_entropy_with_logits(logits=logits, labels=y))\n",
    "optimizer = tf.train.AdamOptimizer().minimize(cost)\n",
    "\n",
    "# Accuracy\n",
    "correct_pred = tf.equal(tf.argmax(logits, 1), tf.argmax(y, 1))\n",
    "accuracy = tf.reduce_mean(tf.cast(correct_pred, tf.float32), name='accuracy')\n",
    "\n",
    "tests.test_conv_net(conv_net)"
   ]
  },
  {
   "cell_type": "markdown",
   "metadata": {
    "deletable": true,
    "editable": true
   },
   "source": [
    "## Train the Neural Network\n",
    "### Single Optimization\n",
    "Implement the function `train_neural_network` to do a single optimization.  The optimization should use `optimizer` to optimize in `session` with a `feed_dict` of the following:\n",
    "* `x` for image input\n",
    "* `y` for labels\n",
    "* `keep_prob` for keep probability for dropout\n",
    "\n",
    "This function will be called for each batch, so `tf.global_variables_initializer()` has already been called.\n",
    "\n",
    "Note: Nothing needs to be returned. This function is only optimizing the neural network."
   ]
  },
  {
   "cell_type": "code",
   "execution_count": 29,
   "metadata": {
    "collapsed": false,
    "deletable": true,
    "editable": true
   },
   "outputs": [
    {
     "name": "stdout",
     "output_type": "stream",
     "text": [
      "Tests Passed\n"
     ]
    }
   ],
   "source": [
    "def train_neural_network(session, optimizer, keep_probability, feature_batch, label_batch):\n",
    "    \"\"\"\n",
    "    Optimize the session on a batch of images and labels\n",
    "    : session: Current TensorFlow session\n",
    "    : optimizer: TensorFlow optimizer function\n",
    "    : keep_probability: keep probability\n",
    "    : feature_batch: Batch of Numpy image data\n",
    "    : label_batch: Batch of Numpy label data\n",
    "    \"\"\"\n",
    "    train_feed_dict = {\n",
    "        x: feature_batch,\n",
    "        y: label_batch,\n",
    "        keep_prob: keep_probability     \n",
    "    }\n",
    "    session.run(optimizer, train_feed_dict)\n",
    "    pass\n",
    "\n",
    "\n",
    "\"\"\"\n",
    "DON'T MODIFY ANYTHING IN THIS CELL THAT IS BELOW THIS LINE\n",
    "\"\"\"\n",
    "tests.test_train_nn(train_neural_network)"
   ]
  },
  {
   "cell_type": "markdown",
   "metadata": {
    "deletable": true,
    "editable": true
   },
   "source": [
    "### Show Stats\n",
    "Implement the function `print_stats` to print loss and validation accuracy.  Use the global variables `valid_features` and `valid_labels` to calculate validation accuracy.  Use a keep probability of `1.0` to calculate the loss and validation accuracy."
   ]
  },
  {
   "cell_type": "code",
   "execution_count": 30,
   "metadata": {
    "collapsed": false,
    "deletable": true,
    "editable": true
   },
   "outputs": [],
   "source": [
    "def print_stats(session, feature_batch, label_batch, cost, accuracy):\n",
    "    \"\"\"\n",
    "    Print information about loss and validation accuracy\n",
    "    : session: Current TensorFlow session\n",
    "    : feature_batch: Batch of Numpy image data\n",
    "    : label_batch: Batch of Numpy label data\n",
    "    : cost: TensorFlow cost function\n",
    "    : accuracy: TensorFlow accuracy function\n",
    "    \"\"\"\n",
    "    loss = session.run(cost, feed_dict={\n",
    "        x: feature_batch,\n",
    "        y: label_batch,\n",
    "        keep_prob: 1.})\n",
    "    valid_accuracy = session.run(accuracy, feed_dict={\n",
    "        x: valid_features,\n",
    "        y: valid_labels,\n",
    "        keep_prob:1.})\n",
    "    print ('loss:',loss,'valid_accuracy',valid_accuracy)"
   ]
  },
  {
   "cell_type": "markdown",
   "metadata": {
    "deletable": true,
    "editable": true
   },
   "source": [
    "### Hyperparameters\n",
    "Tune the following parameters:\n",
    "* Set `epochs` to the number of iterations until the network stops learning or start overfitting\n",
    "* Set `batch_size` to the highest number that your machine has memory for.  Most people set them to common sizes of memory:\n",
    " * 64\n",
    " * 128\n",
    " * 256\n",
    " * ...\n",
    "* Set `keep_probability` to the probability of keeping a node using dropout"
   ]
  },
  {
   "cell_type": "code",
   "execution_count": 92,
   "metadata": {
    "collapsed": true,
    "deletable": true,
    "editable": true
   },
   "outputs": [],
   "source": [
    "epochs = 100\n",
    "batch_size = 1024\n",
    "keep_probability = 0.7"
   ]
  },
  {
   "cell_type": "markdown",
   "metadata": {
    "deletable": true,
    "editable": true
   },
   "source": [
    "### Train on a Single CIFAR-10 Batch\n",
    "Instead of training the neural network on all the CIFAR-10 batches of data, let's use a single batch. This should save time while you iterate on the model to get a better accuracy.  Once the final validation accuracy is 50% or greater, run the model on all the data in the next section."
   ]
  },
  {
   "cell_type": "code",
   "execution_count": 93,
   "metadata": {
    "collapsed": false,
    "deletable": true,
    "editable": true
   },
   "outputs": [
    {
     "name": "stdout",
     "output_type": "stream",
     "text": [
      "Checking the Training on a Single Batch...\n",
      "Epoch  1, CIFAR-10 Batch 1:  loss: 2.30733 valid_accuracy 0.1192\n",
      "Epoch  2, CIFAR-10 Batch 1:  loss: 2.28907 valid_accuracy 0.117\n",
      "Epoch  3, CIFAR-10 Batch 1:  loss: 2.26558 valid_accuracy 0.1676\n",
      "Epoch  4, CIFAR-10 Batch 1:  loss: 2.23254 valid_accuracy 0.194\n",
      "Epoch  5, CIFAR-10 Batch 1:  loss: 2.18858 valid_accuracy 0.213\n",
      "Epoch  6, CIFAR-10 Batch 1:  loss: 2.15051 valid_accuracy 0.2306\n",
      "Epoch  7, CIFAR-10 Batch 1:  loss: 2.12575 valid_accuracy 0.2364\n",
      "Epoch  8, CIFAR-10 Batch 1:  loss: 2.0875 valid_accuracy 0.2592\n",
      "Epoch  9, CIFAR-10 Batch 1:  loss: 2.0611 valid_accuracy 0.2832\n",
      "Epoch 10, CIFAR-10 Batch 1:  loss: 2.03713 valid_accuracy 0.2736\n",
      "Epoch 11, CIFAR-10 Batch 1:  loss: 1.991 valid_accuracy 0.3112\n",
      "Epoch 12, CIFAR-10 Batch 1:  loss: 1.9538 valid_accuracy 0.3218\n",
      "Epoch 13, CIFAR-10 Batch 1:  loss: 1.93451 valid_accuracy 0.3232\n",
      "Epoch 14, CIFAR-10 Batch 1:  loss: 1.91373 valid_accuracy 0.3252\n",
      "Epoch 15, CIFAR-10 Batch 1:  loss: 1.85616 valid_accuracy 0.3404\n",
      "Epoch 16, CIFAR-10 Batch 1:  loss: 1.81648 valid_accuracy 0.3444\n",
      "Epoch 17, CIFAR-10 Batch 1:  loss: 1.81386 valid_accuracy 0.3358\n",
      "Epoch 18, CIFAR-10 Batch 1:  loss: 1.803 valid_accuracy 0.341\n",
      "Epoch 19, CIFAR-10 Batch 1:  loss: 1.71069 valid_accuracy 0.3842\n",
      "Epoch 20, CIFAR-10 Batch 1:  loss: 1.67832 valid_accuracy 0.3768\n",
      "Epoch 21, CIFAR-10 Batch 1:  loss: 1.63942 valid_accuracy 0.385\n",
      "Epoch 22, CIFAR-10 Batch 1:  loss: 1.57206 valid_accuracy 0.399\n",
      "Epoch 23, CIFAR-10 Batch 1:  loss: 1.54384 valid_accuracy 0.4124\n",
      "Epoch 24, CIFAR-10 Batch 1:  loss: 1.49073 valid_accuracy 0.423\n",
      "Epoch 25, CIFAR-10 Batch 1:  loss: 1.4541 valid_accuracy 0.4298\n",
      "Epoch 26, CIFAR-10 Batch 1:  loss: 1.43319 valid_accuracy 0.44\n",
      "Epoch 27, CIFAR-10 Batch 1:  loss: 1.45182 valid_accuracy 0.4316\n",
      "Epoch 28, CIFAR-10 Batch 1:  loss: 1.3734 valid_accuracy 0.456\n",
      "Epoch 29, CIFAR-10 Batch 1:  loss: 1.35454 valid_accuracy 0.4632\n",
      "Epoch 30, CIFAR-10 Batch 1:  loss: 1.35371 valid_accuracy 0.462\n",
      "Epoch 31, CIFAR-10 Batch 1:  loss: 1.3633 valid_accuracy 0.46\n",
      "Epoch 32, CIFAR-10 Batch 1:  loss: 1.34392 valid_accuracy 0.461\n",
      "Epoch 33, CIFAR-10 Batch 1:  loss: 1.30995 valid_accuracy 0.4704\n",
      "Epoch 34, CIFAR-10 Batch 1:  loss: 1.27305 valid_accuracy 0.4816\n",
      "Epoch 35, CIFAR-10 Batch 1:  loss: 1.26665 valid_accuracy 0.481\n",
      "Epoch 36, CIFAR-10 Batch 1:  loss: 1.24839 valid_accuracy 0.4836\n",
      "Epoch 37, CIFAR-10 Batch 1:  loss: 1.22236 valid_accuracy 0.4914\n",
      "Epoch 38, CIFAR-10 Batch 1:  loss: 1.22365 valid_accuracy 0.49\n",
      "Epoch 39, CIFAR-10 Batch 1:  loss: 1.22804 valid_accuracy 0.4854\n",
      "Epoch 40, CIFAR-10 Batch 1:  loss: 1.21296 valid_accuracy 0.4884\n",
      "Epoch 41, CIFAR-10 Batch 1:  loss: 1.17054 valid_accuracy 0.4964\n",
      "Epoch 42, CIFAR-10 Batch 1:  loss: 1.16957 valid_accuracy 0.5074\n",
      "Epoch 43, CIFAR-10 Batch 1:  loss: 1.19744 valid_accuracy 0.4932\n",
      "Epoch 44, CIFAR-10 Batch 1:  loss: 1.13771 valid_accuracy 0.5022\n",
      "Epoch 45, CIFAR-10 Batch 1:  loss: 1.10919 valid_accuracy 0.5096\n",
      "Epoch 46, CIFAR-10 Batch 1:  loss: 1.10137 valid_accuracy 0.5068\n",
      "Epoch 47, CIFAR-10 Batch 1:  loss: 1.09134 valid_accuracy 0.5138\n",
      "Epoch 48, CIFAR-10 Batch 1:  loss: 1.07014 valid_accuracy 0.5166\n",
      "Epoch 49, CIFAR-10 Batch 1:  loss: 1.07176 valid_accuracy 0.5176\n",
      "Epoch 50, CIFAR-10 Batch 1:  loss: 1.10412 valid_accuracy 0.5054\n",
      "Epoch 51, CIFAR-10 Batch 1:  loss: 1.08119 valid_accuracy 0.5048\n",
      "Epoch 52, CIFAR-10 Batch 1:  loss: 1.06533 valid_accuracy 0.508\n",
      "Epoch 53, CIFAR-10 Batch 1:  loss: 1.02973 valid_accuracy 0.5132\n",
      "Epoch 54, CIFAR-10 Batch 1:  loss: 1.01745 valid_accuracy 0.5148\n",
      "Epoch 55, CIFAR-10 Batch 1:  loss: 1.00838 valid_accuracy 0.5198\n",
      "Epoch 56, CIFAR-10 Batch 1:  loss: 1.01129 valid_accuracy 0.5226\n",
      "Epoch 57, CIFAR-10 Batch 1:  loss: 0.998629 valid_accuracy 0.5254\n",
      "Epoch 58, CIFAR-10 Batch 1:  loss: 0.987656 valid_accuracy 0.527\n",
      "Epoch 59, CIFAR-10 Batch 1:  loss: 0.968222 valid_accuracy 0.529\n",
      "Epoch 60, CIFAR-10 Batch 1:  loss: 0.954005 valid_accuracy 0.5262\n",
      "Epoch 61, CIFAR-10 Batch 1:  loss: 0.958084 valid_accuracy 0.52\n",
      "Epoch 62, CIFAR-10 Batch 1:  loss: 0.947536 valid_accuracy 0.5174\n",
      "Epoch 63, CIFAR-10 Batch 1:  loss: 0.922095 valid_accuracy 0.5222\n",
      "Epoch 64, CIFAR-10 Batch 1:  loss: 1.01582 valid_accuracy 0.5012\n",
      "Epoch 65, CIFAR-10 Batch 1:  loss: 0.964383 valid_accuracy 0.5262\n",
      "Epoch 66, CIFAR-10 Batch 1:  loss: 0.941415 valid_accuracy 0.5336\n",
      "Epoch 67, CIFAR-10 Batch 1:  loss: 0.966097 valid_accuracy 0.5082\n",
      "Epoch 68, CIFAR-10 Batch 1:  loss: 0.974714 valid_accuracy 0.4976\n",
      "Epoch 69, CIFAR-10 Batch 1:  loss: 0.938096 valid_accuracy 0.5178\n",
      "Epoch 70, CIFAR-10 Batch 1:  loss: 0.873817 valid_accuracy 0.5274\n",
      "Epoch 71, CIFAR-10 Batch 1:  loss: 0.893075 valid_accuracy 0.5186\n",
      "Epoch 72, CIFAR-10 Batch 1:  loss: 0.831818 valid_accuracy 0.538\n",
      "Epoch 73, CIFAR-10 Batch 1:  loss: 0.85232 valid_accuracy 0.524\n",
      "Epoch 74, CIFAR-10 Batch 1:  loss: 0.889088 valid_accuracy 0.516\n",
      "Epoch 75, CIFAR-10 Batch 1:  loss: 0.823038 valid_accuracy 0.5316\n",
      "Epoch 76, CIFAR-10 Batch 1:  loss: 0.793339 valid_accuracy 0.5364\n",
      "Epoch 77, CIFAR-10 Batch 1:  loss: 0.789701 valid_accuracy 0.5318\n",
      "Epoch 78, CIFAR-10 Batch 1:  loss: 0.784954 valid_accuracy 0.5304\n",
      "Epoch 79, CIFAR-10 Batch 1:  loss: 0.787727 valid_accuracy 0.5262\n",
      "Epoch 80, CIFAR-10 Batch 1:  loss: 0.816603 valid_accuracy 0.5184\n",
      "Epoch 81, CIFAR-10 Batch 1:  loss: 0.807653 valid_accuracy 0.5254\n",
      "Epoch 82, CIFAR-10 Batch 1:  loss: 0.742399 valid_accuracy 0.5382\n",
      "Epoch 83, CIFAR-10 Batch 1:  loss: 0.75164 valid_accuracy 0.5344\n",
      "Epoch 84, CIFAR-10 Batch 1:  loss: 0.743795 valid_accuracy 0.5354\n",
      "Epoch 85, CIFAR-10 Batch 1:  loss: 0.729145 valid_accuracy 0.5388\n",
      "Epoch 86, CIFAR-10 Batch 1:  loss: 0.730432 valid_accuracy 0.5382\n",
      "Epoch 87, CIFAR-10 Batch 1:  loss: 0.738629 valid_accuracy 0.5348\n",
      "Epoch 88, CIFAR-10 Batch 1:  loss: 0.736137 valid_accuracy 0.53\n",
      "Epoch 89, CIFAR-10 Batch 1:  loss: 0.72855 valid_accuracy 0.5238\n",
      "Epoch 90, CIFAR-10 Batch 1:  loss: 0.747154 valid_accuracy 0.5128\n",
      "Epoch 91, CIFAR-10 Batch 1:  loss: 0.732495 valid_accuracy 0.5144\n",
      "Epoch 92, CIFAR-10 Batch 1:  loss: 0.668157 valid_accuracy 0.5326\n",
      "Epoch 93, CIFAR-10 Batch 1:  loss: 0.665286 valid_accuracy 0.5358\n",
      "Epoch 94, CIFAR-10 Batch 1:  loss: 0.644333 valid_accuracy 0.5414\n",
      "Epoch 95, CIFAR-10 Batch 1:  loss: 0.639545 valid_accuracy 0.5382\n",
      "Epoch 96, CIFAR-10 Batch 1:  loss: 0.627592 valid_accuracy 0.537\n",
      "Epoch 97, CIFAR-10 Batch 1:  loss: 0.619762 valid_accuracy 0.5348\n",
      "Epoch 98, CIFAR-10 Batch 1:  loss: 0.610146 valid_accuracy 0.5336\n",
      "Epoch 99, CIFAR-10 Batch 1:  loss: 0.605218 valid_accuracy 0.5316\n",
      "Epoch 100, CIFAR-10 Batch 1:  loss: 0.598 valid_accuracy 0.5302\n"
     ]
    }
   ],
   "source": [
    "\"\"\"\n",
    "DON'T MODIFY ANYTHING IN THIS CELL\n",
    "\"\"\"\n",
    "print('Checking the Training on a Single Batch...')\n",
    "with tf.Session() as sess:\n",
    "    # Initializing the variables\n",
    "    sess.run(tf.global_variables_initializer())\n",
    "    \n",
    "    # Training cycle\n",
    "    for epoch in range(epochs):\n",
    "        batch_i = 1\n",
    "        for batch_features, batch_labels in helper.load_preprocess_training_batch(batch_i, batch_size):\n",
    "            train_neural_network(sess, optimizer, keep_probability, batch_features, batch_labels)\n",
    "        print('Epoch {:>2}, CIFAR-10 Batch {}:  '.format(epoch + 1, batch_i), end='')\n",
    "        print_stats(sess, batch_features, batch_labels, cost, accuracy)"
   ]
  },
  {
   "cell_type": "markdown",
   "metadata": {
    "deletable": true,
    "editable": true
   },
   "source": [
    "### Fully Train the Model\n",
    "Now that you got a good accuracy with a single CIFAR-10 batch, try it with all five batches."
   ]
  },
  {
   "cell_type": "code",
   "execution_count": 94,
   "metadata": {
    "collapsed": false,
    "deletable": true,
    "editable": true
   },
   "outputs": [
    {
     "name": "stdout",
     "output_type": "stream",
     "text": [
      "Training...\n",
      "Epoch  1, CIFAR-10 Batch 1:  loss: 2.30247 valid_accuracy 0.1008\n",
      "Epoch  1, CIFAR-10 Batch 2:  loss: 2.29983 valid_accuracy 0.1112\n",
      "Epoch  1, CIFAR-10 Batch 3:  loss: 2.29171 valid_accuracy 0.115\n",
      "Epoch  1, CIFAR-10 Batch 4:  loss: 2.29344 valid_accuracy 0.111\n",
      "Epoch  1, CIFAR-10 Batch 5:  loss: 2.28058 valid_accuracy 0.1208\n",
      "Epoch  2, CIFAR-10 Batch 1:  loss: 2.27616 valid_accuracy 0.1022\n",
      "Epoch  2, CIFAR-10 Batch 2:  loss: 2.27485 valid_accuracy 0.1258\n",
      "Epoch  2, CIFAR-10 Batch 3:  loss: 2.27344 valid_accuracy 0.1526\n",
      "Epoch  2, CIFAR-10 Batch 4:  loss: 2.25795 valid_accuracy 0.1508\n",
      "Epoch  2, CIFAR-10 Batch 5:  loss: 2.26394 valid_accuracy 0.138\n",
      "Epoch  3, CIFAR-10 Batch 1:  loss: 2.24723 valid_accuracy 0.1584\n",
      "Epoch  3, CIFAR-10 Batch 2:  loss: 2.2413 valid_accuracy 0.1596\n",
      "Epoch  3, CIFAR-10 Batch 3:  loss: 2.24837 valid_accuracy 0.1566\n",
      "Epoch  3, CIFAR-10 Batch 4:  loss: 2.2292 valid_accuracy 0.1542\n",
      "Epoch  3, CIFAR-10 Batch 5:  loss: 2.24616 valid_accuracy 0.1538\n",
      "Epoch  4, CIFAR-10 Batch 1:  loss: 2.22344 valid_accuracy 0.1582\n",
      "Epoch  4, CIFAR-10 Batch 2:  loss: 2.22341 valid_accuracy 0.163\n",
      "Epoch  4, CIFAR-10 Batch 3:  loss: 2.23757 valid_accuracy 0.1642\n",
      "Epoch  4, CIFAR-10 Batch 4:  loss: 2.21184 valid_accuracy 0.1648\n",
      "Epoch  4, CIFAR-10 Batch 5:  loss: 2.22145 valid_accuracy 0.1678\n",
      "Epoch  5, CIFAR-10 Batch 1:  loss: 2.20862 valid_accuracy 0.1654\n",
      "Epoch  5, CIFAR-10 Batch 2:  loss: 2.18859 valid_accuracy 0.1696\n",
      "Epoch  5, CIFAR-10 Batch 3:  loss: 2.1897 valid_accuracy 0.1714\n",
      "Epoch  5, CIFAR-10 Batch 4:  loss: 2.14506 valid_accuracy 0.1756\n",
      "Epoch  5, CIFAR-10 Batch 5:  loss: 2.12535 valid_accuracy 0.2026\n",
      "Epoch  6, CIFAR-10 Batch 1:  loss: 2.13667 valid_accuracy 0.186\n",
      "Epoch  6, CIFAR-10 Batch 2:  loss: 2.08265 valid_accuracy 0.2106\n",
      "Epoch  6, CIFAR-10 Batch 3:  loss: 2.01309 valid_accuracy 0.2414\n",
      "Epoch  6, CIFAR-10 Batch 4:  loss: 1.87261 valid_accuracy 0.2842\n",
      "Epoch  6, CIFAR-10 Batch 5:  loss: 1.79211 valid_accuracy 0.3282\n",
      "Epoch  7, CIFAR-10 Batch 1:  loss: 1.71165 valid_accuracy 0.3472\n",
      "Epoch  7, CIFAR-10 Batch 2:  loss: 1.69347 valid_accuracy 0.3594\n",
      "Epoch  7, CIFAR-10 Batch 3:  loss: 1.6137 valid_accuracy 0.3854\n",
      "Epoch  7, CIFAR-10 Batch 4:  loss: 1.58503 valid_accuracy 0.3942\n",
      "Epoch  7, CIFAR-10 Batch 5:  loss: 1.59357 valid_accuracy 0.4054\n",
      "Epoch  8, CIFAR-10 Batch 1:  loss: 1.52304 valid_accuracy 0.4172\n",
      "Epoch  8, CIFAR-10 Batch 2:  loss: 1.54951 valid_accuracy 0.4172\n",
      "Epoch  8, CIFAR-10 Batch 3:  loss: 1.49457 valid_accuracy 0.4424\n",
      "Epoch  8, CIFAR-10 Batch 4:  loss: 1.45223 valid_accuracy 0.4466\n",
      "Epoch  8, CIFAR-10 Batch 5:  loss: 1.44965 valid_accuracy 0.4546\n",
      "Epoch  9, CIFAR-10 Batch 1:  loss: 1.40306 valid_accuracy 0.4686\n",
      "Epoch  9, CIFAR-10 Batch 2:  loss: 1.44514 valid_accuracy 0.447\n",
      "Epoch  9, CIFAR-10 Batch 3:  loss: 1.39865 valid_accuracy 0.4768\n",
      "Epoch  9, CIFAR-10 Batch 4:  loss: 1.33934 valid_accuracy 0.493\n",
      "Epoch  9, CIFAR-10 Batch 5:  loss: 1.3463 valid_accuracy 0.4886\n",
      "Epoch 10, CIFAR-10 Batch 1:  loss: 1.33121 valid_accuracy 0.4888\n",
      "Epoch 10, CIFAR-10 Batch 2:  loss: 1.37783 valid_accuracy 0.4718\n",
      "Epoch 10, CIFAR-10 Batch 3:  loss: 1.32252 valid_accuracy 0.5052\n",
      "Epoch 10, CIFAR-10 Batch 4:  loss: 1.27552 valid_accuracy 0.5088\n",
      "Epoch 10, CIFAR-10 Batch 5:  loss: 1.256 valid_accuracy 0.5198\n",
      "Epoch 11, CIFAR-10 Batch 1:  loss: 1.24686 valid_accuracy 0.5256\n",
      "Epoch 11, CIFAR-10 Batch 2:  loss: 1.33924 valid_accuracy 0.4858\n",
      "Epoch 11, CIFAR-10 Batch 3:  loss: 1.27498 valid_accuracy 0.518\n",
      "Epoch 11, CIFAR-10 Batch 4:  loss: 1.21828 valid_accuracy 0.5302\n",
      "Epoch 11, CIFAR-10 Batch 5:  loss: 1.22675 valid_accuracy 0.5304\n",
      "Epoch 12, CIFAR-10 Batch 1:  loss: 1.19935 valid_accuracy 0.538\n",
      "Epoch 12, CIFAR-10 Batch 2:  loss: 1.25732 valid_accuracy 0.5212\n",
      "Epoch 12, CIFAR-10 Batch 3:  loss: 1.2111 valid_accuracy 0.5334\n",
      "Epoch 12, CIFAR-10 Batch 4:  loss: 1.18779 valid_accuracy 0.5368\n",
      "Epoch 12, CIFAR-10 Batch 5:  loss: 1.17666 valid_accuracy 0.5436\n",
      "Epoch 13, CIFAR-10 Batch 1:  loss: 1.17406 valid_accuracy 0.5494\n",
      "Epoch 13, CIFAR-10 Batch 2:  loss: 1.20476 valid_accuracy 0.5344\n",
      "Epoch 13, CIFAR-10 Batch 3:  loss: 1.16771 valid_accuracy 0.5494\n",
      "Epoch 13, CIFAR-10 Batch 4:  loss: 1.15532 valid_accuracy 0.5474\n",
      "Epoch 13, CIFAR-10 Batch 5:  loss: 1.16909 valid_accuracy 0.543\n",
      "Epoch 14, CIFAR-10 Batch 1:  loss: 1.14952 valid_accuracy 0.5562\n",
      "Epoch 14, CIFAR-10 Batch 2:  loss: 1.17631 valid_accuracy 0.5384\n",
      "Epoch 14, CIFAR-10 Batch 3:  loss: 1.13986 valid_accuracy 0.5556\n",
      "Epoch 14, CIFAR-10 Batch 4:  loss: 1.10598 valid_accuracy 0.5584\n",
      "Epoch 14, CIFAR-10 Batch 5:  loss: 1.08507 valid_accuracy 0.562\n",
      "Epoch 15, CIFAR-10 Batch 1:  loss: 1.12244 valid_accuracy 0.5592\n",
      "Epoch 15, CIFAR-10 Batch 2:  loss: 1.14705 valid_accuracy 0.5504\n",
      "Epoch 15, CIFAR-10 Batch 3:  loss: 1.11158 valid_accuracy 0.5622\n",
      "Epoch 15, CIFAR-10 Batch 4:  loss: 1.09841 valid_accuracy 0.5624\n",
      "Epoch 15, CIFAR-10 Batch 5:  loss: 1.05107 valid_accuracy 0.575\n",
      "Epoch 16, CIFAR-10 Batch 1:  loss: 1.10108 valid_accuracy 0.5644\n",
      "Epoch 16, CIFAR-10 Batch 2:  loss: 1.11376 valid_accuracy 0.5596\n",
      "Epoch 16, CIFAR-10 Batch 3:  loss: 1.09028 valid_accuracy 0.5632\n",
      "Epoch 16, CIFAR-10 Batch 4:  loss: 1.07334 valid_accuracy 0.569\n",
      "Epoch 16, CIFAR-10 Batch 5:  loss: 1.02913 valid_accuracy 0.5802\n",
      "Epoch 17, CIFAR-10 Batch 1:  loss: 1.07896 valid_accuracy 0.5666\n",
      "Epoch 17, CIFAR-10 Batch 2:  loss: 1.07236 valid_accuracy 0.5684\n",
      "Epoch 17, CIFAR-10 Batch 3:  loss: 1.04726 valid_accuracy 0.5708\n",
      "Epoch 17, CIFAR-10 Batch 4:  loss: 1.03752 valid_accuracy 0.5812\n",
      "Epoch 17, CIFAR-10 Batch 5:  loss: 0.999263 valid_accuracy 0.5844\n",
      "Epoch 18, CIFAR-10 Batch 1:  loss: 1.06036 valid_accuracy 0.5726\n",
      "Epoch 18, CIFAR-10 Batch 2:  loss: 1.05073 valid_accuracy 0.5768\n",
      "Epoch 18, CIFAR-10 Batch 3:  loss: 1.01236 valid_accuracy 0.5796\n",
      "Epoch 18, CIFAR-10 Batch 4:  loss: 1.01357 valid_accuracy 0.5788\n",
      "Epoch 18, CIFAR-10 Batch 5:  loss: 0.969584 valid_accuracy 0.5902\n",
      "Epoch 19, CIFAR-10 Batch 1:  loss: 1.0422 valid_accuracy 0.5752\n",
      "Epoch 19, CIFAR-10 Batch 2:  loss: 1.02662 valid_accuracy 0.5818\n",
      "Epoch 19, CIFAR-10 Batch 3:  loss: 0.982514 valid_accuracy 0.5852\n",
      "Epoch 19, CIFAR-10 Batch 4:  loss: 0.99309 valid_accuracy 0.587\n",
      "Epoch 19, CIFAR-10 Batch 5:  loss: 0.944421 valid_accuracy 0.5912\n",
      "Epoch 20, CIFAR-10 Batch 1:  loss: 1.02654 valid_accuracy 0.5744\n",
      "Epoch 20, CIFAR-10 Batch 2:  loss: 1.00929 valid_accuracy 0.585\n",
      "Epoch 20, CIFAR-10 Batch 3:  loss: 0.95862 valid_accuracy 0.5924\n",
      "Epoch 20, CIFAR-10 Batch 4:  loss: 0.972264 valid_accuracy 0.589\n",
      "Epoch 20, CIFAR-10 Batch 5:  loss: 0.924353 valid_accuracy 0.591\n",
      "Epoch 21, CIFAR-10 Batch 1:  loss: 0.997921 valid_accuracy 0.5818\n",
      "Epoch 21, CIFAR-10 Batch 2:  loss: 0.993174 valid_accuracy 0.5856\n",
      "Epoch 21, CIFAR-10 Batch 3:  loss: 0.953517 valid_accuracy 0.589\n",
      "Epoch 21, CIFAR-10 Batch 4:  loss: 0.952171 valid_accuracy 0.5904\n",
      "Epoch 21, CIFAR-10 Batch 5:  loss: 0.912859 valid_accuracy 0.5908\n",
      "Epoch 22, CIFAR-10 Batch 1:  loss: 0.957872 valid_accuracy 0.5952\n",
      "Epoch 22, CIFAR-10 Batch 2:  loss: 0.950151 valid_accuracy 0.5972\n",
      "Epoch 22, CIFAR-10 Batch 3:  loss: 0.9229 valid_accuracy 0.5988\n",
      "Epoch 22, CIFAR-10 Batch 4:  loss: 0.941298 valid_accuracy 0.5902\n",
      "Epoch 22, CIFAR-10 Batch 5:  loss: 0.892525 valid_accuracy 0.5952\n",
      "Epoch 23, CIFAR-10 Batch 1:  loss: 0.93808 valid_accuracy 0.6016\n",
      "Epoch 23, CIFAR-10 Batch 2:  loss: 0.931401 valid_accuracy 0.6014\n",
      "Epoch 23, CIFAR-10 Batch 3:  loss: 0.900663 valid_accuracy 0.6016\n",
      "Epoch 23, CIFAR-10 Batch 4:  loss: 0.917708 valid_accuracy 0.597\n",
      "Epoch 23, CIFAR-10 Batch 5:  loss: 0.87793 valid_accuracy 0.5954\n",
      "Epoch 24, CIFAR-10 Batch 1:  loss: 0.920128 valid_accuracy 0.6008\n",
      "Epoch 24, CIFAR-10 Batch 2:  loss: 0.912373 valid_accuracy 0.5984\n",
      "Epoch 24, CIFAR-10 Batch 3:  loss: 0.883622 valid_accuracy 0.6054\n",
      "Epoch 24, CIFAR-10 Batch 4:  loss: 0.899123 valid_accuracy 0.6\n",
      "Epoch 24, CIFAR-10 Batch 5:  loss: 0.865166 valid_accuracy 0.5962\n",
      "Epoch 25, CIFAR-10 Batch 1:  loss: 0.900989 valid_accuracy 0.605\n",
      "Epoch 25, CIFAR-10 Batch 2:  loss: 0.893088 valid_accuracy 0.6026\n",
      "Epoch 25, CIFAR-10 Batch 3:  loss: 0.863079 valid_accuracy 0.6098\n",
      "Epoch 25, CIFAR-10 Batch 4:  loss: 0.879851 valid_accuracy 0.6024\n",
      "Epoch 25, CIFAR-10 Batch 5:  loss: 0.847273 valid_accuracy 0.5994\n",
      "Epoch 26, CIFAR-10 Batch 1:  loss: 0.882337 valid_accuracy 0.6084\n",
      "Epoch 26, CIFAR-10 Batch 2:  loss: 0.874863 valid_accuracy 0.6038\n",
      "Epoch 26, CIFAR-10 Batch 3:  loss: 0.846867 valid_accuracy 0.6102\n",
      "Epoch 26, CIFAR-10 Batch 4:  loss: 0.862947 valid_accuracy 0.6002\n",
      "Epoch 26, CIFAR-10 Batch 5:  loss: 0.830665 valid_accuracy 0.602\n",
      "Epoch 27, CIFAR-10 Batch 1:  loss: 0.873869 valid_accuracy 0.6092\n",
      "Epoch 27, CIFAR-10 Batch 2:  loss: 0.857675 valid_accuracy 0.6084\n",
      "Epoch 27, CIFAR-10 Batch 3:  loss: 0.833179 valid_accuracy 0.614\n",
      "Epoch 27, CIFAR-10 Batch 4:  loss: 0.85272 valid_accuracy 0.604\n",
      "Epoch 27, CIFAR-10 Batch 5:  loss: 0.807928 valid_accuracy 0.607\n",
      "Epoch 28, CIFAR-10 Batch 1:  loss: 0.863621 valid_accuracy 0.6098\n",
      "Epoch 28, CIFAR-10 Batch 2:  loss: 0.844477 valid_accuracy 0.6088\n",
      "Epoch 28, CIFAR-10 Batch 3:  loss: 0.82347 valid_accuracy 0.6172\n",
      "Epoch 28, CIFAR-10 Batch 4:  loss: 0.844628 valid_accuracy 0.6046\n",
      "Epoch 28, CIFAR-10 Batch 5:  loss: 0.789137 valid_accuracy 0.6146\n",
      "Epoch 29, CIFAR-10 Batch 1:  loss: 0.849877 valid_accuracy 0.6118\n",
      "Epoch 29, CIFAR-10 Batch 2:  loss: 0.833367 valid_accuracy 0.6118\n",
      "Epoch 29, CIFAR-10 Batch 3:  loss: 0.816213 valid_accuracy 0.6138\n",
      "Epoch 29, CIFAR-10 Batch 4:  loss: 0.85709 valid_accuracy 0.6056\n",
      "Epoch 29, CIFAR-10 Batch 5:  loss: 0.802544 valid_accuracy 0.6064\n",
      "Epoch 30, CIFAR-10 Batch 1:  loss: 0.838769 valid_accuracy 0.617\n",
      "Epoch 30, CIFAR-10 Batch 2:  loss: 0.82681 valid_accuracy 0.6086\n",
      "Epoch 30, CIFAR-10 Batch 3:  loss: 0.802117 valid_accuracy 0.6146\n",
      "Epoch 30, CIFAR-10 Batch 4:  loss: 0.85259 valid_accuracy 0.605\n",
      "Epoch 30, CIFAR-10 Batch 5:  loss: 0.798168 valid_accuracy 0.605\n",
      "Epoch 31, CIFAR-10 Batch 1:  loss: 0.83874 valid_accuracy 0.617\n",
      "Epoch 31, CIFAR-10 Batch 2:  loss: 0.806177 valid_accuracy 0.6194\n",
      "Epoch 31, CIFAR-10 Batch 3:  loss: 0.811137 valid_accuracy 0.61\n",
      "Epoch 31, CIFAR-10 Batch 4:  loss: 0.809856 valid_accuracy 0.6084\n",
      "Epoch 31, CIFAR-10 Batch 5:  loss: 0.776091 valid_accuracy 0.6128\n",
      "Epoch 32, CIFAR-10 Batch 1:  loss: 0.8118 valid_accuracy 0.6202\n",
      "Epoch 32, CIFAR-10 Batch 2:  loss: 0.800691 valid_accuracy 0.617\n",
      "Epoch 32, CIFAR-10 Batch 3:  loss: 0.807959 valid_accuracy 0.6058\n",
      "Epoch 32, CIFAR-10 Batch 4:  loss: 0.83644 valid_accuracy 0.5882\n",
      "Epoch 32, CIFAR-10 Batch 5:  loss: 0.794639 valid_accuracy 0.6102\n",
      "Epoch 33, CIFAR-10 Batch 1:  loss: 0.816583 valid_accuracy 0.6184\n",
      "Epoch 33, CIFAR-10 Batch 2:  loss: 0.811189 valid_accuracy 0.614\n",
      "Epoch 33, CIFAR-10 Batch 3:  loss: 0.839562 valid_accuracy 0.5982\n",
      "Epoch 33, CIFAR-10 Batch 4:  loss: 0.854835 valid_accuracy 0.5934\n",
      "Epoch 33, CIFAR-10 Batch 5:  loss: 0.772884 valid_accuracy 0.6108\n",
      "Epoch 34, CIFAR-10 Batch 1:  loss: 0.820829 valid_accuracy 0.6168\n",
      "Epoch 34, CIFAR-10 Batch 2:  loss: 0.78977 valid_accuracy 0.6234\n",
      "Epoch 34, CIFAR-10 Batch 3:  loss: 0.776397 valid_accuracy 0.6162\n",
      "Epoch 34, CIFAR-10 Batch 4:  loss: 0.823309 valid_accuracy 0.6022\n",
      "Epoch 34, CIFAR-10 Batch 5:  loss: 0.768447 valid_accuracy 0.6078\n",
      "Epoch 35, CIFAR-10 Batch 1:  loss: 0.788649 valid_accuracy 0.6234\n",
      "Epoch 35, CIFAR-10 Batch 2:  loss: 0.771442 valid_accuracy 0.626\n",
      "Epoch 35, CIFAR-10 Batch 3:  loss: 0.758437 valid_accuracy 0.6222\n",
      "Epoch 35, CIFAR-10 Batch 4:  loss: 0.8003 valid_accuracy 0.6026\n",
      "Epoch 35, CIFAR-10 Batch 5:  loss: 0.739292 valid_accuracy 0.6144\n",
      "Epoch 36, CIFAR-10 Batch 1:  loss: 0.772631 valid_accuracy 0.6256\n",
      "Epoch 36, CIFAR-10 Batch 2:  loss: 0.75769 valid_accuracy 0.629\n",
      "Epoch 36, CIFAR-10 Batch 3:  loss: 0.745084 valid_accuracy 0.6218\n",
      "Epoch 36, CIFAR-10 Batch 4:  loss: 0.787596 valid_accuracy 0.6036\n",
      "Epoch 36, CIFAR-10 Batch 5:  loss: 0.720118 valid_accuracy 0.617\n",
      "Epoch 37, CIFAR-10 Batch 1:  loss: 0.764199 valid_accuracy 0.6228\n",
      "Epoch 37, CIFAR-10 Batch 2:  loss: 0.748492 valid_accuracy 0.628\n",
      "Epoch 37, CIFAR-10 Batch 3:  loss: 0.731581 valid_accuracy 0.6256\n",
      "Epoch 37, CIFAR-10 Batch 4:  loss: 0.760964 valid_accuracy 0.6112\n",
      "Epoch 37, CIFAR-10 Batch 5:  loss: 0.703475 valid_accuracy 0.621\n",
      "Epoch 38, CIFAR-10 Batch 1:  loss: 0.759049 valid_accuracy 0.6244\n",
      "Epoch 38, CIFAR-10 Batch 2:  loss: 0.740752 valid_accuracy 0.628\n",
      "Epoch 38, CIFAR-10 Batch 3:  loss: 0.722278 valid_accuracy 0.6256\n",
      "Epoch 38, CIFAR-10 Batch 4:  loss: 0.743796 valid_accuracy 0.6172\n",
      "Epoch 38, CIFAR-10 Batch 5:  loss: 0.69539 valid_accuracy 0.6198\n",
      "Epoch 39, CIFAR-10 Batch 1:  loss: 0.742614 valid_accuracy 0.6252\n",
      "Epoch 39, CIFAR-10 Batch 2:  loss: 0.733651 valid_accuracy 0.6282\n",
      "Epoch 39, CIFAR-10 Batch 3:  loss: 0.715923 valid_accuracy 0.629\n",
      "Epoch 39, CIFAR-10 Batch 4:  loss: 0.729427 valid_accuracy 0.623\n",
      "Epoch 39, CIFAR-10 Batch 5:  loss: 0.67736 valid_accuracy 0.624\n",
      "Epoch 40, CIFAR-10 Batch 1:  loss: 0.717047 valid_accuracy 0.6332\n",
      "Epoch 40, CIFAR-10 Batch 2:  loss: 0.72952 valid_accuracy 0.6286\n",
      "Epoch 40, CIFAR-10 Batch 3:  loss: 0.708482 valid_accuracy 0.6298\n",
      "Epoch 40, CIFAR-10 Batch 4:  loss: 0.72192 valid_accuracy 0.6216\n",
      "Epoch 40, CIFAR-10 Batch 5:  loss: 0.659166 valid_accuracy 0.629\n",
      "Epoch 41, CIFAR-10 Batch 1:  loss: 0.694945 valid_accuracy 0.635\n",
      "Epoch 41, CIFAR-10 Batch 2:  loss: 0.721845 valid_accuracy 0.629\n",
      "Epoch 41, CIFAR-10 Batch 3:  loss: 0.698216 valid_accuracy 0.6312\n",
      "Epoch 41, CIFAR-10 Batch 4:  loss: 0.71258 valid_accuracy 0.6212\n",
      "Epoch 41, CIFAR-10 Batch 5:  loss: 0.646653 valid_accuracy 0.6328\n",
      "Epoch 42, CIFAR-10 Batch 1:  loss: 0.681335 valid_accuracy 0.6366\n",
      "Epoch 42, CIFAR-10 Batch 2:  loss: 0.716766 valid_accuracy 0.6226\n",
      "Epoch 42, CIFAR-10 Batch 3:  loss: 0.692869 valid_accuracy 0.6324\n",
      "Epoch 42, CIFAR-10 Batch 4:  loss: 0.702114 valid_accuracy 0.6194\n",
      "Epoch 42, CIFAR-10 Batch 5:  loss: 0.63685 valid_accuracy 0.631\n",
      "Epoch 43, CIFAR-10 Batch 1:  loss: 0.674475 valid_accuracy 0.6334\n",
      "Epoch 43, CIFAR-10 Batch 2:  loss: 0.717788 valid_accuracy 0.6204\n",
      "Epoch 43, CIFAR-10 Batch 3:  loss: 0.687995 valid_accuracy 0.6336\n",
      "Epoch 43, CIFAR-10 Batch 4:  loss: 0.689944 valid_accuracy 0.623\n",
      "Epoch 43, CIFAR-10 Batch 5:  loss: 0.64273 valid_accuracy 0.6304\n",
      "Epoch 44, CIFAR-10 Batch 1:  loss: 0.689272 valid_accuracy 0.6278\n",
      "Epoch 44, CIFAR-10 Batch 2:  loss: 0.712181 valid_accuracy 0.6198\n",
      "Epoch 44, CIFAR-10 Batch 3:  loss: 0.668327 valid_accuracy 0.6368\n",
      "Epoch 44, CIFAR-10 Batch 4:  loss: 0.686057 valid_accuracy 0.6268\n",
      "Epoch 44, CIFAR-10 Batch 5:  loss: 0.667801 valid_accuracy 0.6176\n",
      "Epoch 45, CIFAR-10 Batch 1:  loss: 0.697043 valid_accuracy 0.6286\n",
      "Epoch 45, CIFAR-10 Batch 2:  loss: 0.694002 valid_accuracy 0.6342\n",
      "Epoch 45, CIFAR-10 Batch 3:  loss: 0.694832 valid_accuracy 0.624\n",
      "Epoch 45, CIFAR-10 Batch 4:  loss: 0.655496 valid_accuracy 0.6334\n",
      "Epoch 45, CIFAR-10 Batch 5:  loss: 0.605939 valid_accuracy 0.633\n",
      "Epoch 46, CIFAR-10 Batch 1:  loss: 0.68126 valid_accuracy 0.6308\n",
      "Epoch 46, CIFAR-10 Batch 2:  loss: 0.679738 valid_accuracy 0.635\n",
      "Epoch 46, CIFAR-10 Batch 3:  loss: 0.65803 valid_accuracy 0.6326\n",
      "Epoch 46, CIFAR-10 Batch 4:  loss: 0.642784 valid_accuracy 0.6366\n",
      "Epoch 46, CIFAR-10 Batch 5:  loss: 0.613331 valid_accuracy 0.6272\n",
      "Epoch 47, CIFAR-10 Batch 1:  loss: 0.667476 valid_accuracy 0.6314\n",
      "Epoch 47, CIFAR-10 Batch 2:  loss: 0.667269 valid_accuracy 0.6364\n",
      "Epoch 47, CIFAR-10 Batch 3:  loss: 0.642855 valid_accuracy 0.6388\n",
      "Epoch 47, CIFAR-10 Batch 4:  loss: 0.642679 valid_accuracy 0.6372\n",
      "Epoch 47, CIFAR-10 Batch 5:  loss: 0.601487 valid_accuracy 0.63\n",
      "Epoch 48, CIFAR-10 Batch 1:  loss: 0.641285 valid_accuracy 0.6358\n",
      "Epoch 48, CIFAR-10 Batch 2:  loss: 0.66565 valid_accuracy 0.643\n",
      "Epoch 48, CIFAR-10 Batch 3:  loss: 0.639917 valid_accuracy 0.6374\n",
      "Epoch 48, CIFAR-10 Batch 4:  loss: 0.626865 valid_accuracy 0.641\n",
      "Epoch 48, CIFAR-10 Batch 5:  loss: 0.576545 valid_accuracy 0.6378\n",
      "Epoch 49, CIFAR-10 Batch 1:  loss: 0.618563 valid_accuracy 0.6426\n",
      "Epoch 49, CIFAR-10 Batch 2:  loss: 0.665727 valid_accuracy 0.6404\n",
      "Epoch 49, CIFAR-10 Batch 3:  loss: 0.628908 valid_accuracy 0.6384\n",
      "Epoch 49, CIFAR-10 Batch 4:  loss: 0.615509 valid_accuracy 0.6434\n",
      "Epoch 49, CIFAR-10 Batch 5:  loss: 0.564885 valid_accuracy 0.6402\n",
      "Epoch 50, CIFAR-10 Batch 1:  loss: 0.609057 valid_accuracy 0.6398\n",
      "Epoch 50, CIFAR-10 Batch 2:  loss: 0.659304 valid_accuracy 0.6428\n",
      "Epoch 50, CIFAR-10 Batch 3:  loss: 0.612349 valid_accuracy 0.6396\n",
      "Epoch 50, CIFAR-10 Batch 4:  loss: 0.604782 valid_accuracy 0.643\n",
      "Epoch 50, CIFAR-10 Batch 5:  loss: 0.554731 valid_accuracy 0.6438\n",
      "Epoch 51, CIFAR-10 Batch 1:  loss: 0.60154 valid_accuracy 0.6394\n",
      "Epoch 51, CIFAR-10 Batch 2:  loss: 0.644612 valid_accuracy 0.641\n",
      "Epoch 51, CIFAR-10 Batch 3:  loss: 0.59612 valid_accuracy 0.6376\n",
      "Epoch 51, CIFAR-10 Batch 4:  loss: 0.592785 valid_accuracy 0.6418\n",
      "Epoch 51, CIFAR-10 Batch 5:  loss: 0.546988 valid_accuracy 0.6436\n",
      "Epoch 52, CIFAR-10 Batch 1:  loss: 0.588219 valid_accuracy 0.6404\n",
      "Epoch 52, CIFAR-10 Batch 2:  loss: 0.634545 valid_accuracy 0.6394\n",
      "Epoch 52, CIFAR-10 Batch 3:  loss: 0.587992 valid_accuracy 0.6376\n",
      "Epoch 52, CIFAR-10 Batch 4:  loss: 0.585321 valid_accuracy 0.6426\n",
      "Epoch 52, CIFAR-10 Batch 5:  loss: 0.538977 valid_accuracy 0.644\n",
      "Epoch 53, CIFAR-10 Batch 1:  loss: 0.5767 valid_accuracy 0.6418\n",
      "Epoch 53, CIFAR-10 Batch 2:  loss: 0.623718 valid_accuracy 0.6394\n",
      "Epoch 53, CIFAR-10 Batch 3:  loss: 0.579204 valid_accuracy 0.6386\n",
      "Epoch 53, CIFAR-10 Batch 4:  loss: 0.577229 valid_accuracy 0.6412\n",
      "Epoch 53, CIFAR-10 Batch 5:  loss: 0.528299 valid_accuracy 0.643\n",
      "Epoch 54, CIFAR-10 Batch 1:  loss: 0.570991 valid_accuracy 0.6394\n",
      "Epoch 54, CIFAR-10 Batch 2:  loss: 0.612315 valid_accuracy 0.6378\n",
      "Epoch 54, CIFAR-10 Batch 3:  loss: 0.575093 valid_accuracy 0.6408\n",
      "Epoch 54, CIFAR-10 Batch 4:  loss: 0.569942 valid_accuracy 0.6414\n",
      "Epoch 54, CIFAR-10 Batch 5:  loss: 0.520522 valid_accuracy 0.6422\n",
      "Epoch 55, CIFAR-10 Batch 1:  loss: 0.561278 valid_accuracy 0.6406\n",
      "Epoch 55, CIFAR-10 Batch 2:  loss: 0.600085 valid_accuracy 0.6372\n",
      "Epoch 55, CIFAR-10 Batch 3:  loss: 0.569029 valid_accuracy 0.6408\n",
      "Epoch 55, CIFAR-10 Batch 4:  loss: 0.564155 valid_accuracy 0.6388\n",
      "Epoch 55, CIFAR-10 Batch 5:  loss: 0.515032 valid_accuracy 0.646\n",
      "Epoch 56, CIFAR-10 Batch 1:  loss: 0.555454 valid_accuracy 0.6386\n",
      "Epoch 56, CIFAR-10 Batch 2:  loss: 0.593807 valid_accuracy 0.639\n",
      "Epoch 56, CIFAR-10 Batch 3:  loss: 0.563714 valid_accuracy 0.642\n",
      "Epoch 56, CIFAR-10 Batch 4:  loss: 0.556894 valid_accuracy 0.6376\n",
      "Epoch 56, CIFAR-10 Batch 5:  loss: 0.513364 valid_accuracy 0.6452\n",
      "Epoch 57, CIFAR-10 Batch 1:  loss: 0.547521 valid_accuracy 0.6364\n",
      "Epoch 57, CIFAR-10 Batch 2:  loss: 0.597602 valid_accuracy 0.636\n",
      "Epoch 57, CIFAR-10 Batch 3:  loss: 0.574126 valid_accuracy 0.638\n",
      "Epoch 57, CIFAR-10 Batch 4:  loss: 0.550651 valid_accuracy 0.6412\n",
      "Epoch 57, CIFAR-10 Batch 5:  loss: 0.538247 valid_accuracy 0.6376\n",
      "Epoch 58, CIFAR-10 Batch 1:  loss: 0.574881 valid_accuracy 0.6346\n",
      "Epoch 58, CIFAR-10 Batch 2:  loss: 0.609618 valid_accuracy 0.63\n",
      "Epoch 58, CIFAR-10 Batch 3:  loss: 0.550653 valid_accuracy 0.64\n",
      "Epoch 58, CIFAR-10 Batch 4:  loss: 0.535828 valid_accuracy 0.649\n",
      "Epoch 58, CIFAR-10 Batch 5:  loss: 0.48802 valid_accuracy 0.6514\n",
      "Epoch 59, CIFAR-10 Batch 1:  loss: 0.551151 valid_accuracy 0.6368\n",
      "Epoch 59, CIFAR-10 Batch 2:  loss: 0.59644 valid_accuracy 0.6346\n",
      "Epoch 59, CIFAR-10 Batch 3:  loss: 0.573671 valid_accuracy 0.634\n",
      "Epoch 59, CIFAR-10 Batch 4:  loss: 0.531055 valid_accuracy 0.643\n",
      "Epoch 59, CIFAR-10 Batch 5:  loss: 0.486617 valid_accuracy 0.6536\n",
      "Epoch 60, CIFAR-10 Batch 1:  loss: 0.534726 valid_accuracy 0.6382\n",
      "Epoch 60, CIFAR-10 Batch 2:  loss: 0.602313 valid_accuracy 0.6286\n",
      "Epoch 60, CIFAR-10 Batch 3:  loss: 0.570245 valid_accuracy 0.6338\n",
      "Epoch 60, CIFAR-10 Batch 4:  loss: 0.561072 valid_accuracy 0.631\n",
      "Epoch 60, CIFAR-10 Batch 5:  loss: 0.494827 valid_accuracy 0.6498\n",
      "Epoch 61, CIFAR-10 Batch 1:  loss: 0.52049 valid_accuracy 0.6334\n",
      "Epoch 61, CIFAR-10 Batch 2:  loss: 0.6126 valid_accuracy 0.6296\n",
      "Epoch 61, CIFAR-10 Batch 3:  loss: 0.551349 valid_accuracy 0.6332\n",
      "Epoch 61, CIFAR-10 Batch 4:  loss: 0.580567 valid_accuracy 0.6352\n",
      "Epoch 61, CIFAR-10 Batch 5:  loss: 0.480966 valid_accuracy 0.6486\n",
      "Epoch 62, CIFAR-10 Batch 1:  loss: 0.541467 valid_accuracy 0.635\n",
      "Epoch 62, CIFAR-10 Batch 2:  loss: 0.61456 valid_accuracy 0.6284\n",
      "Epoch 62, CIFAR-10 Batch 3:  loss: 0.607514 valid_accuracy 0.6186\n",
      "Epoch 62, CIFAR-10 Batch 4:  loss: 0.643797 valid_accuracy 0.625\n",
      "Epoch 62, CIFAR-10 Batch 5:  loss: 0.563089 valid_accuracy 0.634\n",
      "Epoch 63, CIFAR-10 Batch 1:  loss: 0.529805 valid_accuracy 0.6446\n",
      "Epoch 63, CIFAR-10 Batch 2:  loss: 0.558708 valid_accuracy 0.6396\n",
      "Epoch 63, CIFAR-10 Batch 3:  loss: 0.578655 valid_accuracy 0.6286\n",
      "Epoch 63, CIFAR-10 Batch 4:  loss: 0.622138 valid_accuracy 0.621\n",
      "Epoch 63, CIFAR-10 Batch 5:  loss: 0.525044 valid_accuracy 0.63\n",
      "Epoch 64, CIFAR-10 Batch 1:  loss: 0.546503 valid_accuracy 0.6384\n",
      "Epoch 64, CIFAR-10 Batch 2:  loss: 0.550305 valid_accuracy 0.6384\n",
      "Epoch 64, CIFAR-10 Batch 3:  loss: 0.518403 valid_accuracy 0.6446\n",
      "Epoch 64, CIFAR-10 Batch 4:  loss: 0.61669 valid_accuracy 0.6182\n",
      "Epoch 64, CIFAR-10 Batch 5:  loss: 0.565769 valid_accuracy 0.6128\n",
      "Epoch 65, CIFAR-10 Batch 1:  loss: 0.525074 valid_accuracy 0.6428\n",
      "Epoch 65, CIFAR-10 Batch 2:  loss: 0.590006 valid_accuracy 0.6282\n",
      "Epoch 65, CIFAR-10 Batch 3:  loss: 0.587527 valid_accuracy 0.6272\n",
      "Epoch 65, CIFAR-10 Batch 4:  loss: 0.561298 valid_accuracy 0.6314\n",
      "Epoch 65, CIFAR-10 Batch 5:  loss: 0.532858 valid_accuracy 0.632\n",
      "Epoch 66, CIFAR-10 Batch 1:  loss: 0.570719 valid_accuracy 0.6248\n",
      "Epoch 66, CIFAR-10 Batch 2:  loss: 0.571967 valid_accuracy 0.635\n",
      "Epoch 66, CIFAR-10 Batch 3:  loss: 0.519366 valid_accuracy 0.6342\n",
      "Epoch 66, CIFAR-10 Batch 4:  loss: 0.504583 valid_accuracy 0.6406\n",
      "Epoch 66, CIFAR-10 Batch 5:  loss: 0.486665 valid_accuracy 0.634\n",
      "Epoch 67, CIFAR-10 Batch 1:  loss: 0.574598 valid_accuracy 0.6272\n",
      "Epoch 67, CIFAR-10 Batch 2:  loss: 0.577468 valid_accuracy 0.636\n",
      "Epoch 67, CIFAR-10 Batch 3:  loss: 0.536778 valid_accuracy 0.6286\n",
      "Epoch 67, CIFAR-10 Batch 4:  loss: 0.54118 valid_accuracy 0.6302\n",
      "Epoch 67, CIFAR-10 Batch 5:  loss: 0.53534 valid_accuracy 0.6286\n",
      "Epoch 68, CIFAR-10 Batch 1:  loss: 0.544595 valid_accuracy 0.6378\n",
      "Epoch 68, CIFAR-10 Batch 2:  loss: 0.52002 valid_accuracy 0.6444\n",
      "Epoch 68, CIFAR-10 Batch 3:  loss: 0.546159 valid_accuracy 0.6266\n",
      "Epoch 68, CIFAR-10 Batch 4:  loss: 0.526918 valid_accuracy 0.6374\n",
      "Epoch 68, CIFAR-10 Batch 5:  loss: 0.482752 valid_accuracy 0.6404\n",
      "Epoch 69, CIFAR-10 Batch 1:  loss: 0.51324 valid_accuracy 0.6422\n",
      "Epoch 69, CIFAR-10 Batch 2:  loss: 0.514218 valid_accuracy 0.6462\n",
      "Epoch 69, CIFAR-10 Batch 3:  loss: 0.52284 valid_accuracy 0.6274\n",
      "Epoch 69, CIFAR-10 Batch 4:  loss: 0.56211 valid_accuracy 0.6248\n",
      "Epoch 69, CIFAR-10 Batch 5:  loss: 0.478648 valid_accuracy 0.6414\n",
      "Epoch 70, CIFAR-10 Batch 1:  loss: 0.496079 valid_accuracy 0.644\n",
      "Epoch 70, CIFAR-10 Batch 2:  loss: 0.534042 valid_accuracy 0.6374\n",
      "Epoch 70, CIFAR-10 Batch 3:  loss: 0.495387 valid_accuracy 0.635\n",
      "Epoch 70, CIFAR-10 Batch 4:  loss: 0.57163 valid_accuracy 0.6178\n",
      "Epoch 70, CIFAR-10 Batch 5:  loss: 0.469487 valid_accuracy 0.647\n",
      "Epoch 71, CIFAR-10 Batch 1:  loss: 0.474701 valid_accuracy 0.6482\n",
      "Epoch 71, CIFAR-10 Batch 2:  loss: 0.550609 valid_accuracy 0.6342\n",
      "Epoch 71, CIFAR-10 Batch 3:  loss: 0.515582 valid_accuracy 0.6258\n",
      "Epoch 71, CIFAR-10 Batch 4:  loss: 0.529058 valid_accuracy 0.631\n",
      "Epoch 71, CIFAR-10 Batch 5:  loss: 0.490766 valid_accuracy 0.6344\n",
      "Epoch 72, CIFAR-10 Batch 1:  loss: 0.487732 valid_accuracy 0.6466\n",
      "Epoch 72, CIFAR-10 Batch 2:  loss: 0.534117 valid_accuracy 0.6354\n",
      "Epoch 72, CIFAR-10 Batch 3:  loss: 0.510291 valid_accuracy 0.6258\n",
      "Epoch 72, CIFAR-10 Batch 4:  loss: 0.49696 valid_accuracy 0.6402\n",
      "Epoch 72, CIFAR-10 Batch 5:  loss: 0.456943 valid_accuracy 0.6442\n",
      "Epoch 73, CIFAR-10 Batch 1:  loss: 0.519211 valid_accuracy 0.6316\n",
      "Epoch 73, CIFAR-10 Batch 2:  loss: 0.552908 valid_accuracy 0.6328\n",
      "Epoch 73, CIFAR-10 Batch 3:  loss: 0.510655 valid_accuracy 0.6264\n",
      "Epoch 73, CIFAR-10 Batch 4:  loss: 0.498037 valid_accuracy 0.6424\n",
      "Epoch 73, CIFAR-10 Batch 5:  loss: 0.437415 valid_accuracy 0.6456\n",
      "Epoch 74, CIFAR-10 Batch 1:  loss: 0.50048 valid_accuracy 0.6334\n",
      "Epoch 74, CIFAR-10 Batch 2:  loss: 0.575574 valid_accuracy 0.629\n",
      "Epoch 74, CIFAR-10 Batch 3:  loss: 0.496934 valid_accuracy 0.63\n",
      "Epoch 74, CIFAR-10 Batch 4:  loss: 0.501932 valid_accuracy 0.6396\n",
      "Epoch 74, CIFAR-10 Batch 5:  loss: 0.432634 valid_accuracy 0.648\n",
      "Epoch 75, CIFAR-10 Batch 1:  loss: 0.449913 valid_accuracy 0.6466\n",
      "Epoch 75, CIFAR-10 Batch 2:  loss: 0.509113 valid_accuracy 0.6392\n",
      "Epoch 75, CIFAR-10 Batch 3:  loss: 0.462163 valid_accuracy 0.6386\n",
      "Epoch 75, CIFAR-10 Batch 4:  loss: 0.48545 valid_accuracy 0.6364\n",
      "Epoch 75, CIFAR-10 Batch 5:  loss: 0.416311 valid_accuracy 0.6548\n",
      "Epoch 76, CIFAR-10 Batch 1:  loss: 0.438204 valid_accuracy 0.6482\n",
      "Epoch 76, CIFAR-10 Batch 2:  loss: 0.483244 valid_accuracy 0.641\n",
      "Epoch 76, CIFAR-10 Batch 3:  loss: 0.477349 valid_accuracy 0.6294\n",
      "Epoch 76, CIFAR-10 Batch 4:  loss: 0.477632 valid_accuracy 0.6328\n",
      "Epoch 76, CIFAR-10 Batch 5:  loss: 0.402753 valid_accuracy 0.6522\n",
      "Epoch 77, CIFAR-10 Batch 1:  loss: 0.432751 valid_accuracy 0.6524\n",
      "Epoch 77, CIFAR-10 Batch 2:  loss: 0.515431 valid_accuracy 0.6322\n",
      "Epoch 77, CIFAR-10 Batch 3:  loss: 0.51083 valid_accuracy 0.6152\n",
      "Epoch 77, CIFAR-10 Batch 4:  loss: 0.457002 valid_accuracy 0.641\n",
      "Epoch 77, CIFAR-10 Batch 5:  loss: 0.412302 valid_accuracy 0.6476\n",
      "Epoch 78, CIFAR-10 Batch 1:  loss: 0.441924 valid_accuracy 0.6498\n",
      "Epoch 78, CIFAR-10 Batch 2:  loss: 0.56859 valid_accuracy 0.6138\n",
      "Epoch 78, CIFAR-10 Batch 3:  loss: 0.518258 valid_accuracy 0.6184\n",
      "Epoch 78, CIFAR-10 Batch 4:  loss: 0.479481 valid_accuracy 0.6426\n",
      "Epoch 78, CIFAR-10 Batch 5:  loss: 0.415007 valid_accuracy 0.6484\n",
      "Epoch 79, CIFAR-10 Batch 1:  loss: 0.426845 valid_accuracy 0.6494\n",
      "Epoch 79, CIFAR-10 Batch 2:  loss: 0.545095 valid_accuracy 0.6196\n",
      "Epoch 79, CIFAR-10 Batch 3:  loss: 0.502679 valid_accuracy 0.6212\n",
      "Epoch 79, CIFAR-10 Batch 4:  loss: 0.4845 valid_accuracy 0.6366\n",
      "Epoch 79, CIFAR-10 Batch 5:  loss: 0.400511 valid_accuracy 0.6522\n",
      "Epoch 80, CIFAR-10 Batch 1:  loss: 0.413961 valid_accuracy 0.6532\n",
      "Epoch 80, CIFAR-10 Batch 2:  loss: 0.511474 valid_accuracy 0.6266\n",
      "Epoch 80, CIFAR-10 Batch 3:  loss: 0.486944 valid_accuracy 0.6236\n",
      "Epoch 80, CIFAR-10 Batch 4:  loss: 0.486674 valid_accuracy 0.6348\n",
      "Epoch 80, CIFAR-10 Batch 5:  loss: 0.395711 valid_accuracy 0.6494\n",
      "Epoch 81, CIFAR-10 Batch 1:  loss: 0.423583 valid_accuracy 0.649\n",
      "Epoch 81, CIFAR-10 Batch 2:  loss: 0.474119 valid_accuracy 0.636\n",
      "Epoch 81, CIFAR-10 Batch 3:  loss: 0.441086 valid_accuracy 0.633\n",
      "Epoch 81, CIFAR-10 Batch 4:  loss: 0.467708 valid_accuracy 0.6376\n",
      "Epoch 81, CIFAR-10 Batch 5:  loss: 0.387134 valid_accuracy 0.6512\n",
      "Epoch 82, CIFAR-10 Batch 1:  loss: 0.423068 valid_accuracy 0.6468\n",
      "Epoch 82, CIFAR-10 Batch 2:  loss: 0.479673 valid_accuracy 0.6314\n",
      "Epoch 82, CIFAR-10 Batch 3:  loss: 0.428434 valid_accuracy 0.6362\n",
      "Epoch 82, CIFAR-10 Batch 4:  loss: 0.453026 valid_accuracy 0.6372\n",
      "Epoch 82, CIFAR-10 Batch 5:  loss: 0.392755 valid_accuracy 0.6432\n",
      "Epoch 83, CIFAR-10 Batch 1:  loss: 0.422553 valid_accuracy 0.6464\n",
      "Epoch 83, CIFAR-10 Batch 2:  loss: 0.491597 valid_accuracy 0.6232\n",
      "Epoch 83, CIFAR-10 Batch 3:  loss: 0.418264 valid_accuracy 0.639\n",
      "Epoch 83, CIFAR-10 Batch 4:  loss: 0.44016 valid_accuracy 0.6384\n",
      "Epoch 83, CIFAR-10 Batch 5:  loss: 0.415377 valid_accuracy 0.6358\n",
      "Epoch 84, CIFAR-10 Batch 1:  loss: 0.426679 valid_accuracy 0.6466\n",
      "Epoch 84, CIFAR-10 Batch 2:  loss: 0.518902 valid_accuracy 0.616\n",
      "Epoch 84, CIFAR-10 Batch 3:  loss: 0.446178 valid_accuracy 0.6296\n",
      "Epoch 84, CIFAR-10 Batch 4:  loss: 0.429804 valid_accuracy 0.6426\n",
      "Epoch 84, CIFAR-10 Batch 5:  loss: 0.481985 valid_accuracy 0.6128\n",
      "Epoch 85, CIFAR-10 Batch 1:  loss: 0.463011 valid_accuracy 0.6378\n",
      "Epoch 85, CIFAR-10 Batch 2:  loss: 0.494451 valid_accuracy 0.6232\n",
      "Epoch 85, CIFAR-10 Batch 3:  loss: 0.51056 valid_accuracy 0.6214\n",
      "Epoch 85, CIFAR-10 Batch 4:  loss: 0.49102 valid_accuracy 0.6288\n",
      "Epoch 85, CIFAR-10 Batch 5:  loss: 0.461942 valid_accuracy 0.6322\n",
      "Epoch 86, CIFAR-10 Batch 1:  loss: 0.502031 valid_accuracy 0.6268\n",
      "Epoch 86, CIFAR-10 Batch 2:  loss: 0.496904 valid_accuracy 0.628\n",
      "Epoch 86, CIFAR-10 Batch 3:  loss: 0.467708 valid_accuracy 0.6368\n",
      "Epoch 86, CIFAR-10 Batch 4:  loss: 0.473773 valid_accuracy 0.6362\n",
      "Epoch 86, CIFAR-10 Batch 5:  loss: 0.473672 valid_accuracy 0.6204\n",
      "Epoch 87, CIFAR-10 Batch 1:  loss: 0.503464 valid_accuracy 0.6272\n",
      "Epoch 87, CIFAR-10 Batch 2:  loss: 0.494015 valid_accuracy 0.6252\n",
      "Epoch 87, CIFAR-10 Batch 3:  loss: 0.418501 valid_accuracy 0.6464\n",
      "Epoch 87, CIFAR-10 Batch 4:  loss: 0.456615 valid_accuracy 0.6354\n",
      "Epoch 87, CIFAR-10 Batch 5:  loss: 0.398756 valid_accuracy 0.6408\n",
      "Epoch 88, CIFAR-10 Batch 1:  loss: 0.475281 valid_accuracy 0.6306\n",
      "Epoch 88, CIFAR-10 Batch 2:  loss: 0.466489 valid_accuracy 0.6298\n",
      "Epoch 88, CIFAR-10 Batch 3:  loss: 0.408023 valid_accuracy 0.6442\n",
      "Epoch 88, CIFAR-10 Batch 4:  loss: 0.437332 valid_accuracy 0.6382\n",
      "Epoch 88, CIFAR-10 Batch 5:  loss: 0.397708 valid_accuracy 0.6418\n",
      "Epoch 89, CIFAR-10 Batch 1:  loss: 0.461954 valid_accuracy 0.6316\n",
      "Epoch 89, CIFAR-10 Batch 2:  loss: 0.444244 valid_accuracy 0.6352\n",
      "Epoch 89, CIFAR-10 Batch 3:  loss: 0.39273 valid_accuracy 0.6456\n",
      "Epoch 89, CIFAR-10 Batch 4:  loss: 0.423891 valid_accuracy 0.636\n",
      "Epoch 89, CIFAR-10 Batch 5:  loss: 0.392654 valid_accuracy 0.6448\n",
      "Epoch 90, CIFAR-10 Batch 1:  loss: 0.457856 valid_accuracy 0.6318\n",
      "Epoch 90, CIFAR-10 Batch 2:  loss: 0.444999 valid_accuracy 0.6324\n",
      "Epoch 90, CIFAR-10 Batch 3:  loss: 0.385189 valid_accuracy 0.6454\n",
      "Epoch 90, CIFAR-10 Batch 4:  loss: 0.420942 valid_accuracy 0.6366\n",
      "Epoch 90, CIFAR-10 Batch 5:  loss: 0.400033 valid_accuracy 0.6422\n",
      "Epoch 91, CIFAR-10 Batch 1:  loss: 0.437342 valid_accuracy 0.6318\n",
      "Epoch 91, CIFAR-10 Batch 2:  loss: 0.439799 valid_accuracy 0.6296\n",
      "Epoch 91, CIFAR-10 Batch 3:  loss: 0.37584 valid_accuracy 0.6466\n",
      "Epoch 91, CIFAR-10 Batch 4:  loss: 0.429029 valid_accuracy 0.6344\n",
      "Epoch 91, CIFAR-10 Batch 5:  loss: 0.416475 valid_accuracy 0.6418\n",
      "Epoch 92, CIFAR-10 Batch 1:  loss: 0.415104 valid_accuracy 0.6372\n",
      "Epoch 92, CIFAR-10 Batch 2:  loss: 0.428948 valid_accuracy 0.6286\n",
      "Epoch 92, CIFAR-10 Batch 3:  loss: 0.388891 valid_accuracy 0.6446\n",
      "Epoch 92, CIFAR-10 Batch 4:  loss: 0.449343 valid_accuracy 0.626\n",
      "Epoch 92, CIFAR-10 Batch 5:  loss: 0.395482 valid_accuracy 0.6398\n",
      "Epoch 93, CIFAR-10 Batch 1:  loss: 0.399172 valid_accuracy 0.6424\n",
      "Epoch 93, CIFAR-10 Batch 2:  loss: 0.465185 valid_accuracy 0.6184\n",
      "Epoch 93, CIFAR-10 Batch 3:  loss: 0.423464 valid_accuracy 0.6362\n",
      "Epoch 93, CIFAR-10 Batch 4:  loss: 0.438531 valid_accuracy 0.6298\n",
      "Epoch 93, CIFAR-10 Batch 5:  loss: 0.413369 valid_accuracy 0.636\n",
      "Epoch 94, CIFAR-10 Batch 1:  loss: 0.426633 valid_accuracy 0.6378\n",
      "Epoch 94, CIFAR-10 Batch 2:  loss: 0.473615 valid_accuracy 0.6212\n",
      "Epoch 94, CIFAR-10 Batch 3:  loss: 0.391924 valid_accuracy 0.6404\n",
      "Epoch 94, CIFAR-10 Batch 4:  loss: 0.431628 valid_accuracy 0.6266\n",
      "Epoch 94, CIFAR-10 Batch 5:  loss: 0.371901 valid_accuracy 0.6388\n",
      "Epoch 95, CIFAR-10 Batch 1:  loss: 0.457574 valid_accuracy 0.6342\n",
      "Epoch 95, CIFAR-10 Batch 2:  loss: 0.478101 valid_accuracy 0.6196\n",
      "Epoch 95, CIFAR-10 Batch 3:  loss: 0.361505 valid_accuracy 0.6404\n",
      "Epoch 95, CIFAR-10 Batch 4:  loss: 0.364501 valid_accuracy 0.6488\n",
      "Epoch 95, CIFAR-10 Batch 5:  loss: 0.406094 valid_accuracy 0.6292\n",
      "Epoch 96, CIFAR-10 Batch 1:  loss: 0.427728 valid_accuracy 0.6408\n",
      "Epoch 96, CIFAR-10 Batch 2:  loss: 0.457376 valid_accuracy 0.6234\n",
      "Epoch 96, CIFAR-10 Batch 3:  loss: 0.367482 valid_accuracy 0.6418\n",
      "Epoch 96, CIFAR-10 Batch 4:  loss: 0.361747 valid_accuracy 0.6468\n",
      "Epoch 96, CIFAR-10 Batch 5:  loss: 0.386454 valid_accuracy 0.6282\n",
      "Epoch 97, CIFAR-10 Batch 1:  loss: 0.394254 valid_accuracy 0.6502\n",
      "Epoch 97, CIFAR-10 Batch 2:  loss: 0.43796 valid_accuracy 0.6246\n",
      "Epoch 97, CIFAR-10 Batch 3:  loss: 0.379678 valid_accuracy 0.6348\n",
      "Epoch 97, CIFAR-10 Batch 4:  loss: 0.352443 valid_accuracy 0.6492\n",
      "Epoch 97, CIFAR-10 Batch 5:  loss: 0.370306 valid_accuracy 0.6308\n",
      "Epoch 98, CIFAR-10 Batch 1:  loss: 0.395367 valid_accuracy 0.649\n",
      "Epoch 98, CIFAR-10 Batch 2:  loss: 0.419675 valid_accuracy 0.6286\n",
      "Epoch 98, CIFAR-10 Batch 3:  loss: 0.380814 valid_accuracy 0.6322\n",
      "Epoch 98, CIFAR-10 Batch 4:  loss: 0.352029 valid_accuracy 0.6492\n",
      "Epoch 98, CIFAR-10 Batch 5:  loss: 0.361998 valid_accuracy 0.6336\n",
      "Epoch 99, CIFAR-10 Batch 1:  loss: 0.398033 valid_accuracy 0.6462\n",
      "Epoch 99, CIFAR-10 Batch 2:  loss: 0.408291 valid_accuracy 0.628\n",
      "Epoch 99, CIFAR-10 Batch 3:  loss: 0.372456 valid_accuracy 0.6296\n",
      "Epoch 99, CIFAR-10 Batch 4:  loss: 0.347759 valid_accuracy 0.65\n",
      "Epoch 99, CIFAR-10 Batch 5:  loss: 0.355743 valid_accuracy 0.6352\n",
      "Epoch 100, CIFAR-10 Batch 1:  loss: 0.398599 valid_accuracy 0.6428\n",
      "Epoch 100, CIFAR-10 Batch 2:  loss: 0.405931 valid_accuracy 0.6264\n",
      "Epoch 100, CIFAR-10 Batch 3:  loss: 0.361582 valid_accuracy 0.6304\n",
      "Epoch 100, CIFAR-10 Batch 4:  loss: 0.33847 valid_accuracy 0.648\n",
      "Epoch 100, CIFAR-10 Batch 5:  loss: 0.34602 valid_accuracy 0.6348\n"
     ]
    }
   ],
   "source": [
    "\"\"\"\n",
    "DON'T MODIFY ANYTHING IN THIS CELL\n",
    "\"\"\"\n",
    "save_model_path = './image_classification'\n",
    "\n",
    "print('Training...')\n",
    "with tf.Session() as sess:\n",
    "    # Initializing the variables\n",
    "    sess.run(tf.global_variables_initializer())\n",
    "    \n",
    "    # Training cycle\n",
    "    for epoch in range(epochs):\n",
    "        # Loop over all batches\n",
    "        n_batches = 5\n",
    "        for batch_i in range(1, n_batches + 1):\n",
    "            for batch_features, batch_labels in helper.load_preprocess_training_batch(batch_i, batch_size):\n",
    "                train_neural_network(sess, optimizer, keep_probability, batch_features, batch_labels)\n",
    "            print('Epoch {:>2}, CIFAR-10 Batch {}:  '.format(epoch + 1, batch_i), end='')\n",
    "            print_stats(sess, batch_features, batch_labels, cost, accuracy)\n",
    "            \n",
    "    # Save Model\n",
    "    saver = tf.train.Saver()\n",
    "    save_path = saver.save(sess, save_model_path)"
   ]
  },
  {
   "cell_type": "markdown",
   "metadata": {
    "deletable": true,
    "editable": true
   },
   "source": [
    "# Checkpoint\n",
    "The model has been saved to disk.\n",
    "## Test Model\n",
    "Test your model against the test dataset.  This will be your final accuracy. You should have an accuracy greater than 50%. If you don't, keep tweaking the model architecture and parameters."
   ]
  },
  {
   "cell_type": "code",
   "execution_count": 95,
   "metadata": {
    "collapsed": false,
    "deletable": true,
    "editable": true
   },
   "outputs": [
    {
     "name": "stdout",
     "output_type": "stream",
     "text": [
      "Testing Accuracy: 0.6394172430038452\n",
      "\n"
     ]
    },
    {
     "data": {
      "image/png": "[encoded data removed]",
      "text/plain": [
       "<matplotlib.figure.Figure at 0x7f14dbf20128>"
      ]
     },
     "metadata": {
      "image/png": {
       "height": 319,
       "width": 355
      }
     },
     "output_type": "display_data"
    }
   ],
   "source": [
    "\"\"\"\n",
    "DON'T MODIFY ANYTHING IN THIS CELL\n",
    "\"\"\"\n",
    "%matplotlib inline\n",
    "%config InlineBackend.figure_format = 'retina'\n",
    "\n",
    "import tensorflow as tf\n",
    "import pickle\n",
    "import helper\n",
    "import random\n",
    "\n",
    "# Set batch size if not already set\n",
    "try:\n",
    "    if batch_size:\n",
    "        pass\n",
    "except NameError:\n",
    "    batch_size = 64\n",
    "\n",
    "save_model_path = './image_classification'\n",
    "n_samples = 4\n",
    "top_n_predictions = 3\n",
    "\n",
    "def test_model():\n",
    "    \"\"\"\n",
    "    Test the saved model against the test dataset\n",
    "    \"\"\"\n",
    "\n",
    "    test_features, test_labels = pickle.load(open('preprocess_training.p', mode='rb'))\n",
    "    loaded_graph = tf.Graph()\n",
    "\n",
    "    with tf.Session(graph=loaded_graph) as sess:\n",
    "        # Load model\n",
    "        loader = tf.train.import_meta_graph(save_model_path + '.meta')\n",
    "        loader.restore(sess, save_model_path)\n",
    "\n",
    "        # Get Tensors from loaded model\n",
    "        loaded_x = loaded_graph.get_tensor_by_name('x:0')\n",
    "        loaded_y = loaded_graph.get_tensor_by_name('y:0')\n",
    "        loaded_keep_prob = loaded_graph.get_tensor_by_name('keep_prob:0')\n",
    "        loaded_logits = loaded_graph.get_tensor_by_name('logits:0')\n",
    "        loaded_acc = loaded_graph.get_tensor_by_name('accuracy:0')\n",
    "        \n",
    "        # Get accuracy in batches for memory limitations\n",
    "        test_batch_acc_total = 0\n",
    "        test_batch_count = 0\n",
    "        \n",
    "        for train_feature_batch, train_label_batch in helper.batch_features_labels(test_features, test_labels, batch_size):\n",
    "            test_batch_acc_total += sess.run(\n",
    "                loaded_acc,\n",
    "                feed_dict={loaded_x: train_feature_batch, loaded_y: train_label_batch, loaded_keep_prob: 1.0})\n",
    "            test_batch_count += 1\n",
    "\n",
    "        print('Testing Accuracy: {}\\n'.format(test_batch_acc_total/test_batch_count))\n",
    "\n",
    "        # Print Random Samples\n",
    "        random_test_features, random_test_labels = tuple(zip(*random.sample(list(zip(test_features, test_labels)), n_samples)))\n",
    "        random_test_predictions = sess.run(\n",
    "            tf.nn.top_k(tf.nn.softmax(loaded_logits), top_n_predictions),\n",
    "            feed_dict={loaded_x: random_test_features, loaded_y: random_test_labels, loaded_keep_prob: 1.0})\n",
    "        helper.display_image_predictions(random_test_features, random_test_labels, random_test_predictions)\n",
    "\n",
    "\n",
    "test_model()"
   ]
  },
  {
   "cell_type": "markdown",
   "metadata": {
    "deletable": true,
    "editable": true
   },
   "source": [
    "## Why 50-70% Accuracy?\n",
    "You might be wondering why you can't get an accuracy any higher. First things first, 50% isn't bad for a simple CNN.  Pure guessing would get you 10% accuracy. However, you might notice people are getting scores [well above 70%](http://rodrigob.github.io/are_we_there_yet/build/classification_datasets_results.html#43494641522d3130).  That's because we haven't taught you all there is to know about neural networks. We still need to cover a few more techniques.\n",
    "## Submitting This Project\n",
    "When submitting this project, make sure to run all the cells before saving the notebook.  Save the notebook file as \"dlnd_image_classification.ipynb\" and save it as a HTML file under \"File\" -> \"Download as\".  Include the \"helper.py\" and \"problem_unittests.py\" files in your submission."
   ]
  }
 ],
 "metadata": {
  "kernelspec": {
   "display_name": "Python 3",
   "language": "python",
   "name": "python3"
  },
  "language_info": {
   "codemirror_mode": {
    "name": "ipython",
    "version": 3
   },
   "file_extension": ".py",
   "mimetype": "text/x-python",
   "name": "python",
   "nbconvert_exporter": "python",
   "pygments_lexer": "ipython3",
   "version": "3.5.2"
  },
  "widgets": {
   "state": {},
   "version": "1.1.2"
  }
 },
 "nbformat": 4,
 "nbformat_minor": 0
}
