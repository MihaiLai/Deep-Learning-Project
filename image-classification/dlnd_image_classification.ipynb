{
 "cells": [
  {
   "cell_type": "markdown",
   "metadata": {
    "collapsed": true,
    "deletable": true,
    "editable": true
   },
   "source": [
    "# Image Classification\n",
    "In this project, you'll classify images from the [CIFAR-10 dataset](https://www.cs.toronto.edu/~kriz/cifar.html).  The dataset consists of airplanes, dogs, cats, and other objects. You'll preprocess the images, then train a convolutional neural network on all the samples. The images need to be normalized and the labels need to be one-hot encoded.  You'll get to apply what you learned and build a convolutional, max pooling, dropout, and fully connected layers.  At the end, you'll get to see your neural network's predictions on the sample images.\n",
    "## Get the Data\n",
    "Run the following cell to download the [CIFAR-10 dataset for python](https://www.cs.toronto.edu/~kriz/cifar-10-python.tar.gz)."
   ]
  },
  {
   "cell_type": "code",
   "execution_count": 1,
   "metadata": {
    "collapsed": false,
    "deletable": true,
    "editable": true
   },
   "outputs": [
    {
     "name": "stderr",
     "output_type": "stream",
     "text": [
      "CIFAR-10 Dataset: 171MB [00:56, 3.01MB/s]                              \n"
     ]
    },
    {
     "name": "stdout",
     "output_type": "stream",
     "text": [
      "All files found!\n"
     ]
    }
   ],
   "source": [
    "\"\"\"\n",
    "DON'T MODIFY ANYTHING IN THIS CELL THAT IS BELOW THIS LINE\n",
    "\"\"\"\n",
    "from urllib.request import urlretrieve\n",
    "from os.path import isfile, isdir\n",
    "from tqdm import tqdm\n",
    "import problem_unittests as tests\n",
    "import tarfile\n",
    "\n",
    "cifar10_dataset_folder_path = 'cifar-10-batches-py'\n",
    "\n",
    "class DLProgress(tqdm):\n",
    "    last_block = 0\n",
    "\n",
    "    def hook(self, block_num=1, block_size=1, total_size=None):\n",
    "        self.total = total_size\n",
    "        self.update((block_num - self.last_block) * block_size)\n",
    "        self.last_block = block_num\n",
    "\n",
    "if not isfile('cifar-10-python.tar.gz'):\n",
    "    with DLProgress(unit='B', unit_scale=True, miniters=1, desc='CIFAR-10 Dataset') as pbar:\n",
    "        urlretrieve(\n",
    "            'https://www.cs.toronto.edu/~kriz/cifar-10-python.tar.gz',\n",
    "            'cifar-10-python.tar.gz',\n",
    "            pbar.hook)\n",
    "\n",
    "if not isdir(cifar10_dataset_folder_path):\n",
    "    with tarfile.open('cifar-10-python.tar.gz') as tar:\n",
    "        tar.extractall()\n",
    "        tar.close()\n",
    "\n",
    "\n",
    "tests.test_folder_path(cifar10_dataset_folder_path)"
   ]
  },
  {
   "cell_type": "markdown",
   "metadata": {
    "deletable": true,
    "editable": true
   },
   "source": [
    "## Explore the Data\n",
    "The dataset is broken into batches to prevent your machine from running out of memory.  The CIFAR-10 dataset consists of 5 batches, named `data_batch_1`, `data_batch_2`, etc.. Each batch contains the labels and images that are one of the following:\n",
    "* airplane\n",
    "* automobile\n",
    "* bird\n",
    "* cat\n",
    "* deer\n",
    "* dog\n",
    "* frog\n",
    "* horse\n",
    "* ship\n",
    "* truck\n",
    "\n",
    "Understanding a dataset is part of making predictions on the data.  Play around with the code cell below by changing the `batch_id` and `sample_id`. The `batch_id` is the id for a batch (1-5). The `sample_id` is the id for a image and label pair in the batch.\n",
    "\n",
    "Ask yourself \"What are all possible labels?\", \"What is the range of values for the image data?\", \"Are the labels in order or random?\".  Answers to questions like these will help you preprocess the data and end up with better predictions."
   ]
  },
  {
   "cell_type": "code",
   "execution_count": 2,
   "metadata": {
    "collapsed": false,
    "deletable": true,
    "editable": true
   },
   "outputs": [
    {
     "name": "stdout",
     "output_type": "stream",
     "text": [
      "\n",
      "Stats of batch 1:\n",
      "Samples: 10000\n",
      "Label Counts: {0: 1005, 1: 974, 2: 1032, 3: 1016, 4: 999, 5: 937, 6: 1030, 7: 1001, 8: 1025, 9: 981}\n",
      "First 20 Labels: [6, 9, 9, 4, 1, 1, 2, 7, 8, 3, 4, 7, 7, 2, 9, 9, 9, 3, 2, 6]\n",
      "\n",
      "Example of Image 10:\n",
      "Image - Min Value: 24 Max Value: 130\n",
      "Image - Shape: (32, 32, 3)\n",
      "Label - Label Id: 4 Name: deer\n"
     ]
    },
    {
     "data": {
      "image/png": "[encoded data removed]",
      "text/plain": [
       "<matplotlib.figure.Figure at 0x7f15627109b0>"
      ]
     },
     "metadata": {
      "image/png": {
       "height": 250,
       "width": 253
      }
     },
     "output_type": "display_data"
    }
   ],
   "source": [
    "%matplotlib inline\n",
    "%config InlineBackend.figure_format = 'retina'\n",
    "\n",
    "import helper\n",
    "import numpy as np\n",
    "\n",
    "# Explore the dataset\n",
    "batch_id = 1\n",
    "sample_id = 10\n",
    "helper.display_stats(cifar10_dataset_folder_path, batch_id, sample_id)"
   ]
  },
  {
   "cell_type": "markdown",
   "metadata": {
    "deletable": true,
    "editable": true
   },
   "source": [
    "## Implement Preprocess Functions\n",
    "### Normalize\n",
    "In the cell below, implement the `normalize` function to take in image data, `x`, and return it as a normalized Numpy array. The values should be in the range of 0 to 1, inclusive.  The return object should be the same shape as `x`."
   ]
  },
  {
   "cell_type": "code",
   "execution_count": 3,
   "metadata": {
    "collapsed": false,
    "deletable": true,
    "editable": true
   },
   "outputs": [
    {
     "name": "stdout",
     "output_type": "stream",
     "text": [
      "Tests Passed\n"
     ]
    }
   ],
   "source": [
    "def normalize(x):\n",
    "    \"\"\"\n",
    "    Normalize a list of sample image data in the range of 0 to 1\n",
    "    : x: List of image data.  The image shape is (32, 32, 3)\n",
    "    : return: Numpy array of normalize data\n",
    "    \"\"\"\n",
    "    a = 0\n",
    "    b = 1\n",
    "    grayscale_min = 0\n",
    "    grayscale_max = 255\n",
    "    return a + ( ( (x - grayscale_min)*(b - a) )/( grayscale_max - grayscale_min ) )\n",
    "\n",
    "\n",
    "\"\"\"\n",
    "DON'T MODIFY ANYTHING IN THIS CELL THAT IS BELOW THIS LINE\n",
    "\"\"\"\n",
    "tests.test_normalize(normalize)"
   ]
  },
  {
   "cell_type": "markdown",
   "metadata": {
    "deletable": true,
    "editable": true
   },
   "source": [
    "### One-hot encode\n",
    "Just like the previous code cell, you'll be implementing a function for preprocessing.  This time, you'll implement the `one_hot_encode` function. The input, `x`, are a list of labels.  Implement the function to return the list of labels as One-Hot encoded Numpy array.  The possible values for labels are 0 to 9. The one-hot encoding function should return the same encoding for each value between each call to `one_hot_encode`.  Make sure to save the map of encodings outside the function.\n",
    "\n",
    "Hint: Don't reinvent the wheel."
   ]
  },
  {
   "cell_type": "code",
   "execution_count": 4,
   "metadata": {
    "collapsed": false,
    "deletable": true,
    "editable": true
   },
   "outputs": [
    {
     "name": "stdout",
     "output_type": "stream",
     "text": [
      "Tests Passed\n"
     ]
    }
   ],
   "source": [
    "from sklearn.preprocessing import LabelBinarizer\n",
    "def one_hot_encode(x):\n",
    "    \"\"\"\n",
    "    One hot encode a list of sample labels. Return a one-hot encoded vector for each label.\n",
    "    : x: List of sample Labels\n",
    "    : return: Numpy array of one-hot encoded labels\n",
    "    \"\"\"\n",
    "    lb = LabelBinarizer()\n",
    "    lb.fit([0,1,2,3,4,5,6,7,8,9])\n",
    "    one_hot_x = lb.transform(x)\n",
    "    #print (x)\n",
    "    #print (one_hot_x)\n",
    "    return one_hot_x\n",
    "\n",
    "\n",
    "\"\"\"\n",
    "DON'T MODIFY ANYTHING IN THIS CELL THAT IS BELOW THIS LINE\n",
    "\"\"\"\n",
    "tests.test_one_hot_encode(one_hot_encode)"
   ]
  },
  {
   "cell_type": "markdown",
   "metadata": {
    "deletable": true,
    "editable": true
   },
   "source": [
    "### Randomize Data\n",
    "As you saw from exploring the data above, the order of the samples are randomized.  It doesn't hurt to randomize it again, but you don't need to for this dataset."
   ]
  },
  {
   "cell_type": "markdown",
   "metadata": {
    "deletable": true,
    "editable": true
   },
   "source": [
    "## Preprocess all the data and save it\n",
    "Running the code cell below will preprocess all the CIFAR-10 data and save it to file. The code below also uses 10% of the training data for validation."
   ]
  },
  {
   "cell_type": "code",
   "execution_count": 5,
   "metadata": {
    "collapsed": false,
    "deletable": true,
    "editable": true
   },
   "outputs": [],
   "source": [
    "\"\"\"\n",
    "DON'T MODIFY ANYTHING IN THIS CELL\n",
    "\"\"\"\n",
    "# Preprocess Training, Validation, and Testing Data\n",
    "helper.preprocess_and_save_data(cifar10_dataset_folder_path, normalize, one_hot_encode)"
   ]
  },
  {
   "cell_type": "markdown",
   "metadata": {
    "deletable": true,
    "editable": true
   },
   "source": [
    "# Check Point\n",
    "This is your first checkpoint.  If you ever decide to come back to this notebook or have to restart the notebook, you can start from here.  The preprocessed data has been saved to disk."
   ]
  },
  {
   "cell_type": "code",
   "execution_count": 1,
   "metadata": {
    "collapsed": true,
    "deletable": true,
    "editable": true
   },
   "outputs": [],
   "source": [
    "\"\"\"\n",
    "DON'T MODIFY ANYTHING IN THIS CELL\n",
    "\"\"\"\n",
    "import pickle\n",
    "import problem_unittests as tests\n",
    "import helper\n",
    "\n",
    "# Load the Preprocessed Validation data\n",
    "valid_features, valid_labels = pickle.load(open('preprocess_validation.p', mode='rb'))"
   ]
  },
  {
   "cell_type": "markdown",
   "metadata": {
    "deletable": true,
    "editable": true
   },
   "source": [
    "## Build the network\n",
    "For the neural network, you'll build each layer into a function.  Most of the code you've seen has been outside of functions. To test your code more thoroughly, we require that you put each layer in a function.  This allows us to give you better feedback and test for simple mistakes using our unittests before you submit your project.\n",
    "\n",
    ">**Note:** If you're finding it hard to dedicate enough time for this course each week, we've provided a small shortcut to this part of the project. In the next couple of problems, you'll have the option to use classes from the [TensorFlow Layers](https://www.tensorflow.org/api_docs/python/tf/layers) or [TensorFlow Layers (contrib)](https://www.tensorflow.org/api_guides/python/contrib.layers) packages to build each layer, except the layers you build in the \"Convolutional and Max Pooling Layer\" section.  TF Layers is similar to Keras's and TFLearn's abstraction to layers, so it's easy to pickup.\n",
    "\n",
    ">However, if you would like to get the most out of this course, try to solve all the problems _without_ using anything from the TF Layers packages. You **can** still use classes from other packages that happen to have the same name as ones you find in TF Layers! For example, instead of using the TF Layers version of the `conv2d` class, [tf.layers.conv2d](https://www.tensorflow.org/api_docs/python/tf/layers/conv2d), you would want to use the TF Neural Network version of `conv2d`, [tf.nn.conv2d](https://www.tensorflow.org/api_docs/python/tf/nn/conv2d). \n",
    "\n",
    "Let's begin!\n",
    "\n",
    "### Input\n",
    "The neural network needs to read the image data, one-hot encoded labels, and dropout keep probability. Implement the following functions\n",
    "* Implement `neural_net_image_input`\n",
    " * Return a [TF Placeholder](https://www.tensorflow.org/api_docs/python/tf/placeholder)\n",
    " * Set the shape using `image_shape` with batch size set to `None`.\n",
    " * Name the TensorFlow placeholder \"x\" using the TensorFlow `name` parameter in the [TF Placeholder](https://www.tensorflow.org/api_docs/python/tf/placeholder).\n",
    "* Implement `neural_net_label_input`\n",
    " * Return a [TF Placeholder](https://www.tensorflow.org/api_docs/python/tf/placeholder)\n",
    " * Set the shape using `n_classes` with batch size set to `None`.\n",
    " * Name the TensorFlow placeholder \"y\" using the TensorFlow `name` parameter in the [TF Placeholder](https://www.tensorflow.org/api_docs/python/tf/placeholder).\n",
    "* Implement `neural_net_keep_prob_input`\n",
    " * Return a [TF Placeholder](https://www.tensorflow.org/api_docs/python/tf/placeholder) for dropout keep probability.\n",
    " * Name the TensorFlow placeholder \"keep_prob\" using the TensorFlow `name` parameter in the [TF Placeholder](https://www.tensorflow.org/api_docs/python/tf/placeholder).\n",
    "\n",
    "These names will be used at the end of the project to load your saved model.\n",
    "\n",
    "Note: `None` for shapes in TensorFlow allow for a dynamic size."
   ]
  },
  {
   "cell_type": "code",
   "execution_count": 2,
   "metadata": {
    "collapsed": false,
    "deletable": true,
    "editable": true
   },
   "outputs": [
    {
     "name": "stdout",
     "output_type": "stream",
     "text": [
      "Image Input Tests Passed.\n",
      "Label Input Tests Passed.\n",
      "Keep Prob Tests Passed.\n"
     ]
    }
   ],
   "source": [
    "import tensorflow as tf\n",
    "\n",
    "def neural_net_image_input(image_shape):\n",
    "    \"\"\"\n",
    "    Return a Tensor for a bach of image input\n",
    "    : image_shape: Shape of the images\n",
    "    : return: Tensor for image input.\n",
    "    \"\"\"\n",
    "    #print (image_shape)\n",
    "    return tf.placeholder(tf.float32,shape =[None,*image_shape],name='x')\n",
    "\n",
    "\n",
    "def neural_net_label_input(n_classes):\n",
    "    \"\"\"\n",
    "    Return a Tensor for a batch of label input\n",
    "    : n_classes: Number of classes\n",
    "    : return: Tensor for label input.\n",
    "    \"\"\"\n",
    "    #print (n_classes)\n",
    "    return tf.placeholder(tf.float32,shape =[None,10],name='y')\n",
    "\n",
    "\n",
    "def neural_net_keep_prob_input():\n",
    "    \"\"\"\n",
    "    Return a Tensor for keep probability\n",
    "    : return: Tensor for keep probability.\n",
    "    \"\"\"\n",
    "   \n",
    "    return tf.placeholder(tf.float32,name='keep_prob')\n",
    "\n",
    "\n",
    "\"\"\"\n",
    "DON'T MODIFY ANYTHING IN THIS CELL THAT IS BELOW THIS LINE\n",
    "\"\"\"\n",
    "tf.reset_default_graph()\n",
    "tests.test_nn_image_inputs(neural_net_image_input)\n",
    "tests.test_nn_label_inputs(neural_net_label_input)\n",
    "tests.test_nn_keep_prob_inputs(neural_net_keep_prob_input)"
   ]
  },
  {
   "cell_type": "markdown",
   "metadata": {
    "deletable": true,
    "editable": true
   },
   "source": [
    "### Convolution and Max Pooling Layer\n",
    "Convolution layers have a lot of success with images. For this code cell, you should implement the function `conv2d_maxpool` to apply convolution then max pooling:\n",
    "* Create the weight and bias using `conv_ksize`, `conv_num_outputs` and the shape of `x_tensor`.\n",
    "* Apply a convolution to `x_tensor` using weight and `conv_strides`.\n",
    " * We recommend you use same padding, but you're welcome to use any padding.\n",
    "* Add bias\n",
    "* Add a nonlinear activation to the convolution.\n",
    "* Apply Max Pooling using `pool_ksize` and `pool_strides`.\n",
    " * We recommend you use same padding, but you're welcome to use any padding.\n",
    "\n",
    "**Note:** You **can't** use [TensorFlow Layers](https://www.tensorflow.org/api_docs/python/tf/layers) or [TensorFlow Layers (contrib)](https://www.tensorflow.org/api_guides/python/contrib.layers) for **this** layer, but you can still use TensorFlow's [Neural Network](https://www.tensorflow.org/api_docs/python/tf/nn) package. You may still use the shortcut option for all the **other** layers."
   ]
  },
  {
   "cell_type": "code",
   "execution_count": 3,
   "metadata": {
    "collapsed": false,
    "deletable": true,
    "editable": true
   },
   "outputs": [
    {
     "name": "stdout",
     "output_type": "stream",
     "text": [
      "Tensor(\"Placeholder:0\", shape=(?, 32, 32, 5), dtype=float32) 10 (2, 2) (4, 4) (2, 2) (2, 2)\n",
      "Tests Passed\n"
     ]
    }
   ],
   "source": [
    "def conv2d_maxpool(x_tensor, conv_num_outputs, conv_ksize, conv_strides, pool_ksize, pool_strides):\n",
    "    \"\"\"\n",
    "    Apply convolution then max pooling to x_tensor\n",
    "    :param x_tensor: TensorFlow Tensor\n",
    "    :param conv_num_outputs: Number of outputs for the convolutional layer\n",
    "    :param conv_ksize: kernal size 2-D Tuple for the convolutional layer\n",
    "    :param conv_strides: Stride 2-D Tuple for convolution\n",
    "    :param pool_ksize: kernal size 2-D Tuple for pool\n",
    "    :param pool_strides: Stride 2-D Tuple for pool\n",
    "    : return: A tensor that represents convolution and max pooling of x_tensor\n",
    "    \"\"\"\n",
    "    #print(x_tensor, conv_num_outputs, conv_ksize, conv_strides, pool_ksize, pool_strides)\n",
    "    filter_size_height = conv_ksize[0]\n",
    "    filter_size_width = conv_ksize[1]\n",
    "    x_tensor_depth = int(x_tensor.get_shape()[3])\n",
    "    #print(type(x_tensor_depth))\n",
    "    #print (filter_size_height,filter_size_width,x_tensor_depth)\n",
    "    weight = tf.Variable(tf.truncated_normal([filter_size_height, filter_size_width, x_tensor_depth, conv_num_outputs], stddev=0.1))\n",
    "    bias = tf.Variable(tf.zeros(conv_num_outputs))\n",
    "    conv_layer = tf.nn.conv2d(x_tensor, weight, [1,conv_strides[0],conv_strides[1],1], padding='SAME')\n",
    "    conv_layer = tf.nn.bias_add(conv_layer, bias)\n",
    "    conv_layer = tf.nn.relu(conv_layer)\n",
    "    conv_layer = tf.nn.max_pool(conv_layer,[1,pool_ksize[0],pool_ksize[1],1],[1,pool_strides[0],pool_strides[1],1],padding='SAME')\n",
    "    print (x_tensor, conv_num_outputs, conv_ksize, conv_strides, pool_ksize, pool_strides)\n",
    "    return conv_layer \n",
    "\n",
    "\n",
    "\"\"\"\n",
    "DON'T MODIFY ANYTHING IN THIS CELL THAT IS BELOW THIS LINE\n",
    "\"\"\"\n",
    "tests.test_con_pool(conv2d_maxpool)"
   ]
  },
  {
   "cell_type": "markdown",
   "metadata": {
    "deletable": true,
    "editable": true
   },
   "source": [
    "### Flatten Layer\n",
    "Implement the `flatten` function to change the dimension of `x_tensor` from a 4-D tensor to a 2-D tensor.  The output should be the shape (*Batch Size*, *Flattened Image Size*). Shortcut option: you can use classes from the [TensorFlow Layers](https://www.tensorflow.org/api_docs/python/tf/layers) or [TensorFlow Layers (contrib)](https://www.tensorflow.org/api_guides/python/contrib.layers) packages for this layer. For more of a challenge, only use other TensorFlow packages."
   ]
  },
  {
   "cell_type": "code",
   "execution_count": 4,
   "metadata": {
    "collapsed": false,
    "deletable": true,
    "editable": true
   },
   "outputs": [
    {
     "name": "stdout",
     "output_type": "stream",
     "text": [
      "Tests Passed\n"
     ]
    }
   ],
   "source": [
    "def flatten(x_tensor):\n",
    "    \"\"\"\n",
    "    Flatten x_tensor to (Batch Size, Flattened Image Size)\n",
    "    : x_tensor: A tensor of size (Batch Size, ...), where ... are the image dimensions.\n",
    "    : return: A tensor of size (Batch Size, Flattened Image Size).\n",
    "    \"\"\"\n",
    "    \n",
    "    return tf.contrib.layers.flatten(x_tensor)\n",
    "\n",
    "\n",
    "\"\"\"\n",
    "DON'T MODIFY ANYTHING IN THIS CELL THAT IS BELOW THIS LINE\n",
    "\"\"\"\n",
    "tests.test_flatten(flatten)"
   ]
  },
  {
   "cell_type": "markdown",
   "metadata": {
    "deletable": true,
    "editable": true
   },
   "source": [
    "### Fully-Connected Layer\n",
    "Implement the `fully_conn` function to apply a fully connected layer to `x_tensor` with the shape (*Batch Size*, *num_outputs*). Shortcut option: you can use classes from the [TensorFlow Layers](https://www.tensorflow.org/api_docs/python/tf/layers) or [TensorFlow Layers (contrib)](https://www.tensorflow.org/api_guides/python/contrib.layers) packages for this layer. For more of a challenge, only use other TensorFlow packages."
   ]
  },
  {
   "cell_type": "code",
   "execution_count": 5,
   "metadata": {
    "collapsed": false,
    "deletable": true,
    "editable": true
   },
   "outputs": [
    {
     "name": "stdout",
     "output_type": "stream",
     "text": [
      "Tests Passed\n"
     ]
    }
   ],
   "source": [
    "def fully_conn(x_tensor, num_outputs):\n",
    "    \"\"\"\n",
    "    Apply a fully connected layer to x_tensor using weight and bias\n",
    "    : x_tensor: A 2-D tensor where the first dimension is batch size.\n",
    "    : num_outputs: The number of output that the new tensor should be.\n",
    "    : return: A 2-D tensor where the second dimension is num_outputs.\n",
    "    \"\"\"\n",
    "    \n",
    "    return tf.contrib.layers.fully_connected(x_tensor,num_outputs)\n",
    "\n",
    "\n",
    "\"\"\"\n",
    "DON'T MODIFY ANYTHING IN THIS CELL THAT IS BELOW THIS LINE\n",
    "\"\"\"\n",
    "tests.test_fully_conn(fully_conn)"
   ]
  },
  {
   "cell_type": "markdown",
   "metadata": {
    "deletable": true,
    "editable": true
   },
   "source": [
    "### Output Layer\n",
    "Implement the `output` function to apply a fully connected layer to `x_tensor` with the shape (*Batch Size*, *num_outputs*). Shortcut option: you can use classes from the [TensorFlow Layers](https://www.tensorflow.org/api_docs/python/tf/layers) or [TensorFlow Layers (contrib)](https://www.tensorflow.org/api_guides/python/contrib.layers) packages for this layer. For more of a challenge, only use other TensorFlow packages.\n",
    "\n",
    "**Note:** Activation, softmax, or cross entropy should **not** be applied to this."
   ]
  },
  {
   "cell_type": "code",
   "execution_count": 11,
   "metadata": {
    "collapsed": false,
    "deletable": true,
    "editable": true
   },
   "outputs": [
    {
     "name": "stdout",
     "output_type": "stream",
     "text": [
      "Tests Passed\n"
     ]
    }
   ],
   "source": [
    "def output(x_tensor, num_outputs):\n",
    "    \"\"\"\n",
    "    Apply a output layer to x_tensor using weight and bias\n",
    "    : x_tensor: A 2-D tensor where the first dimension is batch size.\n",
    "    : num_outputs: The number of output that the new tensor should be.\n",
    "    : return: A 2-D tensor where the second dimension is num_outputs.\n",
    "    \"\"\"\n",
    "    # Implement Function\n",
    "    return tf.layers.dense(inputs=x_tensor, units=num_outputs, activation=None)\n",
    "\n",
    "\n",
    "\"\"\"\n",
    "DON'T MODIFY ANYTHING IN THIS CELL THAT IS BELOW THIS LINE\n",
    "\"\"\"\n",
    "tests.test_output(output)"
   ]
  },
  {
   "cell_type": "markdown",
   "metadata": {
    "deletable": true,
    "editable": true
   },
   "source": [
    "### Create Convolutional Model\n",
    "Implement the function `conv_net` to create a convolutional neural network model. The function takes in a batch of images, `x`, and outputs logits.  Use the layers you created above to create this model:\n",
    "\n",
    "* Apply 1, 2, or 3 Convolution and Max Pool layers\n",
    "* Apply a Flatten Layer\n",
    "* Apply 1, 2, or 3 Fully Connected Layers\n",
    "* Apply an Output Layer\n",
    "* Return the output\n",
    "* Apply [TensorFlow's Dropout](https://www.tensorflow.org/api_docs/python/tf/nn/dropout) to one or more layers in the model using `keep_prob`. "
   ]
  },
  {
   "cell_type": "code",
   "execution_count": 12,
   "metadata": {
    "collapsed": false,
    "deletable": true,
    "editable": true
   },
   "outputs": [
    {
     "name": "stdout",
     "output_type": "stream",
     "text": [
      "Tensor(\"x:0\", shape=(?, 32, 32, 3), dtype=float32) 64 (5, 5) (2, 2) (3, 3) (2, 2)\n",
      "Tensor(\"MaxPool:0\", shape=(?, 8, 8, 64), dtype=float32) 64 (5, 5) (2, 2) (3, 3) (2, 2)\n",
      "Tensor(\"MaxPool_1:0\", shape=(?, 2, 2, 64), dtype=float32) 64 (5, 5) (2, 2) (3, 3) (2, 2)\n",
      "Tensor(\"Placeholder:0\", shape=(?, 32, 32, 3), dtype=float32) 64 (5, 5) (2, 2) (3, 3) (2, 2)\n",
      "Tensor(\"MaxPool_3:0\", shape=(?, 8, 8, 64), dtype=float32) 64 (5, 5) (2, 2) (3, 3) (2, 2)\n",
      "Tensor(\"MaxPool_4:0\", shape=(?, 2, 2, 64), dtype=float32) 64 (5, 5) (2, 2) (3, 3) (2, 2)\n",
      "Neural Network Built!\n"
     ]
    }
   ],
   "source": [
    "def conv_net(x, keep_prob):\n",
    "    \"\"\"\n",
    "    Create a convolutional neural network model\n",
    "    : x: Placeholder tensor that holds image data.\n",
    "    : keep_prob: Placeholder tensor that hold dropout keep probability.\n",
    "    : return: Tensor that represents logits\n",
    "    \"\"\"\n",
    "    # Apply 1, 2, or 3 Convolution and Max Pool layers\n",
    "    #    Play around with different number of outputs, kernel size and stride\n",
    "    # Function Definition from Above:\n",
    "    #    conv2d_maxpool(x_tensor, conv_num_outputs, conv_ksize, conv_strides, pool_ksize, pool_strides)\n",
    "    conv_num_outputs = 64\n",
    "    conv_ksize = (5, 5)\n",
    "    conv_strides = (2,2)\n",
    "    pool_ksize = (3, 3)\n",
    "    pool_strides = (2,2)\n",
    "    n_class = 10\n",
    "    \n",
    "    conv_layer = conv2d_maxpool(x, conv_num_outputs, conv_ksize, conv_strides, pool_ksize, pool_strides)\n",
    "    conv_layer = conv2d_maxpool(conv_layer, conv_num_outputs, conv_ksize, conv_strides, pool_ksize, pool_strides)\n",
    "    conv_layer = conv2d_maxpool(conv_layer, conv_num_outputs, conv_ksize, conv_strides, pool_ksize, pool_strides)\n",
    "    \n",
    "    #  Apply a Flatten Layer\n",
    "    # Function Definition from Above:\n",
    "    #   flatten(x_tensor)\n",
    "    flat_x = flatten(conv_layer)\n",
    "    \n",
    "    #    Play around with different number of outputs\n",
    "    # Function Definition from Above:\n",
    "    #   fully_conn(x_tensor, num_outputs)\n",
    "    full_layer = fully_conn(flat_x,32)\n",
    "    full_layer = fully_conn(full_layer,n_class)\n",
    "    #full_layer = fully_conn(full_layer,n_class)\n",
    "    \n",
    "    #    Set this to the number of classes\n",
    "    # Function Definition from Above:\n",
    "    #   output(x_tensor, num_outputs)\n",
    "    drop_layer = tf.layers.dropout(full_layer,rate = keep_prob)\n",
    "    out = output(drop_layer, n_class)\n",
    "    # TODO: return output\n",
    "    return out\n",
    "\n",
    "\n",
    "\"\"\"\n",
    "DON'T MODIFY ANYTHING IN THIS CELL THAT IS BELOW THIS LINE\n",
    "\"\"\"\n",
    "\n",
    "##############################\n",
    "## Build the Neural Network ##\n",
    "##############################\n",
    "\n",
    "# Remove previous weights, bias, inputs, etc..\n",
    "tf.reset_default_graph()\n",
    "\n",
    "# Inputs\n",
    "x = neural_net_image_input((32, 32, 3))\n",
    "y = neural_net_label_input(10)\n",
    "keep_prob = neural_net_keep_prob_input()\n",
    "\n",
    "# Model\n",
    "logits = conv_net(x, keep_prob)\n",
    "\n",
    "# Name logits Tensor, so that is can be loaded from disk after training\n",
    "logits = tf.identity(logits, name='logits')\n",
    "\n",
    "# Loss and Optimizer\n",
    "cost = tf.reduce_mean(tf.nn.softmax_cross_entropy_with_logits(logits=logits, labels=y))\n",
    "optimizer = tf.train.AdamOptimizer().minimize(cost)\n",
    "\n",
    "# Accuracy\n",
    "correct_pred = tf.equal(tf.argmax(logits, 1), tf.argmax(y, 1))\n",
    "accuracy = tf.reduce_mean(tf.cast(correct_pred, tf.float32), name='accuracy')\n",
    "\n",
    "tests.test_conv_net(conv_net)"
   ]
  },
  {
   "cell_type": "markdown",
   "metadata": {
    "deletable": true,
    "editable": true
   },
   "source": [
    "## Train the Neural Network\n",
    "### Single Optimization\n",
    "Implement the function `train_neural_network` to do a single optimization.  The optimization should use `optimizer` to optimize in `session` with a `feed_dict` of the following:\n",
    "* `x` for image input\n",
    "* `y` for labels\n",
    "* `keep_prob` for keep probability for dropout\n",
    "\n",
    "This function will be called for each batch, so `tf.global_variables_initializer()` has already been called.\n",
    "\n",
    "Note: Nothing needs to be returned. This function is only optimizing the neural network."
   ]
  },
  {
   "cell_type": "code",
   "execution_count": 13,
   "metadata": {
    "collapsed": false,
    "deletable": true,
    "editable": true
   },
   "outputs": [
    {
     "name": "stdout",
     "output_type": "stream",
     "text": [
      "Tests Passed\n"
     ]
    }
   ],
   "source": [
    "def train_neural_network(session, optimizer, keep_probability, feature_batch, label_batch):\n",
    "    \"\"\"\n",
    "    Optimize the session on a batch of images and labels\n",
    "    : session: Current TensorFlow session\n",
    "    : optimizer: TensorFlow optimizer function\n",
    "    : keep_probability: keep probability\n",
    "    : feature_batch: Batch of Numpy image data\n",
    "    : label_batch: Batch of Numpy label data\n",
    "    \"\"\"\n",
    "    train_feed_dict = {\n",
    "        x: feature_batch,\n",
    "        y: label_batch,\n",
    "        keep_prob: keep_probability     \n",
    "    }\n",
    "    session.run(optimizer, train_feed_dict)\n",
    "    pass\n",
    "\n",
    "\n",
    "\"\"\"\n",
    "DON'T MODIFY ANYTHING IN THIS CELL THAT IS BELOW THIS LINE\n",
    "\"\"\"\n",
    "tests.test_train_nn(train_neural_network)"
   ]
  },
  {
   "cell_type": "markdown",
   "metadata": {
    "deletable": true,
    "editable": true
   },
   "source": [
    "### Show Stats\n",
    "Implement the function `print_stats` to print loss and validation accuracy.  Use the global variables `valid_features` and `valid_labels` to calculate validation accuracy.  Use a keep probability of `1.0` to calculate the loss and validation accuracy."
   ]
  },
  {
   "cell_type": "code",
   "execution_count": 14,
   "metadata": {
    "collapsed": false,
    "deletable": true,
    "editable": true
   },
   "outputs": [],
   "source": [
    "def print_stats(session, feature_batch, label_batch, cost, accuracy):\n",
    "    \"\"\"\n",
    "    Print information about loss and validation accuracy\n",
    "    : session: Current TensorFlow session\n",
    "    : feature_batch: Batch of Numpy image data\n",
    "    : label_batch: Batch of Numpy label data\n",
    "    : cost: TensorFlow cost function\n",
    "    : accuracy: TensorFlow accuracy function\n",
    "    \"\"\"\n",
    "    loss = session.run(cost, feed_dict={\n",
    "        x: feature_batch,\n",
    "        y: label_batch,\n",
    "        keep_prob: 1.})\n",
    "    valid_accuracy = session.run(accuracy, feed_dict={\n",
    "        x: valid_features,\n",
    "        y: valid_labels,\n",
    "        keep_prob:1.})\n",
    "    print ('loss:',loss,'valid_accuracy',valid_accuracy)"
   ]
  },
  {
   "cell_type": "markdown",
   "metadata": {
    "deletable": true,
    "editable": true
   },
   "source": [
    "### Hyperparameters\n",
    "Tune the following parameters:\n",
    "* Set `epochs` to the number of iterations until the network stops learning or start overfitting\n",
    "* Set `batch_size` to the highest number that your machine has memory for.  Most people set them to common sizes of memory:\n",
    " * 64\n",
    " * 128\n",
    " * 256\n",
    " * ...\n",
    "* Set `keep_probability` to the probability of keeping a node using dropout"
   ]
  },
  {
   "cell_type": "code",
   "execution_count": 15,
   "metadata": {
    "collapsed": true,
    "deletable": true,
    "editable": true
   },
   "outputs": [],
   "source": [
    "epochs = 100\n",
    "batch_size = 1024\n",
    "keep_probability = 0.7"
   ]
  },
  {
   "cell_type": "markdown",
   "metadata": {
    "deletable": true,
    "editable": true
   },
   "source": [
    "### Train on a Single CIFAR-10 Batch\n",
    "Instead of training the neural network on all the CIFAR-10 batches of data, let's use a single batch. This should save time while you iterate on the model to get a better accuracy.  Once the final validation accuracy is 50% or greater, run the model on all the data in the next section."
   ]
  },
  {
   "cell_type": "code",
   "execution_count": 16,
   "metadata": {
    "collapsed": false,
    "deletable": true,
    "editable": true
   },
   "outputs": [
    {
     "name": "stdout",
     "output_type": "stream",
     "text": [
      "Checking the Training on a Single Batch...\n",
      "Epoch  1, CIFAR-10 Batch 1:  loss: 2.2812 valid_accuracy 0.1372\n",
      "Epoch  2, CIFAR-10 Batch 1:  loss: 2.23577 valid_accuracy 0.1764\n",
      "Epoch  3, CIFAR-10 Batch 1:  loss: 2.20132 valid_accuracy 0.1848\n",
      "Epoch  4, CIFAR-10 Batch 1:  loss: 2.1594 valid_accuracy 0.214\n",
      "Epoch  5, CIFAR-10 Batch 1:  loss: 2.10487 valid_accuracy 0.2358\n",
      "Epoch  6, CIFAR-10 Batch 1:  loss: 2.05085 valid_accuracy 0.2404\n",
      "Epoch  7, CIFAR-10 Batch 1:  loss: 1.98948 valid_accuracy 0.27\n",
      "Epoch  8, CIFAR-10 Batch 1:  loss: 1.91858 valid_accuracy 0.2914\n",
      "Epoch  9, CIFAR-10 Batch 1:  loss: 1.84836 valid_accuracy 0.3176\n",
      "Epoch 10, CIFAR-10 Batch 1:  loss: 1.77946 valid_accuracy 0.351\n",
      "Epoch 11, CIFAR-10 Batch 1:  loss: 1.71511 valid_accuracy 0.3722\n",
      "Epoch 12, CIFAR-10 Batch 1:  loss: 1.658 valid_accuracy 0.3912\n",
      "Epoch 13, CIFAR-10 Batch 1:  loss: 1.60247 valid_accuracy 0.4008\n",
      "Epoch 14, CIFAR-10 Batch 1:  loss: 1.55548 valid_accuracy 0.4134\n",
      "Epoch 15, CIFAR-10 Batch 1:  loss: 1.5005 valid_accuracy 0.4232\n",
      "Epoch 16, CIFAR-10 Batch 1:  loss: 1.45616 valid_accuracy 0.436\n",
      "Epoch 17, CIFAR-10 Batch 1:  loss: 1.43764 valid_accuracy 0.436\n",
      "Epoch 18, CIFAR-10 Batch 1:  loss: 1.38336 valid_accuracy 0.4514\n",
      "Epoch 19, CIFAR-10 Batch 1:  loss: 1.3639 valid_accuracy 0.4536\n",
      "Epoch 20, CIFAR-10 Batch 1:  loss: 1.34768 valid_accuracy 0.457\n",
      "Epoch 21, CIFAR-10 Batch 1:  loss: 1.31003 valid_accuracy 0.4674\n",
      "Epoch 22, CIFAR-10 Batch 1:  loss: 1.25573 valid_accuracy 0.475\n",
      "Epoch 23, CIFAR-10 Batch 1:  loss: 1.25165 valid_accuracy 0.472\n",
      "Epoch 24, CIFAR-10 Batch 1:  loss: 1.19938 valid_accuracy 0.4898\n",
      "Epoch 25, CIFAR-10 Batch 1:  loss: 1.22235 valid_accuracy 0.4752\n",
      "Epoch 26, CIFAR-10 Batch 1:  loss: 1.14696 valid_accuracy 0.4996\n",
      "Epoch 27, CIFAR-10 Batch 1:  loss: 1.15392 valid_accuracy 0.4902\n",
      "Epoch 28, CIFAR-10 Batch 1:  loss: 1.12371 valid_accuracy 0.4958\n",
      "Epoch 29, CIFAR-10 Batch 1:  loss: 1.14136 valid_accuracy 0.4894\n",
      "Epoch 30, CIFAR-10 Batch 1:  loss: 1.11648 valid_accuracy 0.4984\n",
      "Epoch 31, CIFAR-10 Batch 1:  loss: 1.07411 valid_accuracy 0.5104\n",
      "Epoch 32, CIFAR-10 Batch 1:  loss: 1.06081 valid_accuracy 0.5084\n",
      "Epoch 33, CIFAR-10 Batch 1:  loss: 1.069 valid_accuracy 0.5064\n",
      "Epoch 34, CIFAR-10 Batch 1:  loss: 1.04392 valid_accuracy 0.518\n",
      "Epoch 35, CIFAR-10 Batch 1:  loss: 1.00921 valid_accuracy 0.5102\n",
      "Epoch 36, CIFAR-10 Batch 1:  loss: 1.09136 valid_accuracy 0.4886\n",
      "Epoch 37, CIFAR-10 Batch 1:  loss: 0.990743 valid_accuracy 0.512\n",
      "Epoch 38, CIFAR-10 Batch 1:  loss: 0.964252 valid_accuracy 0.524\n",
      "Epoch 39, CIFAR-10 Batch 1:  loss: 0.965006 valid_accuracy 0.5186\n",
      "Epoch 40, CIFAR-10 Batch 1:  loss: 0.955655 valid_accuracy 0.5194\n",
      "Epoch 41, CIFAR-10 Batch 1:  loss: 0.930532 valid_accuracy 0.5204\n",
      "Epoch 42, CIFAR-10 Batch 1:  loss: 0.909313 valid_accuracy 0.5244\n",
      "Epoch 43, CIFAR-10 Batch 1:  loss: 0.896439 valid_accuracy 0.5224\n",
      "Epoch 44, CIFAR-10 Batch 1:  loss: 0.879171 valid_accuracy 0.5212\n",
      "Epoch 45, CIFAR-10 Batch 1:  loss: 0.863499 valid_accuracy 0.5236\n",
      "Epoch 46, CIFAR-10 Batch 1:  loss: 0.867676 valid_accuracy 0.5166\n",
      "Epoch 47, CIFAR-10 Batch 1:  loss: 0.899139 valid_accuracy 0.5124\n",
      "Epoch 48, CIFAR-10 Batch 1:  loss: 0.854584 valid_accuracy 0.5154\n",
      "Epoch 49, CIFAR-10 Batch 1:  loss: 0.853495 valid_accuracy 0.5172\n",
      "Epoch 50, CIFAR-10 Batch 1:  loss: 0.83714 valid_accuracy 0.5252\n",
      "Epoch 51, CIFAR-10 Batch 1:  loss: 0.791821 valid_accuracy 0.5272\n",
      "Epoch 52, CIFAR-10 Batch 1:  loss: 0.860834 valid_accuracy 0.5032\n",
      "Epoch 53, CIFAR-10 Batch 1:  loss: 0.796641 valid_accuracy 0.5136\n",
      "Epoch 54, CIFAR-10 Batch 1:  loss: 0.77428 valid_accuracy 0.531\n",
      "Epoch 55, CIFAR-10 Batch 1:  loss: 0.745886 valid_accuracy 0.5242\n",
      "Epoch 56, CIFAR-10 Batch 1:  loss: 0.771044 valid_accuracy 0.5174\n",
      "Epoch 57, CIFAR-10 Batch 1:  loss: 0.730462 valid_accuracy 0.5258\n",
      "Epoch 58, CIFAR-10 Batch 1:  loss: 0.704708 valid_accuracy 0.5348\n",
      "Epoch 59, CIFAR-10 Batch 1:  loss: 0.696742 valid_accuracy 0.5318\n",
      "Epoch 60, CIFAR-10 Batch 1:  loss: 0.686567 valid_accuracy 0.5294\n",
      "Epoch 61, CIFAR-10 Batch 1:  loss: 0.675746 valid_accuracy 0.5294\n",
      "Epoch 62, CIFAR-10 Batch 1:  loss: 0.671243 valid_accuracy 0.5282\n",
      "Epoch 63, CIFAR-10 Batch 1:  loss: 0.674962 valid_accuracy 0.5208\n",
      "Epoch 64, CIFAR-10 Batch 1:  loss: 0.726325 valid_accuracy 0.5112\n",
      "Epoch 65, CIFAR-10 Batch 1:  loss: 0.854484 valid_accuracy 0.4826\n",
      "Epoch 66, CIFAR-10 Batch 1:  loss: 0.709667 valid_accuracy 0.5162\n",
      "Epoch 67, CIFAR-10 Batch 1:  loss: 0.636329 valid_accuracy 0.5312\n",
      "Epoch 68, CIFAR-10 Batch 1:  loss: 0.63687 valid_accuracy 0.529\n",
      "Epoch 69, CIFAR-10 Batch 1:  loss: 0.627214 valid_accuracy 0.5296\n",
      "Epoch 70, CIFAR-10 Batch 1:  loss: 0.62619 valid_accuracy 0.5268\n",
      "Epoch 71, CIFAR-10 Batch 1:  loss: 0.631041 valid_accuracy 0.5196\n",
      "Epoch 72, CIFAR-10 Batch 1:  loss: 0.610919 valid_accuracy 0.521\n",
      "Epoch 73, CIFAR-10 Batch 1:  loss: 0.606681 valid_accuracy 0.524\n",
      "Epoch 74, CIFAR-10 Batch 1:  loss: 0.573648 valid_accuracy 0.5304\n",
      "Epoch 75, CIFAR-10 Batch 1:  loss: 0.575075 valid_accuracy 0.5188\n",
      "Epoch 76, CIFAR-10 Batch 1:  loss: 0.553482 valid_accuracy 0.5278\n",
      "Epoch 77, CIFAR-10 Batch 1:  loss: 0.568366 valid_accuracy 0.52\n",
      "Epoch 78, CIFAR-10 Batch 1:  loss: 0.562278 valid_accuracy 0.5212\n",
      "Epoch 79, CIFAR-10 Batch 1:  loss: 0.554206 valid_accuracy 0.5198\n",
      "Epoch 80, CIFAR-10 Batch 1:  loss: 0.512109 valid_accuracy 0.5264\n",
      "Epoch 81, CIFAR-10 Batch 1:  loss: 0.520451 valid_accuracy 0.5254\n",
      "Epoch 82, CIFAR-10 Batch 1:  loss: 0.546786 valid_accuracy 0.5152\n",
      "Epoch 83, CIFAR-10 Batch 1:  loss: 0.495418 valid_accuracy 0.5266\n",
      "Epoch 84, CIFAR-10 Batch 1:  loss: 0.517565 valid_accuracy 0.5232\n",
      "Epoch 85, CIFAR-10 Batch 1:  loss: 0.564846 valid_accuracy 0.5106\n",
      "Epoch 86, CIFAR-10 Batch 1:  loss: 0.472161 valid_accuracy 0.5276\n",
      "Epoch 87, CIFAR-10 Batch 1:  loss: 0.513958 valid_accuracy 0.5248\n",
      "Epoch 88, CIFAR-10 Batch 1:  loss: 0.497346 valid_accuracy 0.5238\n",
      "Epoch 89, CIFAR-10 Batch 1:  loss: 0.449501 valid_accuracy 0.531\n",
      "Epoch 90, CIFAR-10 Batch 1:  loss: 0.464161 valid_accuracy 0.5248\n",
      "Epoch 91, CIFAR-10 Batch 1:  loss: 0.441731 valid_accuracy 0.5266\n",
      "Epoch 92, CIFAR-10 Batch 1:  loss: 0.416503 valid_accuracy 0.53\n",
      "Epoch 93, CIFAR-10 Batch 1:  loss: 0.40604 valid_accuracy 0.5288\n",
      "Epoch 94, CIFAR-10 Batch 1:  loss: 0.401161 valid_accuracy 0.5304\n",
      "Epoch 95, CIFAR-10 Batch 1:  loss: 0.403064 valid_accuracy 0.5334\n",
      "Epoch 96, CIFAR-10 Batch 1:  loss: 0.415217 valid_accuracy 0.5318\n",
      "Epoch 97, CIFAR-10 Batch 1:  loss: 0.437143 valid_accuracy 0.5218\n",
      "Epoch 98, CIFAR-10 Batch 1:  loss: 0.432331 valid_accuracy 0.5196\n",
      "Epoch 99, CIFAR-10 Batch 1:  loss: 0.37336 valid_accuracy 0.5262\n",
      "Epoch 100, CIFAR-10 Batch 1:  loss: 0.384925 valid_accuracy 0.5232\n"
     ]
    }
   ],
   "source": [
    "\"\"\"\n",
    "DON'T MODIFY ANYTHING IN THIS CELL\n",
    "\"\"\"\n",
    "print('Checking the Training on a Single Batch...')\n",
    "with tf.Session() as sess:\n",
    "    # Initializing the variables\n",
    "    sess.run(tf.global_variables_initializer())\n",
    "    \n",
    "    # Training cycle\n",
    "    for epoch in range(epochs):\n",
    "        batch_i = 1\n",
    "        for batch_features, batch_labels in helper.load_preprocess_training_batch(batch_i, batch_size):\n",
    "            train_neural_network(sess, optimizer, keep_probability, batch_features, batch_labels)\n",
    "        print('Epoch {:>2}, CIFAR-10 Batch {}:  '.format(epoch + 1, batch_i), end='')\n",
    "        print_stats(sess, batch_features, batch_labels, cost, accuracy)"
   ]
  },
  {
   "cell_type": "markdown",
   "metadata": {
    "deletable": true,
    "editable": true
   },
   "source": [
    "### Fully Train the Model\n",
    "Now that you got a good accuracy with a single CIFAR-10 batch, try it with all five batches."
   ]
  },
  {
   "cell_type": "code",
   "execution_count": 17,
   "metadata": {
    "collapsed": false,
    "deletable": true,
    "editable": true
   },
   "outputs": [
    {
     "name": "stdout",
     "output_type": "stream",
     "text": [
      "Training...\n",
      "Epoch  1, CIFAR-10 Batch 1:  loss: 2.29453 valid_accuracy 0.1052\n",
      "Epoch  1, CIFAR-10 Batch 2:  loss: 2.28128 valid_accuracy 0.1004\n",
      "Epoch  1, CIFAR-10 Batch 3:  loss: 2.2771 valid_accuracy 0.1318\n",
      "Epoch  1, CIFAR-10 Batch 4:  loss: 2.26385 valid_accuracy 0.1196\n",
      "Epoch  1, CIFAR-10 Batch 5:  loss: 2.27141 valid_accuracy 0.1324\n",
      "Epoch  2, CIFAR-10 Batch 1:  loss: 2.26824 valid_accuracy 0.138\n",
      "Epoch  2, CIFAR-10 Batch 2:  loss: 2.24655 valid_accuracy 0.1312\n",
      "Epoch  2, CIFAR-10 Batch 3:  loss: 2.23897 valid_accuracy 0.1234\n",
      "Epoch  2, CIFAR-10 Batch 4:  loss: 2.24094 valid_accuracy 0.1368\n",
      "Epoch  2, CIFAR-10 Batch 5:  loss: 2.24433 valid_accuracy 0.1384\n",
      "Epoch  3, CIFAR-10 Batch 1:  loss: 2.22294 valid_accuracy 0.1364\n",
      "Epoch  3, CIFAR-10 Batch 2:  loss: 2.20135 valid_accuracy 0.1282\n",
      "Epoch  3, CIFAR-10 Batch 3:  loss: 2.17982 valid_accuracy 0.1312\n",
      "Epoch  3, CIFAR-10 Batch 4:  loss: 2.17534 valid_accuracy 0.1202\n",
      "Epoch  3, CIFAR-10 Batch 5:  loss: 2.19886 valid_accuracy 0.1988\n",
      "Epoch  4, CIFAR-10 Batch 1:  loss: 2.15221 valid_accuracy 0.2032\n",
      "Epoch  4, CIFAR-10 Batch 2:  loss: 2.1368 valid_accuracy 0.1716\n",
      "Epoch  4, CIFAR-10 Batch 3:  loss: 2.10457 valid_accuracy 0.189\n",
      "Epoch  4, CIFAR-10 Batch 4:  loss: 2.11202 valid_accuracy 0.1966\n",
      "Epoch  4, CIFAR-10 Batch 5:  loss: 2.11277 valid_accuracy 0.203\n",
      "Epoch  5, CIFAR-10 Batch 1:  loss: 2.06233 valid_accuracy 0.2286\n",
      "Epoch  5, CIFAR-10 Batch 2:  loss: 2.02263 valid_accuracy 0.2284\n",
      "Epoch  5, CIFAR-10 Batch 3:  loss: 1.98997 valid_accuracy 0.2282\n",
      "Epoch  5, CIFAR-10 Batch 4:  loss: 1.94218 valid_accuracy 0.267\n",
      "Epoch  5, CIFAR-10 Batch 5:  loss: 1.93145 valid_accuracy 0.2702\n",
      "Epoch  6, CIFAR-10 Batch 1:  loss: 1.89185 valid_accuracy 0.2804\n",
      "Epoch  6, CIFAR-10 Batch 2:  loss: 1.86528 valid_accuracy 0.2886\n",
      "Epoch  6, CIFAR-10 Batch 3:  loss: 1.85886 valid_accuracy 0.28\n",
      "Epoch  6, CIFAR-10 Batch 4:  loss: 1.79866 valid_accuracy 0.3286\n",
      "Epoch  6, CIFAR-10 Batch 5:  loss: 1.77257 valid_accuracy 0.3198\n",
      "Epoch  7, CIFAR-10 Batch 1:  loss: 1.73209 valid_accuracy 0.353\n",
      "Epoch  7, CIFAR-10 Batch 2:  loss: 1.65618 valid_accuracy 0.3786\n",
      "Epoch  7, CIFAR-10 Batch 3:  loss: 1.6106 valid_accuracy 0.3918\n",
      "Epoch  7, CIFAR-10 Batch 4:  loss: 1.60239 valid_accuracy 0.3862\n",
      "Epoch  7, CIFAR-10 Batch 5:  loss: 1.59407 valid_accuracy 0.3898\n",
      "Epoch  8, CIFAR-10 Batch 1:  loss: 1.55514 valid_accuracy 0.3974\n",
      "Epoch  8, CIFAR-10 Batch 2:  loss: 1.4853 valid_accuracy 0.4186\n",
      "Epoch  8, CIFAR-10 Batch 3:  loss: 1.45989 valid_accuracy 0.43\n",
      "Epoch  8, CIFAR-10 Batch 4:  loss: 1.42344 valid_accuracy 0.448\n",
      "Epoch  8, CIFAR-10 Batch 5:  loss: 1.46267 valid_accuracy 0.4466\n",
      "Epoch  9, CIFAR-10 Batch 1:  loss: 1.41635 valid_accuracy 0.4538\n",
      "Epoch  9, CIFAR-10 Batch 2:  loss: 1.37608 valid_accuracy 0.4802\n",
      "Epoch  9, CIFAR-10 Batch 3:  loss: 1.34341 valid_accuracy 0.4932\n",
      "Epoch  9, CIFAR-10 Batch 4:  loss: 1.3088 valid_accuracy 0.4902\n",
      "Epoch  9, CIFAR-10 Batch 5:  loss: 1.33498 valid_accuracy 0.5076\n",
      "Epoch 10, CIFAR-10 Batch 1:  loss: 1.30385 valid_accuracy 0.5178\n",
      "Epoch 10, CIFAR-10 Batch 2:  loss: 1.30335 valid_accuracy 0.5126\n",
      "Epoch 10, CIFAR-10 Batch 3:  loss: 1.26647 valid_accuracy 0.514\n",
      "Epoch 10, CIFAR-10 Batch 4:  loss: 1.23103 valid_accuracy 0.5222\n",
      "Epoch 10, CIFAR-10 Batch 5:  loss: 1.25036 valid_accuracy 0.5272\n",
      "Epoch 11, CIFAR-10 Batch 1:  loss: 1.23788 valid_accuracy 0.5324\n",
      "Epoch 11, CIFAR-10 Batch 2:  loss: 1.29353 valid_accuracy 0.5132\n",
      "Epoch 11, CIFAR-10 Batch 3:  loss: 1.20451 valid_accuracy 0.5258\n",
      "Epoch 11, CIFAR-10 Batch 4:  loss: 1.17862 valid_accuracy 0.5384\n",
      "Epoch 11, CIFAR-10 Batch 5:  loss: 1.19819 valid_accuracy 0.5394\n",
      "Epoch 12, CIFAR-10 Batch 1:  loss: 1.20027 valid_accuracy 0.5378\n",
      "Epoch 12, CIFAR-10 Batch 2:  loss: 1.2797 valid_accuracy 0.5162\n",
      "Epoch 12, CIFAR-10 Batch 3:  loss: 1.17059 valid_accuracy 0.5278\n",
      "Epoch 12, CIFAR-10 Batch 4:  loss: 1.15796 valid_accuracy 0.55\n",
      "Epoch 12, CIFAR-10 Batch 5:  loss: 1.15973 valid_accuracy 0.549\n",
      "Epoch 13, CIFAR-10 Batch 1:  loss: 1.14853 valid_accuracy 0.5554\n",
      "Epoch 13, CIFAR-10 Batch 2:  loss: 1.21768 valid_accuracy 0.5256\n",
      "Epoch 13, CIFAR-10 Batch 3:  loss: 1.10962 valid_accuracy 0.5542\n",
      "Epoch 13, CIFAR-10 Batch 4:  loss: 1.1273 valid_accuracy 0.5614\n",
      "Epoch 13, CIFAR-10 Batch 5:  loss: 1.11439 valid_accuracy 0.556\n",
      "Epoch 14, CIFAR-10 Batch 1:  loss: 1.12427 valid_accuracy 0.563\n",
      "Epoch 14, CIFAR-10 Batch 2:  loss: 1.17412 valid_accuracy 0.5356\n",
      "Epoch 14, CIFAR-10 Batch 3:  loss: 1.07994 valid_accuracy 0.5642\n",
      "Epoch 14, CIFAR-10 Batch 4:  loss: 1.10957 valid_accuracy 0.5674\n",
      "Epoch 14, CIFAR-10 Batch 5:  loss: 1.07544 valid_accuracy 0.5684\n",
      "Epoch 15, CIFAR-10 Batch 1:  loss: 1.10741 valid_accuracy 0.5622\n",
      "Epoch 15, CIFAR-10 Batch 2:  loss: 1.1783 valid_accuracy 0.53\n",
      "Epoch 15, CIFAR-10 Batch 3:  loss: 1.08883 valid_accuracy 0.5654\n",
      "Epoch 15, CIFAR-10 Batch 4:  loss: 1.10433 valid_accuracy 0.5668\n",
      "Epoch 15, CIFAR-10 Batch 5:  loss: 1.04994 valid_accuracy 0.5724\n",
      "Epoch 16, CIFAR-10 Batch 1:  loss: 1.0669 valid_accuracy 0.5796\n",
      "Epoch 16, CIFAR-10 Batch 2:  loss: 1.11852 valid_accuracy 0.5544\n",
      "Epoch 16, CIFAR-10 Batch 3:  loss: 1.10536 valid_accuracy 0.5612\n",
      "Epoch 16, CIFAR-10 Batch 4:  loss: 1.06973 valid_accuracy 0.5762\n",
      "Epoch 16, CIFAR-10 Batch 5:  loss: 1.04655 valid_accuracy 0.572\n",
      "Epoch 17, CIFAR-10 Batch 1:  loss: 1.04215 valid_accuracy 0.5866\n",
      "Epoch 17, CIFAR-10 Batch 2:  loss: 1.0965 valid_accuracy 0.5838\n",
      "Epoch 17, CIFAR-10 Batch 3:  loss: 1.04905 valid_accuracy 0.5746\n",
      "Epoch 17, CIFAR-10 Batch 4:  loss: 1.02405 valid_accuracy 0.593\n",
      "Epoch 17, CIFAR-10 Batch 5:  loss: 0.985441 valid_accuracy 0.5854\n",
      "Epoch 18, CIFAR-10 Batch 1:  loss: 1.04255 valid_accuracy 0.5824\n",
      "Epoch 18, CIFAR-10 Batch 2:  loss: 1.07953 valid_accuracy 0.58\n",
      "Epoch 18, CIFAR-10 Batch 3:  loss: 1.01028 valid_accuracy 0.5884\n",
      "Epoch 18, CIFAR-10 Batch 4:  loss: 1.00963 valid_accuracy 0.5932\n",
      "Epoch 18, CIFAR-10 Batch 5:  loss: 0.96501 valid_accuracy 0.5892\n",
      "Epoch 19, CIFAR-10 Batch 1:  loss: 1.02875 valid_accuracy 0.584\n",
      "Epoch 19, CIFAR-10 Batch 2:  loss: 1.0627 valid_accuracy 0.5766\n",
      "Epoch 19, CIFAR-10 Batch 3:  loss: 0.981341 valid_accuracy 0.5954\n",
      "Epoch 19, CIFAR-10 Batch 4:  loss: 0.99678 valid_accuracy 0.594\n",
      "Epoch 19, CIFAR-10 Batch 5:  loss: 0.954426 valid_accuracy 0.5898\n",
      "Epoch 20, CIFAR-10 Batch 1:  loss: 1.03704 valid_accuracy 0.58\n",
      "Epoch 20, CIFAR-10 Batch 2:  loss: 1.02056 valid_accuracy 0.584\n",
      "Epoch 20, CIFAR-10 Batch 3:  loss: 0.975301 valid_accuracy 0.597\n",
      "Epoch 20, CIFAR-10 Batch 4:  loss: 0.999735 valid_accuracy 0.5864\n",
      "Epoch 20, CIFAR-10 Batch 5:  loss: 0.963249 valid_accuracy 0.5888\n",
      "Epoch 21, CIFAR-10 Batch 1:  loss: 0.96702 valid_accuracy 0.6016\n",
      "Epoch 21, CIFAR-10 Batch 2:  loss: 0.982492 valid_accuracy 0.6054\n",
      "Epoch 21, CIFAR-10 Batch 3:  loss: 0.960261 valid_accuracy 0.5924\n",
      "Epoch 21, CIFAR-10 Batch 4:  loss: 0.987604 valid_accuracy 0.5922\n",
      "Epoch 21, CIFAR-10 Batch 5:  loss: 0.927227 valid_accuracy 0.5986\n",
      "Epoch 22, CIFAR-10 Batch 1:  loss: 0.982512 valid_accuracy 0.597\n",
      "Epoch 22, CIFAR-10 Batch 2:  loss: 0.973684 valid_accuracy 0.6054\n",
      "Epoch 22, CIFAR-10 Batch 3:  loss: 0.931155 valid_accuracy 0.5962\n",
      "Epoch 22, CIFAR-10 Batch 4:  loss: 0.95266 valid_accuracy 0.603\n",
      "Epoch 22, CIFAR-10 Batch 5:  loss: 0.889706 valid_accuracy 0.604\n",
      "Epoch 23, CIFAR-10 Batch 1:  loss: 0.954247 valid_accuracy 0.6058\n",
      "Epoch 23, CIFAR-10 Batch 2:  loss: 0.956336 valid_accuracy 0.6114\n",
      "Epoch 23, CIFAR-10 Batch 3:  loss: 0.911973 valid_accuracy 0.6046\n",
      "Epoch 23, CIFAR-10 Batch 4:  loss: 0.928443 valid_accuracy 0.6066\n",
      "Epoch 23, CIFAR-10 Batch 5:  loss: 0.869421 valid_accuracy 0.6082\n",
      "Epoch 24, CIFAR-10 Batch 1:  loss: 0.931942 valid_accuracy 0.6076\n",
      "Epoch 24, CIFAR-10 Batch 2:  loss: 0.938696 valid_accuracy 0.6162\n",
      "Epoch 24, CIFAR-10 Batch 3:  loss: 0.89529 valid_accuracy 0.6056\n",
      "Epoch 24, CIFAR-10 Batch 4:  loss: 0.905974 valid_accuracy 0.6112\n",
      "Epoch 24, CIFAR-10 Batch 5:  loss: 0.846035 valid_accuracy 0.6166\n",
      "Epoch 25, CIFAR-10 Batch 1:  loss: 0.914438 valid_accuracy 0.612\n",
      "Epoch 25, CIFAR-10 Batch 2:  loss: 0.923544 valid_accuracy 0.6144\n",
      "Epoch 25, CIFAR-10 Batch 3:  loss: 0.875857 valid_accuracy 0.6122\n",
      "Epoch 25, CIFAR-10 Batch 4:  loss: 0.883428 valid_accuracy 0.618\n",
      "Epoch 25, CIFAR-10 Batch 5:  loss: 0.825859 valid_accuracy 0.6238\n",
      "Epoch 26, CIFAR-10 Batch 1:  loss: 0.897419 valid_accuracy 0.6178\n",
      "Epoch 26, CIFAR-10 Batch 2:  loss: 0.907536 valid_accuracy 0.6186\n",
      "Epoch 26, CIFAR-10 Batch 3:  loss: 0.861343 valid_accuracy 0.6162\n",
      "Epoch 26, CIFAR-10 Batch 4:  loss: 0.860832 valid_accuracy 0.6222\n",
      "Epoch 26, CIFAR-10 Batch 5:  loss: 0.805628 valid_accuracy 0.6222\n",
      "Epoch 27, CIFAR-10 Batch 1:  loss: 0.882389 valid_accuracy 0.6192\n",
      "Epoch 27, CIFAR-10 Batch 2:  loss: 0.891269 valid_accuracy 0.6252\n",
      "Epoch 27, CIFAR-10 Batch 3:  loss: 0.850042 valid_accuracy 0.6196\n",
      "Epoch 27, CIFAR-10 Batch 4:  loss: 0.843991 valid_accuracy 0.6222\n",
      "Epoch 27, CIFAR-10 Batch 5:  loss: 0.789095 valid_accuracy 0.6258\n",
      "Epoch 28, CIFAR-10 Batch 1:  loss: 0.869869 valid_accuracy 0.6204\n",
      "Epoch 28, CIFAR-10 Batch 2:  loss: 0.876345 valid_accuracy 0.626\n",
      "Epoch 28, CIFAR-10 Batch 3:  loss: 0.829911 valid_accuracy 0.6242\n",
      "Epoch 28, CIFAR-10 Batch 4:  loss: 0.828802 valid_accuracy 0.6236\n",
      "Epoch 28, CIFAR-10 Batch 5:  loss: 0.772561 valid_accuracy 0.6288\n",
      "Epoch 29, CIFAR-10 Batch 1:  loss: 0.852565 valid_accuracy 0.6238\n",
      "Epoch 29, CIFAR-10 Batch 2:  loss: 0.864022 valid_accuracy 0.6264\n",
      "Epoch 29, CIFAR-10 Batch 3:  loss: 0.815055 valid_accuracy 0.629\n",
      "Epoch 29, CIFAR-10 Batch 4:  loss: 0.811854 valid_accuracy 0.6264\n",
      "Epoch 29, CIFAR-10 Batch 5:  loss: 0.757872 valid_accuracy 0.6278\n",
      "Epoch 30, CIFAR-10 Batch 1:  loss: 0.834407 valid_accuracy 0.624\n",
      "Epoch 30, CIFAR-10 Batch 2:  loss: 0.850931 valid_accuracy 0.6278\n",
      "Epoch 30, CIFAR-10 Batch 3:  loss: 0.798315 valid_accuracy 0.6302\n",
      "Epoch 30, CIFAR-10 Batch 4:  loss: 0.79802 valid_accuracy 0.6278\n",
      "Epoch 30, CIFAR-10 Batch 5:  loss: 0.740098 valid_accuracy 0.632\n",
      "Epoch 31, CIFAR-10 Batch 1:  loss: 0.818209 valid_accuracy 0.6268\n",
      "Epoch 31, CIFAR-10 Batch 2:  loss: 0.838277 valid_accuracy 0.6292\n",
      "Epoch 31, CIFAR-10 Batch 3:  loss: 0.786092 valid_accuracy 0.6304\n",
      "Epoch 31, CIFAR-10 Batch 4:  loss: 0.786312 valid_accuracy 0.6286\n",
      "Epoch 31, CIFAR-10 Batch 5:  loss: 0.722899 valid_accuracy 0.6352\n",
      "Epoch 32, CIFAR-10 Batch 1:  loss: 0.798693 valid_accuracy 0.6314\n",
      "Epoch 32, CIFAR-10 Batch 2:  loss: 0.831129 valid_accuracy 0.6256\n",
      "Epoch 32, CIFAR-10 Batch 3:  loss: 0.775304 valid_accuracy 0.6328\n",
      "Epoch 32, CIFAR-10 Batch 4:  loss: 0.770047 valid_accuracy 0.631\n",
      "Epoch 32, CIFAR-10 Batch 5:  loss: 0.711454 valid_accuracy 0.6366\n",
      "Epoch 33, CIFAR-10 Batch 1:  loss: 0.780217 valid_accuracy 0.6316\n",
      "Epoch 33, CIFAR-10 Batch 2:  loss: 0.817758 valid_accuracy 0.6296\n",
      "Epoch 33, CIFAR-10 Batch 3:  loss: 0.760226 valid_accuracy 0.6352\n",
      "Epoch 33, CIFAR-10 Batch 4:  loss: 0.752071 valid_accuracy 0.6338\n",
      "Epoch 33, CIFAR-10 Batch 5:  loss: 0.697646 valid_accuracy 0.6388\n",
      "Epoch 34, CIFAR-10 Batch 1:  loss: 0.764636 valid_accuracy 0.634\n",
      "Epoch 34, CIFAR-10 Batch 2:  loss: 0.809971 valid_accuracy 0.6304\n",
      "Epoch 34, CIFAR-10 Batch 3:  loss: 0.749918 valid_accuracy 0.6354\n",
      "Epoch 34, CIFAR-10 Batch 4:  loss: 0.74202 valid_accuracy 0.6378\n",
      "Epoch 34, CIFAR-10 Batch 5:  loss: 0.685613 valid_accuracy 0.643\n",
      "Epoch 35, CIFAR-10 Batch 1:  loss: 0.749014 valid_accuracy 0.6356\n",
      "Epoch 35, CIFAR-10 Batch 2:  loss: 0.798788 valid_accuracy 0.632\n",
      "Epoch 35, CIFAR-10 Batch 3:  loss: 0.744719 valid_accuracy 0.635\n",
      "Epoch 35, CIFAR-10 Batch 4:  loss: 0.731685 valid_accuracy 0.6382\n",
      "Epoch 35, CIFAR-10 Batch 5:  loss: 0.672524 valid_accuracy 0.6442\n",
      "Epoch 36, CIFAR-10 Batch 1:  loss: 0.735032 valid_accuracy 0.6394\n",
      "Epoch 36, CIFAR-10 Batch 2:  loss: 0.789207 valid_accuracy 0.631\n",
      "Epoch 36, CIFAR-10 Batch 3:  loss: 0.735766 valid_accuracy 0.6338\n",
      "Epoch 36, CIFAR-10 Batch 4:  loss: 0.723439 valid_accuracy 0.6356\n",
      "Epoch 36, CIFAR-10 Batch 5:  loss: 0.665066 valid_accuracy 0.6424\n",
      "Epoch 37, CIFAR-10 Batch 1:  loss: 0.726435 valid_accuracy 0.6352\n",
      "Epoch 37, CIFAR-10 Batch 2:  loss: 0.797933 valid_accuracy 0.6234\n",
      "Epoch 37, CIFAR-10 Batch 3:  loss: 0.737339 valid_accuracy 0.6292\n",
      "Epoch 37, CIFAR-10 Batch 4:  loss: 0.718949 valid_accuracy 0.6372\n",
      "Epoch 37, CIFAR-10 Batch 5:  loss: 0.676836 valid_accuracy 0.6362\n",
      "Epoch 38, CIFAR-10 Batch 1:  loss: 0.721215 valid_accuracy 0.6374\n",
      "Epoch 38, CIFAR-10 Batch 2:  loss: 0.770624 valid_accuracy 0.636\n",
      "Epoch 38, CIFAR-10 Batch 3:  loss: 0.725751 valid_accuracy 0.6342\n",
      "Epoch 38, CIFAR-10 Batch 4:  loss: 0.730274 valid_accuracy 0.6284\n",
      "Epoch 38, CIFAR-10 Batch 5:  loss: 0.68449 valid_accuracy 0.6262\n",
      "Epoch 39, CIFAR-10 Batch 1:  loss: 0.748481 valid_accuracy 0.6322\n",
      "Epoch 39, CIFAR-10 Batch 2:  loss: 0.778909 valid_accuracy 0.6336\n",
      "Epoch 39, CIFAR-10 Batch 3:  loss: 0.684963 valid_accuracy 0.6466\n",
      "Epoch 39, CIFAR-10 Batch 4:  loss: 0.694549 valid_accuracy 0.6376\n",
      "Epoch 39, CIFAR-10 Batch 5:  loss: 0.635681 valid_accuracy 0.645\n",
      "Epoch 40, CIFAR-10 Batch 1:  loss: 0.724927 valid_accuracy 0.6322\n",
      "Epoch 40, CIFAR-10 Batch 2:  loss: 0.779349 valid_accuracy 0.628\n",
      "Epoch 40, CIFAR-10 Batch 3:  loss: 0.676133 valid_accuracy 0.6494\n",
      "Epoch 40, CIFAR-10 Batch 4:  loss: 0.694669 valid_accuracy 0.6344\n",
      "Epoch 40, CIFAR-10 Batch 5:  loss: 0.6236 valid_accuracy 0.6442\n",
      "Epoch 41, CIFAR-10 Batch 1:  loss: 0.715983 valid_accuracy 0.6374\n",
      "Epoch 41, CIFAR-10 Batch 2:  loss: 0.758848 valid_accuracy 0.634\n",
      "Epoch 41, CIFAR-10 Batch 3:  loss: 0.674502 valid_accuracy 0.6412\n",
      "Epoch 41, CIFAR-10 Batch 4:  loss: 0.695694 valid_accuracy 0.6318\n",
      "Epoch 41, CIFAR-10 Batch 5:  loss: 0.63709 valid_accuracy 0.639\n",
      "Epoch 42, CIFAR-10 Batch 1:  loss: 0.688516 valid_accuracy 0.6434\n",
      "Epoch 42, CIFAR-10 Batch 2:  loss: 0.741526 valid_accuracy 0.6328\n",
      "Epoch 42, CIFAR-10 Batch 3:  loss: 0.650892 valid_accuracy 0.6448\n",
      "Epoch 42, CIFAR-10 Batch 4:  loss: 0.688881 valid_accuracy 0.6322\n",
      "Epoch 42, CIFAR-10 Batch 5:  loss: 0.655754 valid_accuracy 0.6284\n",
      "Epoch 43, CIFAR-10 Batch 1:  loss: 0.697355 valid_accuracy 0.6362\n",
      "Epoch 43, CIFAR-10 Batch 2:  loss: 0.7209 valid_accuracy 0.6408\n",
      "Epoch 43, CIFAR-10 Batch 3:  loss: 0.639272 valid_accuracy 0.6484\n",
      "Epoch 43, CIFAR-10 Batch 4:  loss: 0.704797 valid_accuracy 0.6256\n",
      "Epoch 43, CIFAR-10 Batch 5:  loss: 0.632212 valid_accuracy 0.6358\n",
      "Epoch 44, CIFAR-10 Batch 1:  loss: 0.679471 valid_accuracy 0.6424\n",
      "Epoch 44, CIFAR-10 Batch 2:  loss: 0.705232 valid_accuracy 0.6418\n",
      "Epoch 44, CIFAR-10 Batch 3:  loss: 0.64232 valid_accuracy 0.6462\n",
      "Epoch 44, CIFAR-10 Batch 4:  loss: 0.679359 valid_accuracy 0.632\n",
      "Epoch 44, CIFAR-10 Batch 5:  loss: 0.615119 valid_accuracy 0.638\n",
      "Epoch 45, CIFAR-10 Batch 1:  loss: 0.665004 valid_accuracy 0.6476\n",
      "Epoch 45, CIFAR-10 Batch 2:  loss: 0.696661 valid_accuracy 0.643\n",
      "Epoch 45, CIFAR-10 Batch 3:  loss: 0.635157 valid_accuracy 0.643\n",
      "Epoch 45, CIFAR-10 Batch 4:  loss: 0.660006 valid_accuracy 0.6368\n",
      "Epoch 45, CIFAR-10 Batch 5:  loss: 0.609961 valid_accuracy 0.639\n",
      "Epoch 46, CIFAR-10 Batch 1:  loss: 0.64499 valid_accuracy 0.6474\n",
      "Epoch 46, CIFAR-10 Batch 2:  loss: 0.687503 valid_accuracy 0.6414\n",
      "Epoch 46, CIFAR-10 Batch 3:  loss: 0.633952 valid_accuracy 0.6366\n",
      "Epoch 46, CIFAR-10 Batch 4:  loss: 0.653346 valid_accuracy 0.639\n",
      "Epoch 46, CIFAR-10 Batch 5:  loss: 0.594193 valid_accuracy 0.642\n",
      "Epoch 47, CIFAR-10 Batch 1:  loss: 0.640174 valid_accuracy 0.645\n",
      "Epoch 47, CIFAR-10 Batch 2:  loss: 0.671163 valid_accuracy 0.6444\n",
      "Epoch 47, CIFAR-10 Batch 3:  loss: 0.634708 valid_accuracy 0.6324\n",
      "Epoch 47, CIFAR-10 Batch 4:  loss: 0.675002 valid_accuracy 0.6282\n",
      "Epoch 47, CIFAR-10 Batch 5:  loss: 0.577225 valid_accuracy 0.6464\n",
      "Epoch 48, CIFAR-10 Batch 1:  loss: 0.636203 valid_accuracy 0.6468\n",
      "Epoch 48, CIFAR-10 Batch 2:  loss: 0.665019 valid_accuracy 0.6492\n",
      "Epoch 48, CIFAR-10 Batch 3:  loss: 0.616981 valid_accuracy 0.6404\n",
      "Epoch 48, CIFAR-10 Batch 4:  loss: 0.668315 valid_accuracy 0.6302\n",
      "Epoch 48, CIFAR-10 Batch 5:  loss: 0.568141 valid_accuracy 0.6434\n",
      "Epoch 49, CIFAR-10 Batch 1:  loss: 0.62638 valid_accuracy 0.649\n",
      "Epoch 49, CIFAR-10 Batch 2:  loss: 0.658437 valid_accuracy 0.648\n",
      "Epoch 49, CIFAR-10 Batch 3:  loss: 0.596161 valid_accuracy 0.6426\n",
      "Epoch 49, CIFAR-10 Batch 4:  loss: 0.647223 valid_accuracy 0.6382\n",
      "Epoch 49, CIFAR-10 Batch 5:  loss: 0.555839 valid_accuracy 0.6478\n",
      "Epoch 50, CIFAR-10 Batch 1:  loss: 0.622079 valid_accuracy 0.6532\n",
      "Epoch 50, CIFAR-10 Batch 2:  loss: 0.662878 valid_accuracy 0.6438\n",
      "Epoch 50, CIFAR-10 Batch 3:  loss: 0.610921 valid_accuracy 0.6438\n",
      "Epoch 50, CIFAR-10 Batch 4:  loss: 0.627873 valid_accuracy 0.6366\n",
      "Epoch 50, CIFAR-10 Batch 5:  loss: 0.563818 valid_accuracy 0.6464\n",
      "Epoch 51, CIFAR-10 Batch 1:  loss: 0.632035 valid_accuracy 0.6514\n",
      "Epoch 51, CIFAR-10 Batch 2:  loss: 0.653288 valid_accuracy 0.6496\n",
      "Epoch 51, CIFAR-10 Batch 3:  loss: 0.63394 valid_accuracy 0.6358\n",
      "Epoch 51, CIFAR-10 Batch 4:  loss: 0.651349 valid_accuracy 0.6262\n",
      "Epoch 51, CIFAR-10 Batch 5:  loss: 0.587705 valid_accuracy 0.6376\n",
      "Epoch 52, CIFAR-10 Batch 1:  loss: 0.637131 valid_accuracy 0.6466\n",
      "Epoch 52, CIFAR-10 Batch 2:  loss: 0.664999 valid_accuracy 0.642\n",
      "Epoch 52, CIFAR-10 Batch 3:  loss: 0.60705 valid_accuracy 0.6366\n",
      "Epoch 52, CIFAR-10 Batch 4:  loss: 0.709541 valid_accuracy 0.6084\n",
      "Epoch 52, CIFAR-10 Batch 5:  loss: 0.624605 valid_accuracy 0.6282\n",
      "Epoch 53, CIFAR-10 Batch 1:  loss: 0.659687 valid_accuracy 0.6422\n",
      "Epoch 53, CIFAR-10 Batch 2:  loss: 0.691925 valid_accuracy 0.6356\n",
      "Epoch 53, CIFAR-10 Batch 3:  loss: 0.598608 valid_accuracy 0.636\n",
      "Epoch 53, CIFAR-10 Batch 4:  loss: 0.682223 valid_accuracy 0.6164\n",
      "Epoch 53, CIFAR-10 Batch 5:  loss: 0.644509 valid_accuracy 0.6142\n",
      "Epoch 54, CIFAR-10 Batch 1:  loss: 0.650079 valid_accuracy 0.6402\n",
      "Epoch 54, CIFAR-10 Batch 2:  loss: 0.649987 valid_accuracy 0.6496\n",
      "Epoch 54, CIFAR-10 Batch 3:  loss: 0.594372 valid_accuracy 0.6376\n",
      "Epoch 54, CIFAR-10 Batch 4:  loss: 0.671119 valid_accuracy 0.6178\n",
      "Epoch 54, CIFAR-10 Batch 5:  loss: 0.60492 valid_accuracy 0.62\n",
      "Epoch 55, CIFAR-10 Batch 1:  loss: 0.628253 valid_accuracy 0.6544\n",
      "Epoch 55, CIFAR-10 Batch 2:  loss: 0.672474 valid_accuracy 0.6404\n",
      "Epoch 55, CIFAR-10 Batch 3:  loss: 0.557795 valid_accuracy 0.6548\n",
      "Epoch 55, CIFAR-10 Batch 4:  loss: 0.583346 valid_accuracy 0.6482\n",
      "Epoch 55, CIFAR-10 Batch 5:  loss: 0.573034 valid_accuracy 0.6378\n",
      "Epoch 56, CIFAR-10 Batch 1:  loss: 0.61698 valid_accuracy 0.6518\n",
      "Epoch 56, CIFAR-10 Batch 2:  loss: 0.659273 valid_accuracy 0.6432\n",
      "Epoch 56, CIFAR-10 Batch 3:  loss: 0.548169 valid_accuracy 0.6526\n",
      "Epoch 56, CIFAR-10 Batch 4:  loss: 0.56956 valid_accuracy 0.649\n",
      "Epoch 56, CIFAR-10 Batch 5:  loss: 0.555204 valid_accuracy 0.64\n",
      "Epoch 57, CIFAR-10 Batch 1:  loss: 0.616555 valid_accuracy 0.6508\n",
      "Epoch 57, CIFAR-10 Batch 2:  loss: 0.639669 valid_accuracy 0.6522\n",
      "Epoch 57, CIFAR-10 Batch 3:  loss: 0.523221 valid_accuracy 0.6548\n",
      "Epoch 57, CIFAR-10 Batch 4:  loss: 0.571326 valid_accuracy 0.6444\n",
      "Epoch 57, CIFAR-10 Batch 5:  loss: 0.529631 valid_accuracy 0.6438\n",
      "Epoch 58, CIFAR-10 Batch 1:  loss: 0.623366 valid_accuracy 0.6438\n",
      "Epoch 58, CIFAR-10 Batch 2:  loss: 0.621892 valid_accuracy 0.6556\n",
      "Epoch 58, CIFAR-10 Batch 3:  loss: 0.51445 valid_accuracy 0.6564\n",
      "Epoch 58, CIFAR-10 Batch 4:  loss: 0.566999 valid_accuracy 0.6422\n",
      "Epoch 58, CIFAR-10 Batch 5:  loss: 0.509743 valid_accuracy 0.6424\n",
      "Epoch 59, CIFAR-10 Batch 1:  loss: 0.611925 valid_accuracy 0.6426\n",
      "Epoch 59, CIFAR-10 Batch 2:  loss: 0.610653 valid_accuracy 0.6552\n",
      "Epoch 59, CIFAR-10 Batch 3:  loss: 0.506634 valid_accuracy 0.653\n",
      "Epoch 59, CIFAR-10 Batch 4:  loss: 0.569527 valid_accuracy 0.6384\n",
      "Epoch 59, CIFAR-10 Batch 5:  loss: 0.495589 valid_accuracy 0.6436\n",
      "Epoch 60, CIFAR-10 Batch 1:  loss: 0.606983 valid_accuracy 0.6416\n",
      "Epoch 60, CIFAR-10 Batch 2:  loss: 0.604818 valid_accuracy 0.6526\n",
      "Epoch 60, CIFAR-10 Batch 3:  loss: 0.505653 valid_accuracy 0.6502\n",
      "Epoch 60, CIFAR-10 Batch 4:  loss: 0.571804 valid_accuracy 0.6352\n",
      "Epoch 60, CIFAR-10 Batch 5:  loss: 0.486968 valid_accuracy 0.6466\n",
      "Epoch 61, CIFAR-10 Batch 1:  loss: 0.590666 valid_accuracy 0.6444\n",
      "Epoch 61, CIFAR-10 Batch 2:  loss: 0.62172 valid_accuracy 0.6426\n",
      "Epoch 61, CIFAR-10 Batch 3:  loss: 0.539905 valid_accuracy 0.64\n",
      "Epoch 61, CIFAR-10 Batch 4:  loss: 0.605135 valid_accuracy 0.6174\n",
      "Epoch 61, CIFAR-10 Batch 5:  loss: 0.517474 valid_accuracy 0.6432\n",
      "Epoch 62, CIFAR-10 Batch 1:  loss: 0.552163 valid_accuracy 0.6632\n",
      "Epoch 62, CIFAR-10 Batch 2:  loss: 0.588923 valid_accuracy 0.6524\n",
      "Epoch 62, CIFAR-10 Batch 3:  loss: 0.509968 valid_accuracy 0.6448\n",
      "Epoch 62, CIFAR-10 Batch 4:  loss: 0.554686 valid_accuracy 0.6382\n",
      "Epoch 62, CIFAR-10 Batch 5:  loss: 0.505382 valid_accuracy 0.6452\n",
      "Epoch 63, CIFAR-10 Batch 1:  loss: 0.544697 valid_accuracy 0.658\n",
      "Epoch 63, CIFAR-10 Batch 2:  loss: 0.581307 valid_accuracy 0.6542\n",
      "Epoch 63, CIFAR-10 Batch 3:  loss: 0.490927 valid_accuracy 0.6534\n",
      "Epoch 63, CIFAR-10 Batch 4:  loss: 0.537113 valid_accuracy 0.6416\n",
      "Epoch 63, CIFAR-10 Batch 5:  loss: 0.508774 valid_accuracy 0.6384\n",
      "Epoch 64, CIFAR-10 Batch 1:  loss: 0.534737 valid_accuracy 0.6582\n",
      "Epoch 64, CIFAR-10 Batch 2:  loss: 0.574922 valid_accuracy 0.6558\n",
      "Epoch 64, CIFAR-10 Batch 3:  loss: 0.48053 valid_accuracy 0.6542\n",
      "Epoch 64, CIFAR-10 Batch 4:  loss: 0.522335 valid_accuracy 0.646\n",
      "Epoch 64, CIFAR-10 Batch 5:  loss: 0.511201 valid_accuracy 0.6352\n",
      "Epoch 65, CIFAR-10 Batch 1:  loss: 0.526646 valid_accuracy 0.6582\n",
      "Epoch 65, CIFAR-10 Batch 2:  loss: 0.569043 valid_accuracy 0.6552\n",
      "Epoch 65, CIFAR-10 Batch 3:  loss: 0.471928 valid_accuracy 0.6572\n",
      "Epoch 65, CIFAR-10 Batch 4:  loss: 0.504869 valid_accuracy 0.6492\n",
      "Epoch 65, CIFAR-10 Batch 5:  loss: 0.51063 valid_accuracy 0.6342\n",
      "Epoch 66, CIFAR-10 Batch 1:  loss: 0.520768 valid_accuracy 0.6538\n",
      "Epoch 66, CIFAR-10 Batch 2:  loss: 0.568401 valid_accuracy 0.6546\n",
      "Epoch 66, CIFAR-10 Batch 3:  loss: 0.472646 valid_accuracy 0.6522\n",
      "Epoch 66, CIFAR-10 Batch 4:  loss: 0.495864 valid_accuracy 0.6492\n",
      "Epoch 66, CIFAR-10 Batch 5:  loss: 0.503774 valid_accuracy 0.6366\n",
      "Epoch 67, CIFAR-10 Batch 1:  loss: 0.521685 valid_accuracy 0.6476\n",
      "Epoch 67, CIFAR-10 Batch 2:  loss: 0.567637 valid_accuracy 0.6532\n",
      "Epoch 67, CIFAR-10 Batch 3:  loss: 0.468728 valid_accuracy 0.6514\n",
      "Epoch 67, CIFAR-10 Batch 4:  loss: 0.490813 valid_accuracy 0.651\n",
      "Epoch 67, CIFAR-10 Batch 5:  loss: 0.495923 valid_accuracy 0.6334\n",
      "Epoch 68, CIFAR-10 Batch 1:  loss: 0.525393 valid_accuracy 0.6436\n",
      "Epoch 68, CIFAR-10 Batch 2:  loss: 0.583369 valid_accuracy 0.6476\n",
      "Epoch 68, CIFAR-10 Batch 3:  loss: 0.459459 valid_accuracy 0.6538\n",
      "Epoch 68, CIFAR-10 Batch 4:  loss: 0.483091 valid_accuracy 0.6544\n",
      "Epoch 68, CIFAR-10 Batch 5:  loss: 0.493742 valid_accuracy 0.632\n",
      "Epoch 69, CIFAR-10 Batch 1:  loss: 0.515052 valid_accuracy 0.6468\n",
      "Epoch 69, CIFAR-10 Batch 2:  loss: 0.602205 valid_accuracy 0.6372\n",
      "Epoch 69, CIFAR-10 Batch 3:  loss: 0.460911 valid_accuracy 0.6502\n",
      "Epoch 69, CIFAR-10 Batch 4:  loss: 0.476224 valid_accuracy 0.6492\n",
      "Epoch 69, CIFAR-10 Batch 5:  loss: 0.510119 valid_accuracy 0.6258\n",
      "Epoch 70, CIFAR-10 Batch 1:  loss: 0.523401 valid_accuracy 0.6398\n",
      "Epoch 70, CIFAR-10 Batch 2:  loss: 0.60146 valid_accuracy 0.6412\n",
      "Epoch 70, CIFAR-10 Batch 3:  loss: 0.506123 valid_accuracy 0.6358\n",
      "Epoch 70, CIFAR-10 Batch 4:  loss: 0.493303 valid_accuracy 0.641\n",
      "Epoch 70, CIFAR-10 Batch 5:  loss: 0.492808 valid_accuracy 0.6268\n",
      "Epoch 71, CIFAR-10 Batch 1:  loss: 0.520712 valid_accuracy 0.6404\n",
      "Epoch 71, CIFAR-10 Batch 2:  loss: 0.570021 valid_accuracy 0.6458\n",
      "Epoch 71, CIFAR-10 Batch 3:  loss: 0.528818 valid_accuracy 0.6266\n",
      "Epoch 71, CIFAR-10 Batch 4:  loss: 0.502592 valid_accuracy 0.6442\n",
      "Epoch 71, CIFAR-10 Batch 5:  loss: 0.497074 valid_accuracy 0.6266\n",
      "Epoch 72, CIFAR-10 Batch 1:  loss: 0.543333 valid_accuracy 0.6292\n",
      "Epoch 72, CIFAR-10 Batch 2:  loss: 0.574691 valid_accuracy 0.6384\n",
      "Epoch 72, CIFAR-10 Batch 3:  loss: 0.546292 valid_accuracy 0.616\n",
      "Epoch 72, CIFAR-10 Batch 4:  loss: 0.550066 valid_accuracy 0.6314\n",
      "Epoch 72, CIFAR-10 Batch 5:  loss: 0.482119 valid_accuracy 0.6248\n",
      "Epoch 73, CIFAR-10 Batch 1:  loss: 0.497622 valid_accuracy 0.6452\n",
      "Epoch 73, CIFAR-10 Batch 2:  loss: 0.567105 valid_accuracy 0.6426\n",
      "Epoch 73, CIFAR-10 Batch 3:  loss: 0.467709 valid_accuracy 0.6452\n",
      "Epoch 73, CIFAR-10 Batch 4:  loss: 0.508227 valid_accuracy 0.6404\n",
      "Epoch 73, CIFAR-10 Batch 5:  loss: 0.467024 valid_accuracy 0.6456\n",
      "Epoch 74, CIFAR-10 Batch 1:  loss: 0.546166 valid_accuracy 0.6404\n",
      "Epoch 74, CIFAR-10 Batch 2:  loss: 0.591939 valid_accuracy 0.6332\n",
      "Epoch 74, CIFAR-10 Batch 3:  loss: 0.442767 valid_accuracy 0.6534\n",
      "Epoch 74, CIFAR-10 Batch 4:  loss: 0.491819 valid_accuracy 0.6404\n",
      "Epoch 74, CIFAR-10 Batch 5:  loss: 0.446752 valid_accuracy 0.6462\n",
      "Epoch 75, CIFAR-10 Batch 1:  loss: 0.509418 valid_accuracy 0.6446\n",
      "Epoch 75, CIFAR-10 Batch 2:  loss: 0.550374 valid_accuracy 0.6422\n",
      "Epoch 75, CIFAR-10 Batch 3:  loss: 0.429751 valid_accuracy 0.6576\n",
      "Epoch 75, CIFAR-10 Batch 4:  loss: 0.475902 valid_accuracy 0.6446\n",
      "Epoch 75, CIFAR-10 Batch 5:  loss: 0.430855 valid_accuracy 0.6472\n",
      "Epoch 76, CIFAR-10 Batch 1:  loss: 0.490299 valid_accuracy 0.6456\n",
      "Epoch 76, CIFAR-10 Batch 2:  loss: 0.521463 valid_accuracy 0.6448\n",
      "Epoch 76, CIFAR-10 Batch 3:  loss: 0.426187 valid_accuracy 0.6584\n",
      "Epoch 76, CIFAR-10 Batch 4:  loss: 0.467227 valid_accuracy 0.644\n",
      "Epoch 76, CIFAR-10 Batch 5:  loss: 0.418874 valid_accuracy 0.6454\n",
      "Epoch 77, CIFAR-10 Batch 1:  loss: 0.477741 valid_accuracy 0.647\n",
      "Epoch 77, CIFAR-10 Batch 2:  loss: 0.50434 valid_accuracy 0.648\n",
      "Epoch 77, CIFAR-10 Batch 3:  loss: 0.425387 valid_accuracy 0.6564\n",
      "Epoch 77, CIFAR-10 Batch 4:  loss: 0.460807 valid_accuracy 0.6428\n",
      "Epoch 77, CIFAR-10 Batch 5:  loss: 0.414003 valid_accuracy 0.6446\n",
      "Epoch 78, CIFAR-10 Batch 1:  loss: 0.473713 valid_accuracy 0.6464\n",
      "Epoch 78, CIFAR-10 Batch 2:  loss: 0.492373 valid_accuracy 0.651\n",
      "Epoch 78, CIFAR-10 Batch 3:  loss: 0.420523 valid_accuracy 0.6604\n",
      "Epoch 78, CIFAR-10 Batch 4:  loss: 0.448964 valid_accuracy 0.6446\n",
      "Epoch 78, CIFAR-10 Batch 5:  loss: 0.415353 valid_accuracy 0.6446\n",
      "Epoch 79, CIFAR-10 Batch 1:  loss: 0.469519 valid_accuracy 0.6454\n",
      "Epoch 79, CIFAR-10 Batch 2:  loss: 0.481848 valid_accuracy 0.6504\n",
      "Epoch 79, CIFAR-10 Batch 3:  loss: 0.418188 valid_accuracy 0.6564\n",
      "Epoch 79, CIFAR-10 Batch 4:  loss: 0.448943 valid_accuracy 0.6426\n",
      "Epoch 79, CIFAR-10 Batch 5:  loss: 0.416481 valid_accuracy 0.6424\n",
      "Epoch 80, CIFAR-10 Batch 1:  loss: 0.468701 valid_accuracy 0.6446\n",
      "Epoch 80, CIFAR-10 Batch 2:  loss: 0.481687 valid_accuracy 0.6494\n",
      "Epoch 80, CIFAR-10 Batch 3:  loss: 0.40951 valid_accuracy 0.6542\n",
      "Epoch 80, CIFAR-10 Batch 4:  loss: 0.452207 valid_accuracy 0.643\n",
      "Epoch 80, CIFAR-10 Batch 5:  loss: 0.421383 valid_accuracy 0.6394\n",
      "Epoch 81, CIFAR-10 Batch 1:  loss: 0.456044 valid_accuracy 0.6478\n",
      "Epoch 81, CIFAR-10 Batch 2:  loss: 0.490782 valid_accuracy 0.6474\n",
      "Epoch 81, CIFAR-10 Batch 3:  loss: 0.398676 valid_accuracy 0.6584\n",
      "Epoch 81, CIFAR-10 Batch 4:  loss: 0.467121 valid_accuracy 0.6384\n",
      "Epoch 81, CIFAR-10 Batch 5:  loss: 0.429771 valid_accuracy 0.6366\n",
      "Epoch 82, CIFAR-10 Batch 1:  loss: 0.44338 valid_accuracy 0.65\n",
      "Epoch 82, CIFAR-10 Batch 2:  loss: 0.489995 valid_accuracy 0.6488\n",
      "Epoch 82, CIFAR-10 Batch 3:  loss: 0.395348 valid_accuracy 0.654\n",
      "Epoch 82, CIFAR-10 Batch 4:  loss: 0.447725 valid_accuracy 0.641\n",
      "Epoch 82, CIFAR-10 Batch 5:  loss: 0.426311 valid_accuracy 0.6414\n",
      "Epoch 83, CIFAR-10 Batch 1:  loss: 0.449896 valid_accuracy 0.6482\n",
      "Epoch 83, CIFAR-10 Batch 2:  loss: 0.483585 valid_accuracy 0.651\n",
      "Epoch 83, CIFAR-10 Batch 3:  loss: 0.427184 valid_accuracy 0.6394\n",
      "Epoch 83, CIFAR-10 Batch 4:  loss: 0.41304 valid_accuracy 0.6492\n",
      "Epoch 83, CIFAR-10 Batch 5:  loss: 0.385523 valid_accuracy 0.6426\n",
      "Epoch 84, CIFAR-10 Batch 1:  loss: 0.451509 valid_accuracy 0.646\n",
      "Epoch 84, CIFAR-10 Batch 2:  loss: 0.548621 valid_accuracy 0.639\n",
      "Epoch 84, CIFAR-10 Batch 3:  loss: 0.49638 valid_accuracy 0.6204\n",
      "Epoch 84, CIFAR-10 Batch 4:  loss: 0.510734 valid_accuracy 0.626\n",
      "Epoch 84, CIFAR-10 Batch 5:  loss: 0.402589 valid_accuracy 0.6312\n",
      "Epoch 85, CIFAR-10 Batch 1:  loss: 0.517292 valid_accuracy 0.6448\n",
      "Epoch 85, CIFAR-10 Batch 2:  loss: 0.518958 valid_accuracy 0.6446\n",
      "Epoch 85, CIFAR-10 Batch 3:  loss: 0.412097 valid_accuracy 0.6458\n",
      "Epoch 85, CIFAR-10 Batch 4:  loss: 0.443183 valid_accuracy 0.6424\n",
      "Epoch 85, CIFAR-10 Batch 5:  loss: 0.487619 valid_accuracy 0.6186\n",
      "Epoch 86, CIFAR-10 Batch 1:  loss: 0.453577 valid_accuracy 0.6524\n",
      "Epoch 86, CIFAR-10 Batch 2:  loss: 0.489933 valid_accuracy 0.6432\n",
      "Epoch 86, CIFAR-10 Batch 3:  loss: 0.417672 valid_accuracy 0.6462\n",
      "Epoch 86, CIFAR-10 Batch 4:  loss: 0.42042 valid_accuracy 0.6446\n",
      "Epoch 86, CIFAR-10 Batch 5:  loss: 0.468181 valid_accuracy 0.616\n",
      "Epoch 87, CIFAR-10 Batch 1:  loss: 0.450134 valid_accuracy 0.648\n",
      "Epoch 87, CIFAR-10 Batch 2:  loss: 0.479277 valid_accuracy 0.6438\n",
      "Epoch 87, CIFAR-10 Batch 3:  loss: 0.39703 valid_accuracy 0.6464\n",
      "Epoch 87, CIFAR-10 Batch 4:  loss: 0.400669 valid_accuracy 0.6526\n",
      "Epoch 87, CIFAR-10 Batch 5:  loss: 0.461842 valid_accuracy 0.6136\n",
      "Epoch 88, CIFAR-10 Batch 1:  loss: 0.453588 valid_accuracy 0.6464\n",
      "Epoch 88, CIFAR-10 Batch 2:  loss: 0.486678 valid_accuracy 0.6428\n",
      "Epoch 88, CIFAR-10 Batch 3:  loss: 0.393199 valid_accuracy 0.6448\n",
      "Epoch 88, CIFAR-10 Batch 4:  loss: 0.391255 valid_accuracy 0.6504\n",
      "Epoch 88, CIFAR-10 Batch 5:  loss: 0.471036 valid_accuracy 0.6064\n",
      "Epoch 89, CIFAR-10 Batch 1:  loss: 0.438931 valid_accuracy 0.6508\n",
      "Epoch 89, CIFAR-10 Batch 2:  loss: 0.485235 valid_accuracy 0.643\n",
      "Epoch 89, CIFAR-10 Batch 3:  loss: 0.415049 valid_accuracy 0.6338\n",
      "Epoch 89, CIFAR-10 Batch 4:  loss: 0.389264 valid_accuracy 0.6436\n",
      "Epoch 89, CIFAR-10 Batch 5:  loss: 0.460291 valid_accuracy 0.6108\n",
      "Epoch 90, CIFAR-10 Batch 1:  loss: 0.498059 valid_accuracy 0.6388\n",
      "Epoch 90, CIFAR-10 Batch 2:  loss: 0.504201 valid_accuracy 0.638\n",
      "Epoch 90, CIFAR-10 Batch 3:  loss: 0.436359 valid_accuracy 0.629\n",
      "Epoch 90, CIFAR-10 Batch 4:  loss: 0.456498 valid_accuracy 0.6256\n",
      "Epoch 90, CIFAR-10 Batch 5:  loss: 0.425061 valid_accuracy 0.6274\n",
      "Epoch 91, CIFAR-10 Batch 1:  loss: 0.556872 valid_accuracy 0.6216\n",
      "Epoch 91, CIFAR-10 Batch 2:  loss: 0.493359 valid_accuracy 0.6438\n",
      "Epoch 91, CIFAR-10 Batch 3:  loss: 0.434638 valid_accuracy 0.6232\n",
      "Epoch 91, CIFAR-10 Batch 4:  loss: 0.485119 valid_accuracy 0.618\n",
      "Epoch 91, CIFAR-10 Batch 5:  loss: 0.445615 valid_accuracy 0.6248\n",
      "Epoch 92, CIFAR-10 Batch 1:  loss: 0.561353 valid_accuracy 0.6092\n",
      "Epoch 92, CIFAR-10 Batch 2:  loss: 0.589198 valid_accuracy 0.6276\n",
      "Epoch 92, CIFAR-10 Batch 3:  loss: 0.475399 valid_accuracy 0.614\n",
      "Epoch 92, CIFAR-10 Batch 4:  loss: 0.421071 valid_accuracy 0.6404\n",
      "Epoch 92, CIFAR-10 Batch 5:  loss: 0.452042 valid_accuracy 0.6254\n",
      "Epoch 93, CIFAR-10 Batch 1:  loss: 0.507468 valid_accuracy 0.64\n",
      "Epoch 93, CIFAR-10 Batch 2:  loss: 0.527578 valid_accuracy 0.6344\n",
      "Epoch 93, CIFAR-10 Batch 3:  loss: 0.42006 valid_accuracy 0.6364\n",
      "Epoch 93, CIFAR-10 Batch 4:  loss: 0.436168 valid_accuracy 0.6358\n",
      "Epoch 93, CIFAR-10 Batch 5:  loss: 0.431654 valid_accuracy 0.6302\n",
      "Epoch 94, CIFAR-10 Batch 1:  loss: 0.464556 valid_accuracy 0.6444\n",
      "Epoch 94, CIFAR-10 Batch 2:  loss: 0.486895 valid_accuracy 0.6416\n",
      "Epoch 94, CIFAR-10 Batch 3:  loss: 0.408853 valid_accuracy 0.637\n",
      "Epoch 94, CIFAR-10 Batch 4:  loss: 0.424609 valid_accuracy 0.6376\n",
      "Epoch 94, CIFAR-10 Batch 5:  loss: 0.387492 valid_accuracy 0.641\n",
      "Epoch 95, CIFAR-10 Batch 1:  loss: 0.421301 valid_accuracy 0.6478\n",
      "Epoch 95, CIFAR-10 Batch 2:  loss: 0.499284 valid_accuracy 0.6372\n",
      "Epoch 95, CIFAR-10 Batch 3:  loss: 0.415587 valid_accuracy 0.6372\n",
      "Epoch 95, CIFAR-10 Batch 4:  loss: 0.429251 valid_accuracy 0.6374\n",
      "Epoch 95, CIFAR-10 Batch 5:  loss: 0.413559 valid_accuracy 0.636\n",
      "Epoch 96, CIFAR-10 Batch 1:  loss: 0.455477 valid_accuracy 0.6326\n",
      "Epoch 96, CIFAR-10 Batch 2:  loss: 0.54679 valid_accuracy 0.6296\n",
      "Epoch 96, CIFAR-10 Batch 3:  loss: 0.419216 valid_accuracy 0.6332\n",
      "Epoch 96, CIFAR-10 Batch 4:  loss: 0.413351 valid_accuracy 0.637\n",
      "Epoch 96, CIFAR-10 Batch 5:  loss: 0.425606 valid_accuracy 0.6276\n",
      "Epoch 97, CIFAR-10 Batch 1:  loss: 0.444273 valid_accuracy 0.6334\n",
      "Epoch 97, CIFAR-10 Batch 2:  loss: 0.543948 valid_accuracy 0.6274\n",
      "Epoch 97, CIFAR-10 Batch 3:  loss: 0.402663 valid_accuracy 0.643\n",
      "Epoch 97, CIFAR-10 Batch 4:  loss: 0.397547 valid_accuracy 0.6384\n",
      "Epoch 97, CIFAR-10 Batch 5:  loss: 0.39582 valid_accuracy 0.6294\n",
      "Epoch 98, CIFAR-10 Batch 1:  loss: 0.41563 valid_accuracy 0.636\n",
      "Epoch 98, CIFAR-10 Batch 2:  loss: 0.544296 valid_accuracy 0.6286\n",
      "Epoch 98, CIFAR-10 Batch 3:  loss: 0.422324 valid_accuracy 0.635\n",
      "Epoch 98, CIFAR-10 Batch 4:  loss: 0.391248 valid_accuracy 0.6396\n",
      "Epoch 98, CIFAR-10 Batch 5:  loss: 0.402468 valid_accuracy 0.6276\n",
      "Epoch 99, CIFAR-10 Batch 1:  loss: 0.448666 valid_accuracy 0.632\n",
      "Epoch 99, CIFAR-10 Batch 2:  loss: 0.44429 valid_accuracy 0.6466\n",
      "Epoch 99, CIFAR-10 Batch 3:  loss: 0.430757 valid_accuracy 0.6322\n",
      "Epoch 99, CIFAR-10 Batch 4:  loss: 0.49856 valid_accuracy 0.625\n",
      "Epoch 99, CIFAR-10 Batch 5:  loss: 0.414925 valid_accuracy 0.6334\n",
      "Epoch 100, CIFAR-10 Batch 1:  loss: 0.408409 valid_accuracy 0.639\n",
      "Epoch 100, CIFAR-10 Batch 2:  loss: 0.486295 valid_accuracy 0.6446\n",
      "Epoch 100, CIFAR-10 Batch 3:  loss: 0.382535 valid_accuracy 0.6386\n",
      "Epoch 100, CIFAR-10 Batch 4:  loss: 0.396566 valid_accuracy 0.6422\n",
      "Epoch 100, CIFAR-10 Batch 5:  loss: 0.372207 valid_accuracy 0.6326\n"
     ]
    }
   ],
   "source": [
    "\"\"\"\n",
    "DON'T MODIFY ANYTHING IN THIS CELL\n",
    "\"\"\"\n",
    "save_model_path = './image_classification'\n",
    "\n",
    "print('Training...')\n",
    "with tf.Session() as sess:\n",
    "    # Initializing the variables\n",
    "    sess.run(tf.global_variables_initializer())\n",
    "    \n",
    "    # Training cycle\n",
    "    for epoch in range(epochs):\n",
    "        # Loop over all batches\n",
    "        n_batches = 5\n",
    "        for batch_i in range(1, n_batches + 1):\n",
    "            for batch_features, batch_labels in helper.load_preprocess_training_batch(batch_i, batch_size):\n",
    "                train_neural_network(sess, optimizer, keep_probability, batch_features, batch_labels)\n",
    "            print('Epoch {:>2}, CIFAR-10 Batch {}:  '.format(epoch + 1, batch_i), end='')\n",
    "            print_stats(sess, batch_features, batch_labels, cost, accuracy)\n",
    "            \n",
    "    # Save Model\n",
    "    saver = tf.train.Saver()\n",
    "    save_path = saver.save(sess, save_model_path)"
   ]
  },
  {
   "cell_type": "markdown",
   "metadata": {
    "deletable": true,
    "editable": true
   },
   "source": [
    "# Checkpoint\n",
    "The model has been saved to disk.\n",
    "## Test Model\n",
    "Test your model against the test dataset.  This will be your final accuracy. You should have an accuracy greater than 50%. If you don't, keep tweaking the model architecture and parameters."
   ]
  },
  {
   "cell_type": "code",
   "execution_count": 18,
   "metadata": {
    "collapsed": false,
    "deletable": true,
    "editable": true
   },
   "outputs": [
    {
     "name": "stdout",
     "output_type": "stream",
     "text": [
      "Testing Accuracy: 0.633390462398529\n",
      "\n"
     ]
    },
    {
     "data": {
      "image/png": "[encoded data removed]",
      "text/plain": [
       "<matplotlib.figure.Figure at 0x7fc178186be0>"
      ]
     },
     "metadata": {
      "image/png": {
       "height": 319,
       "width": 355
      }
     },
     "output_type": "display_data"
    }
   ],
   "source": [
    "\"\"\"\n",
    "DON'T MODIFY ANYTHING IN THIS CELL\n",
    "\"\"\"\n",
    "%matplotlib inline\n",
    "%config InlineBackend.figure_format = 'retina'\n",
    "\n",
    "import tensorflow as tf\n",
    "import pickle\n",
    "import helper\n",
    "import random\n",
    "\n",
    "# Set batch size if not already set\n",
    "try:\n",
    "    if batch_size:\n",
    "        pass\n",
    "except NameError:\n",
    "    batch_size = 64\n",
    "\n",
    "save_model_path = './image_classification'\n",
    "n_samples = 4\n",
    "top_n_predictions = 3\n",
    "\n",
    "def test_model():\n",
    "    \"\"\"\n",
    "    Test the saved model against the test dataset\n",
    "    \"\"\"\n",
    "\n",
    "    test_features, test_labels = pickle.load(open('preprocess_training.p', mode='rb'))\n",
    "    loaded_graph = tf.Graph()\n",
    "\n",
    "    with tf.Session(graph=loaded_graph) as sess:\n",
    "        # Load model\n",
    "        loader = tf.train.import_meta_graph(save_model_path + '.meta')\n",
    "        loader.restore(sess, save_model_path)\n",
    "\n",
    "        # Get Tensors from loaded model\n",
    "        loaded_x = loaded_graph.get_tensor_by_name('x:0')\n",
    "        loaded_y = loaded_graph.get_tensor_by_name('y:0')\n",
    "        loaded_keep_prob = loaded_graph.get_tensor_by_name('keep_prob:0')\n",
    "        loaded_logits = loaded_graph.get_tensor_by_name('logits:0')\n",
    "        loaded_acc = loaded_graph.get_tensor_by_name('accuracy:0')\n",
    "        \n",
    "        # Get accuracy in batches for memory limitations\n",
    "        test_batch_acc_total = 0\n",
    "        test_batch_count = 0\n",
    "        \n",
    "        for train_feature_batch, train_label_batch in helper.batch_features_labels(test_features, test_labels, batch_size):\n",
    "            test_batch_acc_total += sess.run(\n",
    "                loaded_acc,\n",
    "                feed_dict={loaded_x: train_feature_batch, loaded_y: train_label_batch, loaded_keep_prob: 1.0})\n",
    "            test_batch_count += 1\n",
    "\n",
    "        print('Testing Accuracy: {}\\n'.format(test_batch_acc_total/test_batch_count))\n",
    "\n",
    "        # Print Random Samples\n",
    "        random_test_features, random_test_labels = tuple(zip(*random.sample(list(zip(test_features, test_labels)), n_samples)))\n",
    "        random_test_predictions = sess.run(\n",
    "            tf.nn.top_k(tf.nn.softmax(loaded_logits), top_n_predictions),\n",
    "            feed_dict={loaded_x: random_test_features, loaded_y: random_test_labels, loaded_keep_prob: 1.0})\n",
    "        helper.display_image_predictions(random_test_features, random_test_labels, random_test_predictions)\n",
    "\n",
    "\n",
    "test_model()"
   ]
  },
  {
   "cell_type": "markdown",
   "metadata": {
    "deletable": true,
    "editable": true
   },
   "source": [
    "## Why 50-70% Accuracy?\n",
    "You might be wondering why you can't get an accuracy any higher. First things first, 50% isn't bad for a simple CNN.  Pure guessing would get you 10% accuracy. However, you might notice people are getting scores [well above 70%](http://rodrigob.github.io/are_we_there_yet/build/classification_datasets_results.html#43494641522d3130).  That's because we haven't taught you all there is to know about neural networks. We still need to cover a few more techniques.\n",
    "## Submitting This Project\n",
    "When submitting this project, make sure to run all the cells before saving the notebook.  Save the notebook file as \"dlnd_image_classification.ipynb\" and save it as a HTML file under \"File\" -> \"Download as\".  Include the \"helper.py\" and \"problem_unittests.py\" files in your submission."
   ]
  }
 ],
 "metadata": {
  "kernelspec": {
   "display_name": "Python 3",
   "language": "python",
   "name": "python3"
  },
  "language_info": {
   "codemirror_mode": {
    "name": "ipython",
    "version": 3
   },
   "file_extension": ".py",
   "mimetype": "text/x-python",
   "name": "python",
   "nbconvert_exporter": "python",
   "pygments_lexer": "ipython3",
   "version": "3.5.2"
  },
  "widgets": {
   "state": {},
   "version": "1.1.2"
  }
 },
 "nbformat": 4,
 "nbformat_minor": 0
}
